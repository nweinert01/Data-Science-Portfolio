{
 "cells": [
  {
   "cell_type": "code",
   "execution_count": 5,
   "id": "701ae21a-2e4c-48ef-98e4-266eadf9031f",
   "metadata": {},
   "outputs": [
    {
     "name": "stderr",
     "output_type": "stream",
     "text": [
      "Warning message:\n",
      "\"package 'rcompanion' was built under R version 4.1.3\"\n"
     ]
    }
   ],
   "source": [
    "library(rcompanion)"
   ]
  },
  {
   "cell_type": "code",
   "execution_count": 2,
   "id": "ad41b40e-b38e-4f51-a0fc-34c5d76f1333",
   "metadata": {},
   "outputs": [],
   "source": [
    "cruise_ship <- read.csv(\"cruise_ship.csv\")"
   ]
  },
  {
   "cell_type": "code",
   "execution_count": 3,
   "id": "d2ecf3db-987b-4cc5-b234-c83c6c861d84",
   "metadata": {},
   "outputs": [
    {
     "data": {
      "text/html": [
       "<table class=\"dataframe\">\n",
       "<caption>A data.frame: 5 × 10</caption>\n",
       "<thead>\n",
       "\t<tr><th></th><th scope=col>Ship</th><th scope=col>Line</th><th scope=col>YearBlt</th><th scope=col>Tonnage</th><th scope=col>passngrs</th><th scope=col>Length</th><th scope=col>Cabins</th><th scope=col>Crew</th><th scope=col>PassSpcR</th><th scope=col>outcab</th></tr>\n",
       "\t<tr><th></th><th scope=col>&lt;chr&gt;</th><th scope=col>&lt;chr&gt;</th><th scope=col>&lt;int&gt;</th><th scope=col>&lt;int&gt;</th><th scope=col>&lt;int&gt;</th><th scope=col>&lt;int&gt;</th><th scope=col>&lt;int&gt;</th><th scope=col>&lt;int&gt;</th><th scope=col>&lt;dbl&gt;</th><th scope=col>&lt;int&gt;</th></tr>\n",
       "</thead>\n",
       "<tbody>\n",
       "\t<tr><th scope=row>1</th><td>Journey    </td><td>Azamara </td><td>2007</td><td> 30277</td><td> 694</td><td>594</td><td> 355</td><td> 355</td><td>42.64</td><td>329</td></tr>\n",
       "\t<tr><th scope=row>2</th><td>Quest      </td><td>Azamara </td><td>2007</td><td> 30277</td><td> 694</td><td>594</td><td> 355</td><td> 355</td><td>42.64</td><td>329</td></tr>\n",
       "\t<tr><th scope=row>3</th><td>Celebration</td><td>Carnival</td><td>1987</td><td> 47262</td><td>1486</td><td>722</td><td> 743</td><td> 670</td><td>31.80</td><td>453</td></tr>\n",
       "\t<tr><th scope=row>4</th><td>Conquest   </td><td>Carnival</td><td>2002</td><td>110000</td><td>2974</td><td>953</td><td>1488</td><td>1910</td><td>36.99</td><td>892</td></tr>\n",
       "\t<tr><th scope=row>5</th><td>Destiny    </td><td>Carnival</td><td>1996</td><td>101353</td><td>2642</td><td>892</td><td>1321</td><td>1000</td><td>38.36</td><td>740</td></tr>\n",
       "</tbody>\n",
       "</table>\n"
      ],
      "text/latex": [
       "A data.frame: 5 × 10\n",
       "\\begin{tabular}{r|llllllllll}\n",
       "  & Ship & Line & YearBlt & Tonnage & passngrs & Length & Cabins & Crew & PassSpcR & outcab\\\\\n",
       "  & <chr> & <chr> & <int> & <int> & <int> & <int> & <int> & <int> & <dbl> & <int>\\\\\n",
       "\\hline\n",
       "\t1 & Journey     & Azamara  & 2007 &  30277 &  694 & 594 &  355 &  355 & 42.64 & 329\\\\\n",
       "\t2 & Quest       & Azamara  & 2007 &  30277 &  694 & 594 &  355 &  355 & 42.64 & 329\\\\\n",
       "\t3 & Celebration & Carnival & 1987 &  47262 & 1486 & 722 &  743 &  670 & 31.80 & 453\\\\\n",
       "\t4 & Conquest    & Carnival & 2002 & 110000 & 2974 & 953 & 1488 & 1910 & 36.99 & 892\\\\\n",
       "\t5 & Destiny     & Carnival & 1996 & 101353 & 2642 & 892 & 1321 & 1000 & 38.36 & 740\\\\\n",
       "\\end{tabular}\n"
      ],
      "text/markdown": [
       "\n",
       "A data.frame: 5 × 10\n",
       "\n",
       "| <!--/--> | Ship &lt;chr&gt; | Line &lt;chr&gt; | YearBlt &lt;int&gt; | Tonnage &lt;int&gt; | passngrs &lt;int&gt; | Length &lt;int&gt; | Cabins &lt;int&gt; | Crew &lt;int&gt; | PassSpcR &lt;dbl&gt; | outcab &lt;int&gt; |\n",
       "|---|---|---|---|---|---|---|---|---|---|---|\n",
       "| 1 | Journey     | Azamara  | 2007 |  30277 |  694 | 594 |  355 |  355 | 42.64 | 329 |\n",
       "| 2 | Quest       | Azamara  | 2007 |  30277 |  694 | 594 |  355 |  355 | 42.64 | 329 |\n",
       "| 3 | Celebration | Carnival | 1987 |  47262 | 1486 | 722 |  743 |  670 | 31.80 | 453 |\n",
       "| 4 | Conquest    | Carnival | 2002 | 110000 | 2974 | 953 | 1488 | 1910 | 36.99 | 892 |\n",
       "| 5 | Destiny     | Carnival | 1996 | 101353 | 2642 | 892 | 1321 | 1000 | 38.36 | 740 |\n",
       "\n"
      ],
      "text/plain": [
       "  Ship        Line     YearBlt Tonnage passngrs Length Cabins Crew PassSpcR\n",
       "1 Journey     Azamara  2007     30277   694     594     355    355 42.64   \n",
       "2 Quest       Azamara  2007     30277   694     594     355    355 42.64   \n",
       "3 Celebration Carnival 1987     47262  1486     722     743    670 31.80   \n",
       "4 Conquest    Carnival 2002    110000  2974     953    1488   1910 36.99   \n",
       "5 Destiny     Carnival 1996    101353  2642     892    1321   1000 38.36   \n",
       "  outcab\n",
       "1 329   \n",
       "2 329   \n",
       "3 453   \n",
       "4 892   \n",
       "5 740   "
      ]
     },
     "metadata": {},
     "output_type": "display_data"
    }
   ],
   "source": [
    "head(cruise_ship, 5)"
   ]
  },
  {
   "cell_type": "code",
   "execution_count": 6,
   "id": "55f05854-2790-4b23-b515-37797a5722a2",
   "metadata": {},
   "outputs": [
    {
     "data": {
      "image/png": "[encoded data removed]",
      "text/plain": [
       "Plot with title \"\""
      ]
     },
     "metadata": {
      "image/png": {
       "height": 420,
       "width": 420
      }
     },
     "output_type": "display_data"
    }
   ],
   "source": [
    "plotNormalHistogram(cruise_ship$YearBlt)"
   ]
  },
  {
   "cell_type": "code",
   "execution_count": 8,
   "id": "6b5d9d07-98a2-40a7-9cde-b8741b8656d7",
   "metadata": {},
   "outputs": [
    {
     "name": "stdout",
     "output_type": "stream",
     "text": [
      "\n",
      "    lambda      W Shapiro.p.value\n",
      "798  9.925 0.9324       8.297e-07\n",
      "\n",
      "if (lambda >  0){TRANS = x ^ lambda} \n",
      "if (lambda == 0){TRANS = log(x)} \n",
      "if (lambda <  0){TRANS = -1 * x ^ lambda} \n",
      "\n"
     ]
    }
   ],
   "source": [
    "cruise_ship$YearBltTUK <- transformTukey(cruise_ship$YearBlt, plotit = FALSE)"
   ]
  },
  {
   "cell_type": "code",
   "execution_count": 9,
   "id": "072cc31f-9ab0-4665-b5e0-c18f572d5c89",
   "metadata": {},
   "outputs": [
    {
     "data": {
      "image/png": "[encoded data removed]",
      "text/plain": [
       "Plot with title \"\""
      ]
     },
     "metadata": {
      "image/png": {
       "height": 420,
       "width": 420
      }
     },
     "output_type": "display_data"
    }
   ],
   "source": [
    "plotNormalHistogram(cruise_ship$YearBltTUK)"
   ]
  },
  {
   "cell_type": "code",
   "execution_count": null,
   "id": "1f2a9080-4a6a-4a16-8494-8ad5d67d152b",
   "metadata": {},
   "outputs": [],
   "source": []
  }
 ],
 "metadata": {
  "kernelspec": {
   "display_name": "R",
   "language": "R",
   "name": "ir"
  },
  "language_info": {
   "codemirror_mode": "r",
   "file_extension": ".r",
   "mimetype": "text/x-r-source",
   "name": "R",
   "pygments_lexer": "r",
   "version": "4.1.2"
  }
 },
 "nbformat": 4,
 "nbformat_minor": 5
}
