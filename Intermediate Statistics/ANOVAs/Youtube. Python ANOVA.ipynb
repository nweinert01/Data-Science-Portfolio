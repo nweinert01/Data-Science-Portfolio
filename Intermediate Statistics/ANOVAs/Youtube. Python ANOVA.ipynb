{
 "cells": [
  {
   "cell_type": "code",
   "execution_count": 1,
   "id": "da337bc5-02b1-47d0-802b-21deb880b884",
   "metadata": {},
   "outputs": [],
   "source": [
    "# Import Packages\n",
    "import pandas as pd\n",
    "import numpy as np\n",
    "import scipy\n",
    "from scipy import stats\n",
    "from statsmodels.stats.multicomp import pairwise_tukeyhsd\n",
    "from statsmodels.stats.multicomp import MultiComparison\n",
    "import seaborn as sns"
   ]
  },
  {
   "cell_type": "code",
   "execution_count": 6,
   "id": "b3ca5b8d-0ceb-4256-ba48-541c149354f7",
   "metadata": {},
   "outputs": [
    {
     "data": {
      "text/html": [
       "<div>\n",
       "<style scoped>\n",
       "    .dataframe tbody tr th:only-of-type {\n",
       "        vertical-align: middle;\n",
       "    }\n",
       "\n",
       "    .dataframe tbody tr th {\n",
       "        vertical-align: top;\n",
       "    }\n",
       "\n",
       "    .dataframe thead th {\n",
       "        text-align: right;\n",
       "    }\n",
       "</style>\n",
       "<table border=\"1\" class=\"dataframe\">\n",
       "  <thead>\n",
       "    <tr style=\"text-align: right;\">\n",
       "      <th></th>\n",
       "      <th>Unnamed: 0</th>\n",
       "      <th>Date</th>\n",
       "      <th>AveragePrice</th>\n",
       "      <th>Total Volume</th>\n",
       "      <th>4046</th>\n",
       "      <th>4225</th>\n",
       "      <th>4770</th>\n",
       "      <th>Total Bags</th>\n",
       "      <th>Small Bags</th>\n",
       "      <th>Large Bags</th>\n",
       "      <th>XLarge Bags</th>\n",
       "      <th>type</th>\n",
       "      <th>year</th>\n",
       "      <th>region</th>\n",
       "    </tr>\n",
       "  </thead>\n",
       "  <tbody>\n",
       "    <tr>\n",
       "      <th>0</th>\n",
       "      <td>0</td>\n",
       "      <td>12/27/2015</td>\n",
       "      <td>1.33</td>\n",
       "      <td>64236.62</td>\n",
       "      <td>1036.74</td>\n",
       "      <td>54454.85</td>\n",
       "      <td>48.16</td>\n",
       "      <td>8696.87</td>\n",
       "      <td>8603.62</td>\n",
       "      <td>93.25</td>\n",
       "      <td>0.0</td>\n",
       "      <td>conventional</td>\n",
       "      <td>2015</td>\n",
       "      <td>Albany</td>\n",
       "    </tr>\n",
       "    <tr>\n",
       "      <th>1</th>\n",
       "      <td>1</td>\n",
       "      <td>12/20/2015</td>\n",
       "      <td>1.35</td>\n",
       "      <td>54876.98</td>\n",
       "      <td>674.28</td>\n",
       "      <td>44638.81</td>\n",
       "      <td>58.33</td>\n",
       "      <td>9505.56</td>\n",
       "      <td>9408.07</td>\n",
       "      <td>97.49</td>\n",
       "      <td>0.0</td>\n",
       "      <td>conventional</td>\n",
       "      <td>2015</td>\n",
       "      <td>Albany</td>\n",
       "    </tr>\n",
       "    <tr>\n",
       "      <th>2</th>\n",
       "      <td>2</td>\n",
       "      <td>12/13/2015</td>\n",
       "      <td>0.93</td>\n",
       "      <td>118220.22</td>\n",
       "      <td>794.70</td>\n",
       "      <td>109149.67</td>\n",
       "      <td>130.50</td>\n",
       "      <td>8145.35</td>\n",
       "      <td>8042.21</td>\n",
       "      <td>103.14</td>\n",
       "      <td>0.0</td>\n",
       "      <td>conventional</td>\n",
       "      <td>2015</td>\n",
       "      <td>Albany</td>\n",
       "    </tr>\n",
       "    <tr>\n",
       "      <th>3</th>\n",
       "      <td>3</td>\n",
       "      <td>12/6/2015</td>\n",
       "      <td>1.08</td>\n",
       "      <td>78992.15</td>\n",
       "      <td>1132.00</td>\n",
       "      <td>71976.41</td>\n",
       "      <td>72.58</td>\n",
       "      <td>5811.16</td>\n",
       "      <td>5677.40</td>\n",
       "      <td>133.76</td>\n",
       "      <td>0.0</td>\n",
       "      <td>conventional</td>\n",
       "      <td>2015</td>\n",
       "      <td>Albany</td>\n",
       "    </tr>\n",
       "    <tr>\n",
       "      <th>4</th>\n",
       "      <td>4</td>\n",
       "      <td>11/29/2015</td>\n",
       "      <td>1.28</td>\n",
       "      <td>51039.60</td>\n",
       "      <td>941.48</td>\n",
       "      <td>43838.39</td>\n",
       "      <td>75.78</td>\n",
       "      <td>6183.95</td>\n",
       "      <td>5986.26</td>\n",
       "      <td>197.69</td>\n",
       "      <td>0.0</td>\n",
       "      <td>conventional</td>\n",
       "      <td>2015</td>\n",
       "      <td>Albany</td>\n",
       "    </tr>\n",
       "  </tbody>\n",
       "</table>\n",
       "</div>"
      ],
      "text/plain": [
       "   Unnamed: 0        Date  AveragePrice  Total Volume     4046       4225  \\\n",
       "0           0  12/27/2015          1.33      64236.62  1036.74   54454.85   \n",
       "1           1  12/20/2015          1.35      54876.98   674.28   44638.81   \n",
       "2           2  12/13/2015          0.93     118220.22   794.70  109149.67   \n",
       "3           3   12/6/2015          1.08      78992.15  1132.00   71976.41   \n",
       "4           4  11/29/2015          1.28      51039.60   941.48   43838.39   \n",
       "\n",
       "     4770  Total Bags  Small Bags  Large Bags  XLarge Bags          type  \\\n",
       "0   48.16     8696.87     8603.62       93.25          0.0  conventional   \n",
       "1   58.33     9505.56     9408.07       97.49          0.0  conventional   \n",
       "2  130.50     8145.35     8042.21      103.14          0.0  conventional   \n",
       "3   72.58     5811.16     5677.40      133.76          0.0  conventional   \n",
       "4   75.78     6183.95     5986.26      197.69          0.0  conventional   \n",
       "\n",
       "   year  region  \n",
       "0  2015  Albany  \n",
       "1  2015  Albany  \n",
       "2  2015  Albany  \n",
       "3  2015  Albany  \n",
       "4  2015  Albany  "
      ]
     },
     "execution_count": 6,
     "metadata": {},
     "output_type": "execute_result"
    }
   ],
   "source": [
    "# Load Data\n",
    "Avocado = pd.read_csv(r'C:\\Users\\nikki\\OneDrive\\Pictures\\Data Science\\105 Intermediate Statistics\\Lesson 4 - ANOVAs\\avocados.csv')\n",
    "Avocado.head(5)"
   ]
  },
  {
   "cell_type": "markdown",
   "id": "a87c5c21-6a32-4be4-aa59-bdc155c61064",
   "metadata": {},
   "source": [
    "# Question Set Up\n",
    "Does the total volume of avocados sold differ between Indianapolis, Orlando, and PhoenixTucson?"
   ]
  },
  {
   "cell_type": "code",
   "execution_count": 20,
   "id": "654f36a0-96f5-42f9-82d1-dc1f155c11f2",
   "metadata": {},
   "outputs": [
    {
     "data": {
      "text/html": [
       "<div>\n",
       "<style scoped>\n",
       "    .dataframe tbody tr th:only-of-type {\n",
       "        vertical-align: middle;\n",
       "    }\n",
       "\n",
       "    .dataframe tbody tr th {\n",
       "        vertical-align: top;\n",
       "    }\n",
       "\n",
       "    .dataframe thead th {\n",
       "        text-align: right;\n",
       "    }\n",
       "</style>\n",
       "<table border=\"1\" class=\"dataframe\">\n",
       "  <thead>\n",
       "    <tr style=\"text-align: right;\">\n",
       "      <th></th>\n",
       "      <th>Total Volume</th>\n",
       "      <th>region</th>\n",
       "    </tr>\n",
       "  </thead>\n",
       "  <tbody>\n",
       "    <tr>\n",
       "      <th>0</th>\n",
       "      <td>64236.62</td>\n",
       "      <td>Albany</td>\n",
       "    </tr>\n",
       "    <tr>\n",
       "      <th>1</th>\n",
       "      <td>54876.98</td>\n",
       "      <td>Albany</td>\n",
       "    </tr>\n",
       "    <tr>\n",
       "      <th>2</th>\n",
       "      <td>118220.22</td>\n",
       "      <td>Albany</td>\n",
       "    </tr>\n",
       "    <tr>\n",
       "      <th>3</th>\n",
       "      <td>78992.15</td>\n",
       "      <td>Albany</td>\n",
       "    </tr>\n",
       "    <tr>\n",
       "      <th>4</th>\n",
       "      <td>51039.60</td>\n",
       "      <td>Albany</td>\n",
       "    </tr>\n",
       "    <tr>\n",
       "      <th>...</th>\n",
       "      <td>...</td>\n",
       "      <td>...</td>\n",
       "    </tr>\n",
       "    <tr>\n",
       "      <th>495</th>\n",
       "      <td>243012.20</td>\n",
       "      <td>CincinnatiDayton</td>\n",
       "    </tr>\n",
       "    <tr>\n",
       "      <th>496</th>\n",
       "      <td>229363.51</td>\n",
       "      <td>CincinnatiDayton</td>\n",
       "    </tr>\n",
       "    <tr>\n",
       "      <th>497</th>\n",
       "      <td>234981.67</td>\n",
       "      <td>CincinnatiDayton</td>\n",
       "    </tr>\n",
       "    <tr>\n",
       "      <th>498</th>\n",
       "      <td>222382.69</td>\n",
       "      <td>CincinnatiDayton</td>\n",
       "    </tr>\n",
       "    <tr>\n",
       "      <th>499</th>\n",
       "      <td>222390.09</td>\n",
       "      <td>CincinnatiDayton</td>\n",
       "    </tr>\n",
       "  </tbody>\n",
       "</table>\n",
       "<p>500 rows × 2 columns</p>\n",
       "</div>"
      ],
      "text/plain": [
       "     Total Volume            region\n",
       "0        64236.62            Albany\n",
       "1        54876.98            Albany\n",
       "2       118220.22            Albany\n",
       "3        78992.15            Albany\n",
       "4        51039.60            Albany\n",
       "..            ...               ...\n",
       "495     243012.20  CincinnatiDayton\n",
       "496     229363.51  CincinnatiDayton\n",
       "497     234981.67  CincinnatiDayton\n",
       "498     222382.69  CincinnatiDayton\n",
       "499     222390.09  CincinnatiDayton\n",
       "\n",
       "[500 rows x 2 columns]"
      ]
     },
     "execution_count": 20,
     "metadata": {},
     "output_type": "execute_result"
    }
   ],
   "source": [
    "avocado1 = Avocado[['Total Volume', 'region']]\n",
    "avocado1.head(5)"
   ]
  },
  {
   "cell_type": "code",
   "execution_count": 30,
   "id": "edd5039c-4bee-45c6-98bb-07ade772c92b",
   "metadata": {},
   "outputs": [],
   "source": [
    "region = ['Indianapolis', 'Orlando','PheonixTuscon']\n",
    "avocado2 = Avocado['region'].isin(region)\n",
    "avocado3 = Avocado[avocado2].copy()"
   ]
  },
  {
   "cell_type": "code",
   "execution_count": 34,
   "id": "86c4f375-e3c9-4acc-aa02-5c779214042f",
   "metadata": {},
   "outputs": [],
   "source": [
    "region = ['Indianapolis', 'Orlando','PheonixTuscon']\n",
    "avocado2 = avocado1['region'].isin(region)\n",
    "avocado3 = avocado1[avocado2].copy()"
   ]
  },
  {
   "cell_type": "code",
   "execution_count": 35,
   "id": "fa9c8405-1411-4020-9d7a-fd1cfc20c4f2",
   "metadata": {},
   "outputs": [
    {
     "name": "stdout",
     "output_type": "stream",
     "text": [
      "<class 'pandas.core.frame.DataFrame'>\n",
      "Int64Index: 676 entries, 988 to 17984\n",
      "Data columns (total 2 columns):\n",
      " #   Column        Non-Null Count  Dtype  \n",
      "---  ------        --------------  -----  \n",
      " 0   Total Volume  676 non-null    float64\n",
      " 1   region        676 non-null    object \n",
      "dtypes: float64(1), object(1)\n",
      "memory usage: 15.8+ KB\n"
     ]
    }
   ],
   "source": [
    "avocado3.info()"
   ]
  },
  {
   "cell_type": "markdown",
   "id": "00dd39c6-5634-4c57-8705-838cf48e1ab3",
   "metadata": {},
   "source": [
    "### Total Volume is not an integer"
   ]
  },
  {
   "cell_type": "code",
   "execution_count": 36,
   "id": "94dbc25f-0b39-43ac-810c-263b8ee651ef",
   "metadata": {},
   "outputs": [],
   "source": [
    "avocado3[\"Total Volume\"] = avocado3[\"Total Volume\"].astype(int)"
   ]
  },
  {
   "cell_type": "code",
   "execution_count": 37,
   "id": "a711fad5-c10b-4392-b547-344b7681287b",
   "metadata": {},
   "outputs": [
    {
     "name": "stdout",
     "output_type": "stream",
     "text": [
      "<class 'pandas.core.frame.DataFrame'>\n",
      "Int64Index: 676 entries, 988 to 17984\n",
      "Data columns (total 2 columns):\n",
      " #   Column        Non-Null Count  Dtype \n",
      "---  ------        --------------  ----- \n",
      " 0   Total Volume  676 non-null    int32 \n",
      " 1   region        676 non-null    object\n",
      "dtypes: int32(1), object(1)\n",
      "memory usage: 13.2+ KB\n"
     ]
    }
   ],
   "source": [
    "avocado3.info()"
   ]
  },
  {
   "cell_type": "markdown",
   "id": "00760965-d746-4f79-b01f-1a333a8a52c2",
   "metadata": {},
   "source": [
    "### Recode Category to a number"
   ]
  },
  {
   "cell_type": "code",
   "execution_count": 38,
   "id": "f95f5ce2-e37c-4a9e-a50a-bc585481704e",
   "metadata": {},
   "outputs": [],
   "source": [
    "def recode (series):\n",
    "    if series == \"Indianapolis\": \n",
    "        return 0\n",
    "    if series == \"Orlando\": \n",
    "        return 1\n",
    "    if series == \"PheonixTuscon\": \n",
    "        return 2\n",
    "\n",
    "avocado3['regionR'] = avocado3['region'].apply(recode)"
   ]
  },
  {
   "cell_type": "code",
   "execution_count": 39,
   "id": "4287c546-b736-4188-bb40-aa8c8cb4d173",
   "metadata": {},
   "outputs": [
    {
     "name": "stdout",
     "output_type": "stream",
     "text": [
      "<class 'pandas.core.frame.DataFrame'>\n",
      "Int64Index: 676 entries, 988 to 17984\n",
      "Data columns (total 3 columns):\n",
      " #   Column        Non-Null Count  Dtype \n",
      "---  ------        --------------  ----- \n",
      " 0   Total Volume  676 non-null    int32 \n",
      " 1   region        676 non-null    object\n",
      " 2   regionR       676 non-null    int64 \n",
      "dtypes: int32(1), int64(1), object(1)\n",
      "memory usage: 18.5+ KB\n"
     ]
    }
   ],
   "source": [
    "avocado3.info()"
   ]
  },
  {
   "cell_type": "code",
   "execution_count": 40,
   "id": "7f3960ab-cef6-4345-b719-98fd758fb10b",
   "metadata": {},
   "outputs": [],
   "source": [
    "avocado4 = avocado3[[\"Total Volume\", \"regionR\"]]"
   ]
  },
  {
   "cell_type": "markdown",
   "id": "26ec2420-650a-41a6-bfcb-ff0b223b85d8",
   "metadata": {},
   "source": [
    "### Test Assumptions"
   ]
  },
  {
   "cell_type": "code",
   "execution_count": 41,
   "id": "4f0bb104-a3f9-4781-8351-3cd272c70d99",
   "metadata": {},
   "outputs": [
    {
     "name": "stderr",
     "output_type": "stream",
     "text": [
      "C:\\Python3\\lib\\site-packages\\seaborn\\distributions.py:2619: FutureWarning: `distplot` is a deprecated function and will be removed in a future version. Please adapt your code to use either `displot` (a figure-level function with similar flexibility) or `histplot` (an axes-level function for histograms).\n",
      "  warnings.warn(msg, FutureWarning)\n"
     ]
    },
    {
     "data": {
      "text/plain": [
       "<AxesSubplot:xlabel='Total Volume', ylabel='Density'>"
      ]
     },
     "execution_count": 41,
     "metadata": {},
     "output_type": "execute_result"
    },
    {
     "data": {
      "image/png": "[encoded data removed]",
      "text/plain": [
       "<Figure size 432x288 with 1 Axes>"
      ]
     },
     "metadata": {
      "needs_background": "light"
     },
     "output_type": "display_data"
    }
   ],
   "source": [
    "## Normality\n",
    "sns.distplot(avocado4[\"Total Volume\"])"
   ]
  },
  {
   "cell_type": "code",
   "execution_count": 43,
   "id": "9bcdca55-e3e1-46d5-bf8e-6e47246f83d7",
   "metadata": {},
   "outputs": [
    {
     "name": "stderr",
     "output_type": "stream",
     "text": [
      "C:\\Python3\\lib\\site-packages\\seaborn\\distributions.py:2619: FutureWarning: `distplot` is a deprecated function and will be removed in a future version. Please adapt your code to use either `displot` (a figure-level function with similar flexibility) or `histplot` (an axes-level function for histograms).\n",
      "  warnings.warn(msg, FutureWarning)\n"
     ]
    },
    {
     "data": {
      "text/plain": [
       "<AxesSubplot:xlabel='Total VolumeLOG', ylabel='Density'>"
      ]
     },
     "execution_count": 43,
     "metadata": {},
     "output_type": "execute_result"
    },
    {
     "data": {
      "image/png": "[encoded data removed]",
      "text/plain": [
       "<Figure size 432x288 with 1 Axes>"
      ]
     },
     "metadata": {
      "needs_background": "light"
     },
     "output_type": "display_data"
    }
   ],
   "source": [
    "avocado4[\"Total VolumeLOG\"] = np.log(avocado4[\"Total Volume\"])\n",
    "sns.distplot(avocado4[\"Total VolumeLOG\"])"
   ]
  },
  {
   "cell_type": "markdown",
   "id": "407b215a-7f7a-40b7-a429-c49e14d72c85",
   "metadata": {},
   "source": [
    "## Homogeneity of Variance"
   ]
  },
  {
   "cell_type": "code",
   "execution_count": 45,
   "id": "948ac49a-cc58-400a-a348-914366f773ab",
   "metadata": {},
   "outputs": [
    {
     "data": {
      "text/plain": [
       "BartlettResult(statistic=1052.31894692686, pvalue=7.626033589097963e-231)"
      ]
     },
     "execution_count": 45,
     "metadata": {},
     "output_type": "execute_result"
    }
   ],
   "source": [
    "scipy.stats.bartlett(avocado4[\"Total VolumeLOG\"], avocado4[\"regionR\"])"
   ]
  },
  {
   "cell_type": "markdown",
   "id": "cd7b9b1e-bc33-4295-87ba-ca25bf98e2b5",
   "metadata": {},
   "source": [
    "### Does not meet the assumption of variance. Variance is unequal"
   ]
  },
  {
   "cell_type": "markdown",
   "id": "31725ca1-c04f-45f3-a7db-fcc5e5fe74c7",
   "metadata": {},
   "source": [
    "# Run the analysis"
   ]
  },
  {
   "cell_type": "code",
   "execution_count": 48,
   "id": "fa2a3943-8071-49ed-a7ff-f4bad0145046",
   "metadata": {},
   "outputs": [
    {
     "name": "stderr",
     "output_type": "stream",
     "text": [
      "C:\\Python3\\lib\\site-packages\\scipy\\stats\\_stats_py.py:3869: DegenerateDataWarning: at least one input has length 0\n",
      "  warnings.warn(stats.DegenerateDataWarning('at least one input '\n"
     ]
    },
    {
     "data": {
      "text/plain": [
       "F_onewayResult(statistic=nan, pvalue=nan)"
      ]
     },
     "execution_count": 48,
     "metadata": {},
     "output_type": "execute_result"
    }
   ],
   "source": [
    "stats.f_oneway(avocado4[\"Total VolumeLOG\"][avocado4[\"regionR\"] == \"0\"], \n",
    "            avocado4[\"Total VolumeLOG\"][avocado4[\"regionR\"] == \"1\"],\n",
    "            avocado4[\"Total VolumeLOG\"][avocado4[\"regionR\"] == \"2\"])"
   ]
  },
  {
   "cell_type": "markdown",
   "id": "69e24554-2a4e-4723-a284-c88abf7b3ab0",
   "metadata": {},
   "source": [
    "# Post Hocs"
   ]
  },
  {
   "cell_type": "code",
   "execution_count": 50,
   "id": "da213361-a002-4f8b-8319-b2cc9b57494e",
   "metadata": {},
   "outputs": [
    {
     "name": "stdout",
     "output_type": "stream",
     "text": [
      "Multiple Comparison of Means - Tukey HSD, FWER=0.05\n",
      "==================================================\n",
      "group1 group2 meandiff p-adj  lower  upper  reject\n",
      "--------------------------------------------------\n",
      "     0      1   0.4292 0.0067 0.1192 0.7391   True\n",
      "--------------------------------------------------\n"
     ]
    }
   ],
   "source": [
    "postHoc = MultiComparison(avocado4['Total VolumeLOG'], avocado4['regionR'])\n",
    "postHocResults = postHoc.tukeyhsd()\n",
    "print(postHocResults)"
   ]
  },
  {
   "cell_type": "markdown",
   "id": "3dc1b1d9-4786-42d8-afcd-93b71a2a2e43",
   "metadata": {},
   "source": [
    "## Examine the Means"
   ]
  },
  {
   "cell_type": "code",
   "execution_count": 51,
   "id": "e6317ec8-63a5-44ce-a4f8-f6c1cf2f7503",
   "metadata": {},
   "outputs": [
    {
     "data": {
      "text/html": [
       "<div>\n",
       "<style scoped>\n",
       "    .dataframe tbody tr th:only-of-type {\n",
       "        vertical-align: middle;\n",
       "    }\n",
       "\n",
       "    .dataframe tbody tr th {\n",
       "        vertical-align: top;\n",
       "    }\n",
       "\n",
       "    .dataframe thead th {\n",
       "        text-align: right;\n",
       "    }\n",
       "</style>\n",
       "<table border=\"1\" class=\"dataframe\">\n",
       "  <thead>\n",
       "    <tr style=\"text-align: right;\">\n",
       "      <th></th>\n",
       "      <th>Total Volume</th>\n",
       "      <th>Total VolumeLOG</th>\n",
       "    </tr>\n",
       "    <tr>\n",
       "      <th>regionR</th>\n",
       "      <th></th>\n",
       "      <th></th>\n",
       "    </tr>\n",
       "  </thead>\n",
       "  <tbody>\n",
       "    <tr>\n",
       "      <th>0</th>\n",
       "      <td>89536.180473</td>\n",
       "      <td>10.157488</td>\n",
       "    </tr>\n",
       "    <tr>\n",
       "      <th>1</th>\n",
       "      <td>173551.840237</td>\n",
       "      <td>10.586681</td>\n",
       "    </tr>\n",
       "  </tbody>\n",
       "</table>\n",
       "</div>"
      ],
      "text/plain": [
       "          Total Volume  Total VolumeLOG\n",
       "regionR                                \n",
       "0         89536.180473        10.157488\n",
       "1        173551.840237        10.586681"
      ]
     },
     "execution_count": 51,
     "metadata": {},
     "output_type": "execute_result"
    }
   ],
   "source": [
    "\n",
    "avocado4.groupby(\"regionR\").mean()"
   ]
  },
  {
   "cell_type": "code",
   "execution_count": null,
   "id": "f1d6ab60-14d9-4973-a36a-1c4ca92a378a",
   "metadata": {},
   "outputs": [],
   "source": []
  }
 ],
 "metadata": {
  "kernelspec": {
   "display_name": "Python 3 (ipykernel)",
   "language": "python",
   "name": "python3"
  },
  "language_info": {
   "codemirror_mode": {
    "name": "ipython",
    "version": 3
   },
   "file_extension": ".py",
   "mimetype": "text/x-python",
   "name": "python",
   "nbconvert_exporter": "python",
   "pygments_lexer": "ipython3",
   "version": "3.10.2"
  }
 },
 "nbformat": 4,
 "nbformat_minor": 5
}
