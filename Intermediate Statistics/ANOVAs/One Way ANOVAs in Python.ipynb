{
 "cells": [
  {
   "cell_type": "markdown",
   "id": "6c7a73fc-8118-4ea1-a3e6-6a2cc488ac91",
   "metadata": {},
   "source": [
    "## One Way ANOVAs in Python - NOTES"
   ]
  },
  {
   "cell_type": "code",
   "execution_count": 14,
   "id": "11bfabfb-a74d-44b8-bf53-ed0bf4d1fc60",
   "metadata": {},
   "outputs": [],
   "source": [
    "# Import Packages\n",
    "import pandas as pd\n",
    "import numpy as np\n",
    "import scipy\n",
    "import statsmodels.api as sm\n",
    "from scipy import stats\n",
    "from statsmodels.stats.multicomp import pairwise_tukeyhsd\n",
    "from statsmodels.stats.multicomp import MultiComparison\n",
    "import seaborn as sns"
   ]
  },
  {
   "cell_type": "code",
   "execution_count": 4,
   "id": "7dcbe64f-50f6-46de-a6db-70177f538957",
   "metadata": {},
   "outputs": [],
   "source": [
    "apps = pd.read_csv(r'C:\\Users\\nikki\\OneDrive\\Pictures\\Data Science\\105 Intermediate Statistics\\Lesson 4 - ANOVAs\\NEWgoogleplaystore.csv')"
   ]
  },
  {
   "cell_type": "markdown",
   "id": "6c068ef6-236a-4f35-bfab-63204ee4a29e",
   "metadata": {},
   "source": [
    "## Question Set Up\n",
    "Is there a difference in the number of reviews among the three app categories of beauty, food and drink, and photography?"
   ]
  },
  {
   "cell_type": "markdown",
   "id": "296ec2a1-e8a9-4a2d-a114-d9b0688e1d3d",
   "metadata": {},
   "source": [
    "## Data Wrangling:\n",
    "Focusing on 3 categories"
   ]
  },
  {
   "cell_type": "code",
   "execution_count": 25,
   "id": "8d96aca9-10b9-419a-ac7a-ca21d6e2fe4d",
   "metadata": {},
   "outputs": [
    {
     "data": {
      "text/html": [
       "<div>\n",
       "<style scoped>\n",
       "    .dataframe tbody tr th:only-of-type {\n",
       "        vertical-align: middle;\n",
       "    }\n",
       "\n",
       "    .dataframe tbody tr th {\n",
       "        vertical-align: top;\n",
       "    }\n",
       "\n",
       "    .dataframe thead th {\n",
       "        text-align: right;\n",
       "    }\n",
       "</style>\n",
       "<table border=\"1\" class=\"dataframe\">\n",
       "  <thead>\n",
       "    <tr style=\"text-align: right;\">\n",
       "      <th></th>\n",
       "      <th>Unnamed: 0</th>\n",
       "      <th>App</th>\n",
       "      <th>Category</th>\n",
       "      <th>Rating</th>\n",
       "      <th>Reviews</th>\n",
       "      <th>Size</th>\n",
       "      <th>Installs</th>\n",
       "      <th>Type</th>\n",
       "      <th>Price</th>\n",
       "      <th>Content.Rating</th>\n",
       "      <th>Genres</th>\n",
       "      <th>Last.Updated</th>\n",
       "      <th>Current.Ver</th>\n",
       "      <th>Android.Ver</th>\n",
       "    </tr>\n",
       "  </thead>\n",
       "  <tbody>\n",
       "    <tr>\n",
       "      <th>98</th>\n",
       "      <td>99</td>\n",
       "      <td>Hush - Beauty for Everyone</td>\n",
       "      <td>BEAUTY</td>\n",
       "      <td>4.7</td>\n",
       "      <td>18900</td>\n",
       "      <td>17M</td>\n",
       "      <td>500,000+</td>\n",
       "      <td>Free</td>\n",
       "      <td>0</td>\n",
       "      <td>Everyone</td>\n",
       "      <td>Beauty</td>\n",
       "      <td>2-Aug-18</td>\n",
       "      <td>6.10.1</td>\n",
       "      <td>5.0 and up</td>\n",
       "    </tr>\n",
       "    <tr>\n",
       "      <th>99</th>\n",
       "      <td>100</td>\n",
       "      <td>ipsy: Makeup, Beauty, and Tips</td>\n",
       "      <td>BEAUTY</td>\n",
       "      <td>4.9</td>\n",
       "      <td>49790</td>\n",
       "      <td>14M</td>\n",
       "      <td>1,000,000+</td>\n",
       "      <td>Free</td>\n",
       "      <td>0</td>\n",
       "      <td>Everyone</td>\n",
       "      <td>Beauty</td>\n",
       "      <td>9-Nov-17</td>\n",
       "      <td>2.3.0</td>\n",
       "      <td>4.1 and up</td>\n",
       "    </tr>\n",
       "    <tr>\n",
       "      <th>100</th>\n",
       "      <td>101</td>\n",
       "      <td>Natural recipes for your beauty</td>\n",
       "      <td>BEAUTY</td>\n",
       "      <td>4.7</td>\n",
       "      <td>1150</td>\n",
       "      <td>9.8M</td>\n",
       "      <td>100,000+</td>\n",
       "      <td>Free</td>\n",
       "      <td>0</td>\n",
       "      <td>Everyone</td>\n",
       "      <td>Beauty</td>\n",
       "      <td>15-May-18</td>\n",
       "      <td>4</td>\n",
       "      <td>4.1 and up</td>\n",
       "    </tr>\n",
       "    <tr>\n",
       "      <th>101</th>\n",
       "      <td>102</td>\n",
       "      <td>BestCam Selfie-selfie, beauty camera, photo ed...</td>\n",
       "      <td>BEAUTY</td>\n",
       "      <td>3.9</td>\n",
       "      <td>1739</td>\n",
       "      <td>21M</td>\n",
       "      <td>500,000+</td>\n",
       "      <td>Free</td>\n",
       "      <td>0</td>\n",
       "      <td>Everyone</td>\n",
       "      <td>Beauty</td>\n",
       "      <td>12-Jul-18</td>\n",
       "      <td>1.0.6</td>\n",
       "      <td>4.0.3 and up</td>\n",
       "    </tr>\n",
       "    <tr>\n",
       "      <th>102</th>\n",
       "      <td>103</td>\n",
       "      <td>Mirror - Zoom &amp; Exposure -</td>\n",
       "      <td>BEAUTY</td>\n",
       "      <td>3.9</td>\n",
       "      <td>32090</td>\n",
       "      <td>Varies with device</td>\n",
       "      <td>1,000,000+</td>\n",
       "      <td>Free</td>\n",
       "      <td>0</td>\n",
       "      <td>Everyone</td>\n",
       "      <td>Beauty</td>\n",
       "      <td>24-Oct-16</td>\n",
       "      <td>Varies with device</td>\n",
       "      <td>Varies with device</td>\n",
       "    </tr>\n",
       "  </tbody>\n",
       "</table>\n",
       "</div>"
      ],
      "text/plain": [
       "     Unnamed: 0                                                App Category  \\\n",
       "98           99                         Hush - Beauty for Everyone   BEAUTY   \n",
       "99          100                     ipsy: Makeup, Beauty, and Tips   BEAUTY   \n",
       "100         101                    Natural recipes for your beauty   BEAUTY   \n",
       "101         102  BestCam Selfie-selfie, beauty camera, photo ed...   BEAUTY   \n",
       "102         103                         Mirror - Zoom & Exposure -   BEAUTY   \n",
       "\n",
       "     Rating Reviews                Size    Installs  Type Price  \\\n",
       "98      4.7   18900                 17M    500,000+  Free     0   \n",
       "99      4.9   49790                 14M  1,000,000+  Free     0   \n",
       "100     4.7    1150                9.8M    100,000+  Free     0   \n",
       "101     3.9    1739                 21M    500,000+  Free     0   \n",
       "102     3.9   32090  Varies with device  1,000,000+  Free     0   \n",
       "\n",
       "    Content.Rating  Genres Last.Updated         Current.Ver  \\\n",
       "98        Everyone  Beauty     2-Aug-18              6.10.1   \n",
       "99        Everyone  Beauty     9-Nov-17               2.3.0   \n",
       "100       Everyone  Beauty    15-May-18                   4   \n",
       "101       Everyone  Beauty    12-Jul-18               1.0.6   \n",
       "102       Everyone  Beauty    24-Oct-16  Varies with device   \n",
       "\n",
       "            Android.Ver  \n",
       "98           5.0 and up  \n",
       "99           4.1 and up  \n",
       "100          4.1 and up  \n",
       "101        4.0.3 and up  \n",
       "102  Varies with device  "
      ]
     },
     "execution_count": 25,
     "metadata": {},
     "output_type": "execute_result"
    }
   ],
   "source": [
    "categories = ['BEAUTY', 'FOOD_AND_DRINK','PHOTOGRAPHY']\n",
    "apps1 = apps['Category'].isin(categories)\n",
    "apps2 = apps[apps1].copy()\n",
    "apps2.head(5)"
   ]
  },
  {
   "cell_type": "markdown",
   "id": "63a3cd86-aa34-4b2d-a4bc-a48426198f4d",
   "metadata": {},
   "source": [
    "## Subsetting only the needed variables"
   ]
  },
  {
   "cell_type": "code",
   "execution_count": 6,
   "id": "7c31ada1-7bb0-4cf2-8af3-eca1ae6812b3",
   "metadata": {},
   "outputs": [],
   "source": [
    "apps3 = apps2[['Category','Reviews']]"
   ]
  },
  {
   "cell_type": "markdown",
   "id": "e62783c2-26a2-4784-af6e-a0f63ff53ec0",
   "metadata": {},
   "source": [
    "## Changing Reviews to an Integer"
   ]
  },
  {
   "cell_type": "code",
   "execution_count": 7,
   "id": "a0fd872d-a3f0-4ccd-ba15-722023b2d8ed",
   "metadata": {},
   "outputs": [
    {
     "name": "stdout",
     "output_type": "stream",
     "text": [
      "<class 'pandas.core.frame.DataFrame'>\n",
      "Int64Index: 515 entries, 98 to 10740\n",
      "Data columns (total 2 columns):\n",
      " #   Column    Non-Null Count  Dtype \n",
      "---  ------    --------------  ----- \n",
      " 0   Category  515 non-null    object\n",
      " 1   Reviews   515 non-null    object\n",
      "dtypes: object(2)\n",
      "memory usage: 12.1+ KB\n"
     ]
    }
   ],
   "source": [
    "apps3.info()"
   ]
  },
  {
   "cell_type": "code",
   "execution_count": 8,
   "id": "c0c2e2b2-4384-4024-a3bd-609a0ce3f5ee",
   "metadata": {},
   "outputs": [
    {
     "name": "stderr",
     "output_type": "stream",
     "text": [
      "C:\\Users\\nikki\\AppData\\Local\\Temp\\ipykernel_2640\\1171526474.py:1: SettingWithCopyWarning: \n",
      "A value is trying to be set on a copy of a slice from a DataFrame.\n",
      "Try using .loc[row_indexer,col_indexer] = value instead\n",
      "\n",
      "See the caveats in the documentation: https://pandas.pydata.org/pandas-docs/stable/user_guide/indexing.html#returning-a-view-versus-a-copy\n",
      "  apps3.Reviews = apps3.Reviews.astype(int)\n"
     ]
    }
   ],
   "source": [
    "apps3.Reviews = apps3.Reviews.astype(int)"
   ]
  },
  {
   "cell_type": "markdown",
   "id": "349eb3cb-efa6-4afa-8d07-898742871e1a",
   "metadata": {},
   "source": [
    "## Recoding category to a number"
   ]
  },
  {
   "cell_type": "code",
   "execution_count": 10,
   "id": "ca052481-1300-4bed-a1c4-5e36f231ce7f",
   "metadata": {},
   "outputs": [
    {
     "name": "stderr",
     "output_type": "stream",
     "text": [
      "C:\\Users\\nikki\\AppData\\Local\\Temp\\ipykernel_2640\\1837445721.py:9: SettingWithCopyWarning: \n",
      "A value is trying to be set on a copy of a slice from a DataFrame.\n",
      "Try using .loc[row_indexer,col_indexer] = value instead\n",
      "\n",
      "See the caveats in the documentation: https://pandas.pydata.org/pandas-docs/stable/user_guide/indexing.html#returning-a-view-versus-a-copy\n",
      "  apps3['CategoryR'] = apps3['Category'].apply(recode)\n"
     ]
    }
   ],
   "source": [
    "def recode (series):\n",
    "    if series == \"BEAUTY\": \n",
    "        return 0\n",
    "    if series == \"FOOD_AND_DRINK\": \n",
    "        return 1\n",
    "    if series == \"PHOTOGRAPHY\": \n",
    "        return 2\n",
    "\n",
    "apps3['CategoryR'] = apps3['Category'].apply(recode)"
   ]
  },
  {
   "cell_type": "markdown",
   "id": "6c5d6d56-f66c-4251-ad3c-83aa41e94106",
   "metadata": {},
   "source": [
    "## Dropping the original category value"
   ]
  },
  {
   "cell_type": "code",
   "execution_count": 11,
   "id": "70ba7ef3-7aba-4114-afa9-8fe645a92a0f",
   "metadata": {},
   "outputs": [],
   "source": [
    "apps4 = apps3[['CategoryR','Reviews']]"
   ]
  },
  {
   "cell_type": "markdown",
   "id": "ff89f4bd-7711-4ceb-be75-7249e3d0eeb0",
   "metadata": {},
   "source": [
    "## Test Assumptions\n"
   ]
  },
  {
   "cell_type": "markdown",
   "id": "834d6764-49ed-47a0-96a6-3ca8bda10300",
   "metadata": {},
   "source": [
    "### Normality"
   ]
  },
  {
   "cell_type": "markdown",
   "id": "a3100fdd-ce5b-4015-b62f-71bcc8f64b6c",
   "metadata": {},
   "source": [
    "sns.distplot(apps4['Reviews'])"
   ]
  },
  {
   "cell_type": "code",
   "execution_count": 16,
   "id": "52b21671-2a6e-4d94-a698-fb2b7fb728fd",
   "metadata": {},
   "outputs": [],
   "source": [
    "apps4['ReviewsSQRT'] = np.sqrt(apps4['Reviews'])"
   ]
  },
  {
   "cell_type": "code",
   "execution_count": 18,
   "id": "8873df01-3e97-41e8-be1c-a23a3b4bd15a",
   "metadata": {},
   "outputs": [
    {
     "name": "stderr",
     "output_type": "stream",
     "text": [
      "C:\\Python3\\lib\\site-packages\\seaborn\\distributions.py:2619: FutureWarning: `distplot` is a deprecated function and will be removed in a future version. Please adapt your code to use either `displot` (a figure-level function with similar flexibility) or `histplot` (an axes-level function for histograms).\n",
      "  warnings.warn(msg, FutureWarning)\n"
     ]
    },
    {
     "data": {
      "text/plain": [
       "<AxesSubplot:xlabel='ReviewsSQRT', ylabel='Density'>"
      ]
     },
     "execution_count": 18,
     "metadata": {},
     "output_type": "execute_result"
    },
    {
     "data": {
      "image/png": "[encoded data removed]",
      "text/plain": [
       "<Figure size 432x288 with 1 Axes>"
      ]
     },
     "metadata": {
      "needs_background": "light"
     },
     "output_type": "display_data"
    }
   ],
   "source": [
    "sns.distplot(apps4['ReviewsSQRT'])"
   ]
  },
  {
   "cell_type": "markdown",
   "id": "ce204f70-c97a-4d6e-bfb4-85972f85828c",
   "metadata": {},
   "source": [
    "# Homogeneity of Variance"
   ]
  },
  {
   "cell_type": "markdown",
   "id": "2e99949e-a105-493f-9f25-412ba3fc2c0e",
   "metadata": {},
   "source": [
    "### Bartlett's Test"
   ]
  },
  {
   "cell_type": "code",
   "execution_count": 19,
   "id": "f05d193d-d60c-4bd1-b89c-5ba55e23f1b5",
   "metadata": {},
   "outputs": [
    {
     "data": {
      "text/plain": [
       "BartlettResult(statistic=6187.981817647615, pvalue=0.0)"
      ]
     },
     "execution_count": 19,
     "metadata": {},
     "output_type": "execute_result"
    }
   ],
   "source": [
    "scipy.stats.bartlett(apps4['ReviewsSQRT'], apps4['CategoryR'])"
   ]
  },
  {
   "cell_type": "markdown",
   "id": "d6b0c56f-4718-4a92-85a4-ca5db88c820b",
   "metadata": {},
   "source": [
    "### Fligner's Test"
   ]
  },
  {
   "cell_type": "code",
   "execution_count": 21,
   "id": "d0d55311-6983-4d3b-b080-18876df8beed",
   "metadata": {},
   "outputs": [
    {
     "data": {
      "text/plain": [
       "FlignerResult(statistic=642.0602581715318, pvalue=1.1908711834100128e-141)"
      ]
     },
     "execution_count": 21,
     "metadata": {},
     "output_type": "execute_result"
    }
   ],
   "source": [
    "scipy.stats.fligner(apps4['ReviewsSQRT'], apps4['CategoryR'])\n"
   ]
  },
  {
   "cell_type": "markdown",
   "id": "bd1058b2-6c85-4aae-8266-f45800386367",
   "metadata": {},
   "source": [
    "# Computing ANOVAs with Equal Variance"
   ]
  },
  {
   "cell_type": "code",
   "execution_count": 22,
   "id": "c998a32d-bd25-4b5c-b64e-74bbc87a2ab7",
   "metadata": {},
   "outputs": [
    {
     "data": {
      "text/plain": [
       "F_onewayResult(statistic=11.467490725511773, pvalue=1.342932747373518e-05)"
      ]
     },
     "execution_count": 22,
     "metadata": {},
     "output_type": "execute_result"
    }
   ],
   "source": [
    "stats.f_oneway(apps['Reviews'][apps['Category']=='BEAUTY'],\n",
    "                    apps['Reviews'][apps['Category']=='FOOD_AND_DRINK'],\n",
    "                    apps['Reviews'][apps['Category']=='PHOTOGRAPHY'])"
   ]
  },
  {
   "cell_type": "markdown",
   "id": "79859b4e-669c-4d15-a5ed-293a3330b641",
   "metadata": {},
   "source": [
    "###  Since the p value is less than .05, there is a significant difference in Reviews between these three categories."
   ]
  },
  {
   "cell_type": "markdown",
   "id": "df6ba6e2-b7fc-4843-bac0-00be27be2f3b",
   "metadata": {},
   "source": [
    "# Computing ANOVAs with Unequal Variance"
   ]
  },
  {
   "cell_type": "code",
   "execution_count": 23,
   "id": "9e985d2c-73ad-470f-97b5-a7cb6b21d4f4",
   "metadata": {},
   "outputs": [
    {
     "name": "stdout",
     "output_type": "stream",
     "text": [
      " Multiple Comparison of Means - Tukey HSD, FWER=0.05  \n",
      "======================================================\n",
      "group1 group2 meandiff p-adj   lower    upper   reject\n",
      "------------------------------------------------------\n",
      "     0      1   111.89 0.4062 -93.3095 317.0896  False\n",
      "     0      2  419.474    0.0 233.9776 604.9704   True\n",
      "     1      2  307.584    0.0 176.8235 438.3446   True\n",
      "------------------------------------------------------\n"
     ]
    }
   ],
   "source": [
    "postHoc = MultiComparison(apps4['ReviewsSQRT'], apps4['CategoryR'])\n",
    "postHocResults = postHoc.tukeyhsd()\n",
    "print(postHocResults)"
   ]
  },
  {
   "cell_type": "markdown",
   "id": "d234e0e3-538d-4a11-8eeb-113a109c1777",
   "metadata": {},
   "source": [
    "## Computing Post Hocs When You've Violated the Assumption of Homogeneity of Variance\n",
    "There is NO WAY to compute post hocs with unequal variance in Python! Either switch over to R or be VERY CAUTIOUS when interpreting your results and don't use for anything high stakes!"
   ]
  },
  {
   "cell_type": "markdown",
   "id": "f77b33e1-0958-47e0-a94b-f55512e02157",
   "metadata": {},
   "source": [
    "### Determine Means and Draw Conclusions"
   ]
  },
  {
   "cell_type": "code",
   "execution_count": 24,
   "id": "0610c572-ed47-4c57-b747-7e38e9cee200",
   "metadata": {},
   "outputs": [
    {
     "data": {
      "text/html": [
       "<div>\n",
       "<style scoped>\n",
       "    .dataframe tbody tr th:only-of-type {\n",
       "        vertical-align: middle;\n",
       "    }\n",
       "\n",
       "    .dataframe tbody tr th {\n",
       "        vertical-align: top;\n",
       "    }\n",
       "\n",
       "    .dataframe thead th {\n",
       "        text-align: right;\n",
       "    }\n",
       "</style>\n",
       "<table border=\"1\" class=\"dataframe\">\n",
       "  <thead>\n",
       "    <tr style=\"text-align: right;\">\n",
       "      <th></th>\n",
       "      <th>Reviews</th>\n",
       "      <th>ReviewsSQRT</th>\n",
       "    </tr>\n",
       "    <tr>\n",
       "      <th>CategoryR</th>\n",
       "      <th></th>\n",
       "      <th></th>\n",
       "    </tr>\n",
       "  </thead>\n",
       "  <tbody>\n",
       "    <tr>\n",
       "      <th>0</th>\n",
       "      <td>7476.226415</td>\n",
       "      <td>48.854024</td>\n",
       "    </tr>\n",
       "    <tr>\n",
       "      <th>1</th>\n",
       "      <td>69947.480315</td>\n",
       "      <td>160.744038</td>\n",
       "    </tr>\n",
       "    <tr>\n",
       "      <th>2</th>\n",
       "      <td>637363.134328</td>\n",
       "      <td>468.328067</td>\n",
       "    </tr>\n",
       "  </tbody>\n",
       "</table>\n",
       "</div>"
      ],
      "text/plain": [
       "                 Reviews  ReviewsSQRT\n",
       "CategoryR                            \n",
       "0            7476.226415    48.854024\n",
       "1           69947.480315   160.744038\n",
       "2          637363.134328   468.328067"
      ]
     },
     "execution_count": 24,
     "metadata": {},
     "output_type": "execute_result"
    }
   ],
   "source": [
    "apps4.groupby('CategoryR').mean()"
   ]
  },
  {
   "cell_type": "code",
   "execution_count": null,
   "id": "444ac28c-f342-4d64-a270-9bba3770cade",
   "metadata": {},
   "outputs": [],
   "source": []
  },
  {
   "cell_type": "code",
   "execution_count": 9,
   "id": "67ee3548-8e02-4dae-abd9-ce8096200925",
   "metadata": {},
   "outputs": [
    {
     "name": "stdout",
     "output_type": "stream",
     "text": [
      "<class 'pandas.core.frame.DataFrame'>\n",
      "Int64Index: 515 entries, 98 to 10740\n",
      "Data columns (total 2 columns):\n",
      " #   Column    Non-Null Count  Dtype \n",
      "---  ------    --------------  ----- \n",
      " 0   Category  515 non-null    object\n",
      " 1   Reviews   515 non-null    int32 \n",
      "dtypes: int32(1), object(1)\n",
      "memory usage: 10.1+ KB\n"
     ]
    }
   ],
   "source": [
    "apps3.info()"
   ]
  }
 ],
 "metadata": {
  "kernelspec": {
   "display_name": "Python 3 (ipykernel)",
   "language": "python",
   "name": "python3"
  },
  "language_info": {
   "codemirror_mode": {
    "name": "ipython",
    "version": 3
   },
   "file_extension": ".py",
   "mimetype": "text/x-python",
   "name": "python",
   "nbconvert_exporter": "python",
   "pygments_lexer": "ipython3",
   "version": "3.10.2"
  }
 },
 "nbformat": 4,
 "nbformat_minor": 5
}
