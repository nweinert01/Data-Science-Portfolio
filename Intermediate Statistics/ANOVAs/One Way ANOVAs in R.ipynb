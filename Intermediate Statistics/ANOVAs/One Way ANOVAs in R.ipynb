{
 "cells": [
  {
   "cell_type": "code",
   "execution_count": 1,
   "id": "5bf82c66-d748-4e9b-a8f0-d0451359f246",
   "metadata": {},
   "outputs": [
    {
     "name": "stderr",
     "output_type": "stream",
     "text": [
      "Warning message:\n",
      "\"package 'dplyr' was built under R version 4.1.3\"\n",
      "\n",
      "Attaching package: 'dplyr'\n",
      "\n",
      "\n",
      "The following objects are masked from 'package:stats':\n",
      "\n",
      "    filter, lag\n",
      "\n",
      "\n",
      "The following objects are masked from 'package:base':\n",
      "\n",
      "    intersect, setdiff, setequal, union\n",
      "\n",
      "\n",
      "Warning message:\n",
      "\"package 'rcompanion' was built under R version 4.1.3\"\n",
      "Warning message:\n",
      "\"package 'car' was built under R version 4.1.3\"\n",
      "Loading required package: carData\n",
      "\n",
      "Warning message:\n",
      "\"package 'carData' was built under R version 4.1.3\"\n",
      "\n",
      "Attaching package: 'car'\n",
      "\n",
      "\n",
      "The following object is masked from 'package:dplyr':\n",
      "\n",
      "    recode\n",
      "\n",
      "\n"
     ]
    }
   ],
   "source": [
    "# Load Pakages\n",
    "library(\"dplyr\")\n",
    "library(\"rcompanion\")\n",
    "library(\"car\")"
   ]
  },
  {
   "cell_type": "code",
   "execution_count": 4,
   "id": "f11486b3-e49d-4e7c-8dc6-aea8e4d28894",
   "metadata": {},
   "outputs": [],
   "source": [
    "# Load Data\n",
    "NEWgoogleplaystore <- read.csv(\"NEWgoogleplaystore.csv\")"
   ]
  },
  {
   "cell_type": "markdown",
   "id": "5671add2-3d28-4b59-accd-b4af99ad9b19",
   "metadata": {},
   "source": [
    "### Is there a difference in price among the three app categories of beauty, food and drink, and photography? "
   ]
  },
  {
   "cell_type": "code",
   "execution_count": 5,
   "id": "eb8bff89-4c28-478e-b7fc-071cf16dcb67",
   "metadata": {},
   "outputs": [],
   "source": [
    "# Data Wrangling - Filter the data and remove missing values\n",
    "apps <- na.omit(NEWgoogleplaystore %>% filter(Category %in% c(\"BEAUTY\", \"FOOD_AND_DRINK\", \"PHOTOGRAPHY\")))"
   ]
  },
  {
   "cell_type": "code",
   "execution_count": 6,
   "id": "0f9966e1-66bc-4907-9ab9-9acaa24b2b39",
   "metadata": {},
   "outputs": [],
   "source": [
    "# Make price numeric\n",
    "apps$Price <- as.numeric(apps$Price)"
   ]
  },
  {
   "cell_type": "code",
   "execution_count": 7,
   "id": "0fd93cc4-5d51-4dea-8fff-2a53ea7ff7fe",
   "metadata": {},
   "outputs": [
    {
     "data": {
      "image/png": "[encoded data removed]",
      "text/plain": [
       "Plot with title \"\""
      ]
     },
     "metadata": {
      "image/png": {
       "height": 420,
       "width": 420
      }
     },
     "output_type": "display_data"
    }
   ],
   "source": [
    "# Test assumptions - Normality\n",
    "plotNormalHistogram(apps$Price)"
   ]
  },
  {
   "cell_type": "code",
   "execution_count": 8,
   "id": "9f407198-d2be-4289-9d7f-9429ee805e15",
   "metadata": {},
   "outputs": [
    {
     "data": {
      "image/png": "[encoded data removed]",
      "text/plain": [
       "Plot with title \"\""
      ]
     },
     "metadata": {
      "image/png": {
       "height": 420,
       "width": 420
      }
     },
     "output_type": "display_data"
    }
   ],
   "source": [
    "# Transform because it lacks normality\n",
    "apps$PriceSQRT <- sqrt(apps$Price)\n",
    "plotNormalHistogram(apps$PriceSQRT)"
   ]
  },
  {
   "cell_type": "code",
   "execution_count": 9,
   "id": "0459167c-9392-45c5-ad8a-fa5a4270f333",
   "metadata": {},
   "outputs": [
    {
     "data": {
      "image/png": "[encoded data removed]",
      "text/plain": [
       "Plot with title \"\""
      ]
     },
     "metadata": {
      "image/png": {
       "height": 420,
       "width": 420
      }
     },
     "output_type": "display_data"
    }
   ],
   "source": [
    "# No improvement - try cubing it\n",
    "apps$PriceCUBE <- apps$Price ^ 3\n",
    "plotNormalHistogram(apps$PriceCUBE)"
   ]
  },
  {
   "cell_type": "markdown",
   "id": "7da75c74-c299-4abe-ae87-96e07b485d50",
   "metadata": {},
   "source": [
    "### No luck on fixing the normality to remain with the origin data. ANOVAs are somewhat tolerant of a lack of normality"
   ]
  },
  {
   "cell_type": "code",
   "execution_count": 10,
   "id": "3e927cd4-9593-4e44-8d1f-1c0dd67995c4",
   "metadata": {},
   "outputs": [
    {
     "data": {
      "text/plain": [
       "\n",
       "\tBartlett test of homogeneity of variances\n",
       "\n",
       "data:  Price by Category\n",
       "Bartlett's K-squared = Inf, df = 2, p-value < 2.2e-16\n"
      ]
     },
     "metadata": {},
     "output_type": "display_data"
    }
   ],
   "source": [
    "# Homogeneity of Variance\n",
    "# Bartlett's Test\n",
    "bartlett.test(Price ~ Category, data=apps)"
   ]
  },
  {
   "cell_type": "code",
   "execution_count": 11,
   "id": "51ecb5cb-14b0-4fb8-bd70-8eda85393ede",
   "metadata": {},
   "outputs": [],
   "source": [
    "# p value < .05 which violates the assumption of homogeneity of variance"
   ]
  },
  {
   "cell_type": "code",
   "execution_count": 12,
   "id": "d9b1e6e2-0a55-47a2-b495-83de733e4840",
   "metadata": {},
   "outputs": [
    {
     "data": {
      "text/plain": [
       "\n",
       "\tFligner-Killeen test of homogeneity of variances\n",
       "\n",
       "data:  Price by Category\n",
       "Fligner-Killeen:med chi-squared = 4.878, df = 2, p-value = 0.08725\n"
      ]
     },
     "metadata": {},
     "output_type": "display_data"
    }
   ],
   "source": [
    "fligner.test(Price ~ Category, data=apps)"
   ]
  },
  {
   "cell_type": "code",
   "execution_count": 13,
   "id": "ec8f25b9-dff3-49b7-855b-949a7be8cc84",
   "metadata": {},
   "outputs": [],
   "source": [
    "# Also violates the assumption of homogeneity of variance"
   ]
  },
  {
   "cell_type": "markdown",
   "id": "8329b82b-7314-4b9c-b100-6f41181d3e0c",
   "metadata": {},
   "source": [
    "### Correcting for Violations of Homogeneity of Variance\n",
    "There are two ways that you can correct for a violation of homogeneity of variance. The first is the BoxCox transformation of your data, and the second is running a slightly different type of ANOVA, one that was created specifically to handle this violation. That test is called the Welch One-Way Test, and you'll learn about this ANOVA option."
   ]
  },
  {
   "cell_type": "markdown",
   "id": "c823b7cf-a08c-41b9-9fa2-bd639d91359d",
   "metadata": {},
   "source": [
    "### Sample Size\n",
    "An ANOVA requires a sample size of at least 20 per independent variable. In this case, you only have one independent variable, so as long as you have at least 20 cases, you are fine. Looking at the data, the n is 515, so you are fine to proceed with this assumption!"
   ]
  },
  {
   "cell_type": "markdown",
   "id": "6929c1b6-d1ab-469c-ab50-eba28c3b6e60",
   "metadata": {},
   "source": [
    "### Independence\n",
    "There is no statistical test for the assumption of independence."
   ]
  },
  {
   "cell_type": "markdown",
   "id": "9445a23e-8e04-4657-8da0-1861dd0592fc",
   "metadata": {},
   "source": [
    "# Compute ANOVA with Met Assumptions ( Equal Variance)"
   ]
  },
  {
   "cell_type": "code",
   "execution_count": 16,
   "id": "2cf08a01-17aa-46a7-8f79-970fd881cd7c",
   "metadata": {},
   "outputs": [],
   "source": [
    "appsANOVA <- aov(apps$Price ~ apps$Category)"
   ]
  },
  {
   "cell_type": "code",
   "execution_count": 17,
   "id": "8a998238-0510-4ff8-bcbd-77974148a36d",
   "metadata": {},
   "outputs": [
    {
     "data": {
      "text/plain": [
       "               Df Sum Sq Mean Sq F value Pr(>F)\n",
       "apps$Category   2    5.2   2.617   1.601  0.203\n",
       "Residuals     465  760.2   1.635               "
      ]
     },
     "metadata": {},
     "output_type": "display_data"
    }
   ],
   "source": [
    "summary(appsANOVA)"
   ]
  },
  {
   "cell_type": "markdown",
   "id": "5eb06f6f-b8dd-4cde-b2f4-57a4c05e5f15",
   "metadata": {},
   "source": [
    "## Compute ANOVA with violated assumptions (Unequal Variance)"
   ]
  },
  {
   "cell_type": "code",
   "execution_count": 18,
   "id": "7a2dd1f1-c13c-4baa-9192-98191473f6b4",
   "metadata": {},
   "outputs": [
    {
     "name": "stderr",
     "output_type": "stream",
     "text": [
      "Coefficient covariances computed by hccm()\n",
      "\n"
     ]
    },
    {
     "data": {
      "text/html": [
       "<table class=\"dataframe\">\n",
       "<caption>A anova: 2 × 3</caption>\n",
       "<thead>\n",
       "\t<tr><th></th><th scope=col>Df</th><th scope=col>F</th><th scope=col>Pr(&gt;F)</th></tr>\n",
       "\t<tr><th></th><th scope=col>&lt;dbl&gt;</th><th scope=col>&lt;dbl&gt;</th><th scope=col>&lt;dbl&gt;</th></tr>\n",
       "</thead>\n",
       "<tbody>\n",
       "\t<tr><th scope=row>Category</th><td>  2</td><td>6.314192</td><td>0.001969503</td></tr>\n",
       "\t<tr><th scope=row>Residuals</th><td>465</td><td>      NA</td><td>         NA</td></tr>\n",
       "</tbody>\n",
       "</table>\n"
      ],
      "text/latex": [
       "A anova: 2 × 3\n",
       "\\begin{tabular}{r|lll}\n",
       "  & Df & F & Pr(>F)\\\\\n",
       "  & <dbl> & <dbl> & <dbl>\\\\\n",
       "\\hline\n",
       "\tCategory &   2 & 6.314192 & 0.001969503\\\\\n",
       "\tResiduals & 465 &       NA &          NA\\\\\n",
       "\\end{tabular}\n"
      ],
      "text/markdown": [
       "\n",
       "A anova: 2 × 3\n",
       "\n",
       "| <!--/--> | Df &lt;dbl&gt; | F &lt;dbl&gt; | Pr(&gt;F) &lt;dbl&gt; |\n",
       "|---|---|---|---|\n",
       "| Category |   2 | 6.314192 | 0.001969503 |\n",
       "| Residuals | 465 |       NA |          NA |\n",
       "\n"
      ],
      "text/plain": [
       "          Df  F        Pr(>F)     \n",
       "Category    2 6.314192 0.001969503\n",
       "Residuals 465       NA          NA"
      ]
     },
     "metadata": {},
     "output_type": "display_data"
    }
   ],
   "source": [
    "# Linear Model\n",
    "ANOVA <- lm(Price ~ Category, data=apps)\n",
    "Anova(ANOVA, Type=\"II\", white.adjust=TRUE)"
   ]
  },
  {
   "cell_type": "code",
   "execution_count": 21,
   "id": "9abf24dd-fe0f-42cb-8ae0-4eb18e2aeaa8",
   "metadata": {},
   "outputs": [
    {
     "data": {
      "text/plain": [
       "\n",
       "\tPairwise comparisons using t tests with pooled SD \n",
       "\n",
       "data:  apps$Price and apps$Category \n",
       "\n",
       "               BEAUTY FOOD_AND_DRINK\n",
       "FOOD_AND_DRINK 0.74   -             \n",
       "PHOTOGRAPHY    0.19   0.16          \n",
       "\n",
       "P value adjustment method: none "
      ]
     },
     "metadata": {},
     "output_type": "display_data"
    }
   ],
   "source": [
    "# Computing Post Hocs with No Adjustment\n",
    "pairwise.t.test(apps$Price, apps$Category, p.adjust=\"none\")\n",
    "# No significant differences"
   ]
  },
  {
   "cell_type": "code",
   "execution_count": 22,
   "id": "ee8c1b94-8fe9-48d1-8665-e7b754e75b82",
   "metadata": {},
   "outputs": [
    {
     "data": {
      "text/plain": [
       "\n",
       "\tPairwise comparisons using t tests with pooled SD \n",
       "\n",
       "data:  apps$Price and apps$Category \n",
       "\n",
       "               BEAUTY FOOD_AND_DRINK\n",
       "FOOD_AND_DRINK 1.00   -             \n",
       "PHOTOGRAPHY    0.56   0.48          \n",
       "\n",
       "P value adjustment method: bonferroni "
      ]
     },
     "metadata": {},
     "output_type": "display_data"
    }
   ],
   "source": [
    "# Computing Post Hocs with Bonferroni Adjustments\n",
    "pairwise.t.test(apps$Price, apps$Category, p.adjust=\"bonferroni\")\n",
    "# Even less significant results"
   ]
  },
  {
   "cell_type": "code",
   "execution_count": 23,
   "id": "9a5d3c82-add1-4f16-90a6-3115e5a1015a",
   "metadata": {},
   "outputs": [
    {
     "data": {
      "text/plain": [
       "\n",
       "\tPairwise comparisons using t tests with non-pooled SD \n",
       "\n",
       "data:  apps$Price and apps$Category \n",
       "\n",
       "               BEAUTY FOOD_AND_DRINK\n",
       "FOOD_AND_DRINK 0.4943 -             \n",
       "PHOTOGRAPHY    0.0035 0.1470        \n",
       "\n",
       "P value adjustment method: bonferroni "
      ]
     },
     "metadata": {},
     "output_type": "display_data"
    }
   ],
   "source": [
    "# Computing Post Hocs when you have violated the assumption of homogeneity of variance\n",
    "pairwise.t.test(apps$Price, apps$Category, p.adjust=\"bonferroni\", pool.sd = FALSE)\n"
   ]
  },
  {
   "cell_type": "code",
   "execution_count": 26,
   "id": "965f1fbd-5a6e-4999-98e3-4cac922f6769",
   "metadata": {},
   "outputs": [
    {
     "name": "stdout",
     "output_type": "stream",
     "text": [
      "\u001b[90m# A tibble: 3 x 2\u001b[39m\n",
      "  Category         Mean\n",
      "  \u001b[3m\u001b[90m<chr>\u001b[39m\u001b[23m           \u001b[3m\u001b[90m<dbl>\u001b[39m\u001b[23m\n",
      "\u001b[90m1\u001b[39m BEAUTY         0     \n",
      "\u001b[90m2\u001b[39m FOOD_AND_DRINK 0.077\u001b[4m8\u001b[24m\n",
      "\u001b[90m3\u001b[39m PHOTOGRAPHY    0.278 \n"
     ]
    }
   ],
   "source": [
    "# Determine Means and Draw Conclusions\n",
    "appsMeans <- apps %>% group_by(Category) %>% summarize(Mean = mean(Price))\n",
    "print(appsMeans)"
   ]
  },
  {
   "cell_type": "code",
   "execution_count": null,
   "id": "2c16d22e-2e5d-442f-8540-491076bfea66",
   "metadata": {},
   "outputs": [],
   "source": []
  }
 ],
 "metadata": {
  "kernelspec": {
   "display_name": "R",
   "language": "R",
   "name": "ir"
  },
  "language_info": {
   "codemirror_mode": "r",
   "file_extension": ".r",
   "mimetype": "text/x-r-source",
   "name": "R",
   "pygments_lexer": "r",
   "version": "4.1.2"
  }
 },
 "nbformat": 4,
 "nbformat_minor": 5
}
