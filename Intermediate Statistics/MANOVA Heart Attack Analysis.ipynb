{
 "cells": [
  {
   "cell_type": "markdown",
   "id": "6773ccf5-f286-4859-9cbb-024b611f52b7",
   "metadata": {},
   "source": [
    "# Using MANOVAs to analyze heart attack data"
   ]
  },
  {
   "cell_type": "code",
   "execution_count": 1,
   "id": "c2856050-303b-42b7-b651-9e40eb157347",
   "metadata": {},
   "outputs": [
    {
     "name": "stderr",
     "output_type": "stream",
     "text": [
      "Warning message:\n",
      "\"package 'car' was built under R version 4.1.3\"\n",
      "Loading required package: carData\n",
      "\n",
      "Warning message:\n",
      "\"package 'carData' was built under R version 4.1.3\"\n"
     ]
    }
   ],
   "source": [
    "# Load Libraries\n",
    "library(\"mvnormtest\")\n",
    "library(\"car\")"
   ]
  },
  {
   "cell_type": "code",
   "execution_count": 3,
   "id": "d84e2449-8249-45d1-8f4f-c5b6601f2335",
   "metadata": {},
   "outputs": [],
   "source": [
    "# Load Data\n",
    "heartattack <- read.csv(\"heartAttacks.csv\")"
   ]
  },
  {
   "cell_type": "markdown",
   "id": "d97bdc8a-be20-47c2-9f39-0a5d7f5b0678",
   "metadata": {},
   "source": [
    "### Details: \n",
    "Sex (IV) resting blood pressure & cholesterol (DV)"
   ]
  },
  {
   "cell_type": "markdown",
   "id": "cc1815f4-f6d4-4f04-9104-16905021f62b",
   "metadata": {},
   "source": [
    "### Question Setup\n",
    "It is well-known that men are more likely to have heart attacks than women. How does gender (sex) influence some of the heart attack predictors like resting blood pressure (trestbps) and cholesterol (chol)?"
   ]
  },
  {
   "cell_type": "markdown",
   "id": "d3928871-fd32-47d4-a8bc-7682021a329b",
   "metadata": {},
   "source": [
    "### Requirements\n",
    "1) Test for MANOVA assumptions\n",
    "2) Run MANOVA"
   ]
  },
  {
   "cell_type": "markdown",
   "id": "cc84ec10-1c27-4706-8434-81efdd82d392",
   "metadata": {},
   "source": [
    "## Data Wrangling"
   ]
  },
  {
   "cell_type": "code",
   "execution_count": 5,
   "id": "bfefa993-907d-4067-9437-a7aa401851e7",
   "metadata": {},
   "outputs": [
    {
     "name": "stdout",
     "output_type": "stream",
     "text": [
      " int [1:303] 145 130 130 120 120 140 140 120 172 150 ...\n",
      " int [1:303] 233 250 204 236 354 192 294 263 199 168 ...\n"
     ]
    }
   ],
   "source": [
    "# Ensure variables are numeric\n",
    "str(heartattack$trestbps)\n",
    "str(heartattack$chol)"
   ]
  },
  {
   "cell_type": "code",
   "execution_count": 8,
   "id": "126dedbf-494c-43dc-8b0a-dd0f54741d98",
   "metadata": {},
   "outputs": [],
   "source": [
    "# Convert to numeric\n",
    "heartattack$trestbps <- as.numeric(heartattack$trestbps)\n",
    "heartattack$chol <- as.numeric(heartattack$chol)"
   ]
  },
  {
   "cell_type": "code",
   "execution_count": 9,
   "id": "d3790817-035d-48f7-9557-b296ee9ab3fe",
   "metadata": {},
   "outputs": [],
   "source": [
    "# Subsetting\n",
    "keeps <- c(\"trestbps\", \"chol\")\n",
    "heartattack1 <- heartattack[keeps]"
   ]
  },
  {
   "cell_type": "code",
   "execution_count": 10,
   "id": "aac0f345-94af-4064-9d70-158b781c9339",
   "metadata": {},
   "outputs": [],
   "source": [
    "# Format as Matrix\n",
    "heartattack2 <- as.matrix(heartattack1)"
   ]
  },
  {
   "cell_type": "markdown",
   "id": "d610cde7-3338-4c36-81bd-1c0a7e64e2bd",
   "metadata": {},
   "source": [
    "# Test Assumptions"
   ]
  },
  {
   "cell_type": "markdown",
   "id": "7b0eabee-26b5-4c8e-8825-ba9d7f3708b1",
   "metadata": {},
   "source": [
    "### Sample Size\n",
    "303 so this assumption is met"
   ]
  },
  {
   "cell_type": "markdown",
   "id": "9c1ee431-d242-4eea-9997-bc41a364a6e1",
   "metadata": {},
   "source": [
    "### Multivariate Normality"
   ]
  },
  {
   "cell_type": "code",
   "execution_count": 11,
   "id": "2f8d45c1-0ebd-46a0-ac50-7223cdf12374",
   "metadata": {},
   "outputs": [],
   "source": [
    "# Drop any missing values\n",
    "heartattack3 <- na.omit(heartattack2)"
   ]
  },
  {
   "cell_type": "code",
   "execution_count": 12,
   "id": "d4234fe3-02ca-417a-9b75-a0518df49cd0",
   "metadata": {},
   "outputs": [
    {
     "data": {
      "text/plain": [
       "\n",
       "\tShapiro-Wilk normality test\n",
       "\n",
       "data:  Z\n",
       "W = 0.94568, p-value = 3.93e-09\n"
      ]
     },
     "metadata": {},
     "output_type": "display_data"
    }
   ],
   "source": [
    "mshapiro.test(t(heartattack3))"
   ]
  },
  {
   "cell_type": "markdown",
   "id": "b3b39a8b-e965-4c1b-9c6f-10ed8990390b",
   "metadata": {},
   "source": [
    "# Results \n",
    "The p value is less than .-05 which violates the assumption of multivariate normality; however, we will continue for learning purposes"
   ]
  },
  {
   "cell_type": "markdown",
   "id": "36e5c2aa-799a-4b8a-829c-3608d84ae548",
   "metadata": {},
   "source": [
    "## Homogeneity of Variance"
   ]
  },
  {
   "cell_type": "code",
   "execution_count": 13,
   "id": "0a532f2f-bfff-4b22-bb77-22d72445ac47",
   "metadata": {},
   "outputs": [
    {
     "name": "stderr",
     "output_type": "stream",
     "text": [
      "Warning message in leveneTest.default(heartattack$trestbps, heartattack$sex, data = heartattack):\n",
      "\"heartattack$sex coerced to factor.\"\n"
     ]
    },
    {
     "data": {
      "text/html": [
       "<table class=\"dataframe\">\n",
       "<caption>A anova: 2 × 3</caption>\n",
       "<thead>\n",
       "\t<tr><th></th><th scope=col>Df</th><th scope=col>F value</th><th scope=col>Pr(&gt;F)</th></tr>\n",
       "\t<tr><th></th><th scope=col>&lt;int&gt;</th><th scope=col>&lt;dbl&gt;</th><th scope=col>&lt;dbl&gt;</th></tr>\n",
       "</thead>\n",
       "<tbody>\n",
       "\t<tr><th scope=row>group</th><td>  1</td><td>1.359311</td><td>0.24458</td></tr>\n",
       "\t<tr><th scope=row> </th><td>301</td><td>      NA</td><td>     NA</td></tr>\n",
       "</tbody>\n",
       "</table>\n"
      ],
      "text/latex": [
       "A anova: 2 × 3\n",
       "\\begin{tabular}{r|lll}\n",
       "  & Df & F value & Pr(>F)\\\\\n",
       "  & <int> & <dbl> & <dbl>\\\\\n",
       "\\hline\n",
       "\tgroup &   1 & 1.359311 & 0.24458\\\\\n",
       "\t  & 301 &       NA &      NA\\\\\n",
       "\\end{tabular}\n"
      ],
      "text/markdown": [
       "\n",
       "A anova: 2 × 3\n",
       "\n",
       "| <!--/--> | Df &lt;int&gt; | F value &lt;dbl&gt; | Pr(&gt;F) &lt;dbl&gt; |\n",
       "|---|---|---|---|\n",
       "| group |   1 | 1.359311 | 0.24458 |\n",
       "| <!----> | 301 |       NA |      NA |\n",
       "\n"
      ],
      "text/plain": [
       "      Df  F value  Pr(>F) \n",
       "group   1 1.359311 0.24458\n",
       "      301       NA      NA"
      ]
     },
     "metadata": {},
     "output_type": "display_data"
    }
   ],
   "source": [
    "leveneTest(heartattack$trestbps, heartattack$sex, data=heartattack)"
   ]
  },
  {
   "cell_type": "code",
   "execution_count": 14,
   "id": "202e415b-6f4d-41de-b51b-0cfa149f444a",
   "metadata": {},
   "outputs": [
    {
     "name": "stderr",
     "output_type": "stream",
     "text": [
      "Warning message in leveneTest.default(heartattack$chol, heartattack$sex, data = heartattack):\n",
      "\"heartattack$sex coerced to factor.\"\n"
     ]
    },
    {
     "data": {
      "text/html": [
       "<table class=\"dataframe\">\n",
       "<caption>A anova: 2 × 3</caption>\n",
       "<thead>\n",
       "\t<tr><th></th><th scope=col>Df</th><th scope=col>F value</th><th scope=col>Pr(&gt;F)</th></tr>\n",
       "\t<tr><th></th><th scope=col>&lt;int&gt;</th><th scope=col>&lt;dbl&gt;</th><th scope=col>&lt;dbl&gt;</th></tr>\n",
       "</thead>\n",
       "<tbody>\n",
       "\t<tr><th scope=row>group</th><td>  1</td><td>11.37598</td><td>0.0008413142</td></tr>\n",
       "\t<tr><th scope=row> </th><td>301</td><td>      NA</td><td>          NA</td></tr>\n",
       "</tbody>\n",
       "</table>\n"
      ],
      "text/latex": [
       "A anova: 2 × 3\n",
       "\\begin{tabular}{r|lll}\n",
       "  & Df & F value & Pr(>F)\\\\\n",
       "  & <int> & <dbl> & <dbl>\\\\\n",
       "\\hline\n",
       "\tgroup &   1 & 11.37598 & 0.0008413142\\\\\n",
       "\t  & 301 &       NA &           NA\\\\\n",
       "\\end{tabular}\n"
      ],
      "text/markdown": [
       "\n",
       "A anova: 2 × 3\n",
       "\n",
       "| <!--/--> | Df &lt;int&gt; | F value &lt;dbl&gt; | Pr(&gt;F) &lt;dbl&gt; |\n",
       "|---|---|---|---|\n",
       "| group |   1 | 11.37598 | 0.0008413142 |\n",
       "| <!----> | 301 |       NA |           NA |\n",
       "\n"
      ],
      "text/plain": [
       "      Df  F value  Pr(>F)      \n",
       "group   1 11.37598 0.0008413142\n",
       "      301       NA           NA"
      ]
     },
     "metadata": {},
     "output_type": "display_data"
    }
   ],
   "source": [
    "leveneTest(heartattack$chol, heartattack$sex, data=heartattack)"
   ]
  },
  {
   "cell_type": "markdown",
   "id": "71be8c6a-c5d0-4cb5-b6b7-d9f5baeef070",
   "metadata": {},
   "source": [
    "## Absense of Multicollinearity"
   ]
  },
  {
   "cell_type": "code",
   "execution_count": 15,
   "id": "3cdcd979-ea1e-4660-89ab-baf14fc08b95",
   "metadata": {},
   "outputs": [
    {
     "data": {
      "text/plain": [
       "\n",
       "\tPearson's product-moment correlation\n",
       "\n",
       "data:  heartattack$trestbps and heartattack$chol\n",
       "t = 2.1534, df = 301, p-value = 0.03208\n",
       "alternative hypothesis: true correlation is not equal to 0\n",
       "95 percent confidence interval:\n",
       " 0.01064389 0.23262366\n",
       "sample estimates:\n",
       "      cor \n",
       "0.1231742 \n"
      ]
     },
     "metadata": {},
     "output_type": "display_data"
    }
   ],
   "source": [
    "cor.test(heartattack$trestbps, heartattack$chol, method=\"pearson\", use=\"complete.obs\")"
   ]
  },
  {
   "cell_type": "markdown",
   "id": "865810b9-7696-4b04-a984-6a8fddb2eab9",
   "metadata": {},
   "source": [
    "## The Analysis "
   ]
  },
  {
   "cell_type": "code",
   "execution_count": 18,
   "id": "27cbae32-f712-4afe-82eb-7e4dc57d6cf8",
   "metadata": {},
   "outputs": [
    {
     "data": {
      "text/plain": [
       "           Df   Pillai approx F num Df den Df   Pr(>F)   \n",
       "sex         1 0.040235   6.2882      2    300 0.002112 **\n",
       "Residuals 301                                            \n",
       "---\n",
       "Signif. codes:  0 '***' 0.001 '**' 0.01 '*' 0.05 '.' 0.1 ' ' 1"
      ]
     },
     "metadata": {},
     "output_type": "display_data"
    }
   ],
   "source": [
    "MANOVA <- manova(cbind(trestbps, chol) ~ sex, data = heartattack)\n",
    "summary(MANOVA)"
   ]
  },
  {
   "cell_type": "markdown",
   "id": "854192a8-841a-429f-ba8e-e99b964cba9f",
   "metadata": {},
   "source": [
    "## Post Hocs"
   ]
  },
  {
   "cell_type": "code",
   "execution_count": 20,
   "id": "390df531-018b-433d-8fa1-24d9ae584e0a",
   "metadata": {},
   "outputs": [
    {
     "data": {
      "text/plain": [
       " Response trestbps :\n",
       "             Df Sum Sq Mean Sq F value Pr(>F)\n",
       "sex           1    299  299.36  0.9732 0.3247\n",
       "Residuals   301  92592  307.61               \n",
       "\n",
       " Response chol :\n",
       "             Df Sum Sq Mean Sq F value  Pr(>F)    \n",
       "sex           1  31778   31778  12.271 0.00053 ***\n",
       "Residuals   301 779523    2590                    \n",
       "---\n",
       "Signif. codes:  0 '***' 0.001 '**' 0.01 '*' 0.05 '.' 0.1 ' ' 1\n"
      ]
     },
     "metadata": {},
     "output_type": "display_data"
    }
   ],
   "source": [
    "summary.aov(MANOVA, test = \"wilks\") "
   ]
  },
  {
   "cell_type": "markdown",
   "id": "b8fdef91-fdca-48d6-ba19-ab4e5bb6b26c",
   "metadata": {},
   "source": [
    "# Results\n",
    "There is a significant difference in resting blood presure and cholesterol by sex."
   ]
  },
  {
   "cell_type": "code",
   "execution_count": null,
   "id": "e24f6d21-a343-4958-85c8-90a1967f4600",
   "metadata": {},
   "outputs": [],
   "source": []
  }
 ],
 "metadata": {
  "kernelspec": {
   "display_name": "R",
   "language": "R",
   "name": "ir"
  },
  "language_info": {
   "codemirror_mode": "r",
   "file_extension": ".r",
   "mimetype": "text/x-r-source",
   "name": "R",
   "pygments_lexer": "r",
   "version": "4.1.2"
  }
 },
 "nbformat": 4,
 "nbformat_minor": 5
}
