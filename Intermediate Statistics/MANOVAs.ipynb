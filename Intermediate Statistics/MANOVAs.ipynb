{
 "cells": [
  {
   "cell_type": "markdown",
   "id": "ed617bf1-85a5-4cde-9e22-cca6541bd6fb",
   "metadata": {},
   "source": [
    "# MANOVAs in R"
   ]
  },
  {
   "cell_type": "markdown",
   "id": "3736bd9f-b0c1-4283-8705-9bb46b1cc70b",
   "metadata": {},
   "source": [
    "# Load Libraries\n",
    "library(\"mvnormtest\")\n",
    "library(\"car\")"
   ]
  },
  {
   "cell_type": "code",
   "execution_count": 2,
   "id": "20d0ca10-4686-42c6-871f-216eaf9d6531",
   "metadata": {},
   "outputs": [],
   "source": [
    "# Load Data\n",
    "kickstarter <- read.csv(\"kickstarter.csv\")\n"
   ]
  },
  {
   "cell_type": "markdown",
   "id": "8ea26926-274d-49bd-afd4-783e56659995",
   "metadata": {},
   "source": [
    "## Question Setup"
   ]
  },
  {
   "cell_type": "markdown",
   "id": "f3c0df39-01c2-4955-b1d6-3371668a4f08",
   "metadata": {},
   "source": [
    "### Does the country the project originated in influence the number of backers and the amount of money pledged?"
   ]
  },
  {
   "cell_type": "markdown",
   "id": "f1045942-669b-49c9-84d9-9fb761ccd096",
   "metadata": {},
   "source": [
    "# Details\n",
    "To answer this question, the independent variable will be the country the project originated in, country. This is a categorical variable. The two dependent variables will be the number of backers (backers) and the amount pledged (pledged). These variables are both continuous."
   ]
  },
  {
   "cell_type": "markdown",
   "id": "bc848a98-f629-46b2-99ba-6a7415898c10",
   "metadata": {},
   "source": [
    "## Data Wrangling\n",
    "Although no data wrangling is actually required for the MANOVA itself, some wrangling is required to test for assumptions. In order to test for multivariate normality, you will need to create a dataset containing only your two dependent variables that is in a matrix format, and you will need to ensure that they are numeric. Unfortunately, the test for normality can only handle 5,000 records, so you will also need to limit your data to 5,000 rows as well."
   ]
  },
  {
   "cell_type": "code",
   "execution_count": 3,
   "id": "f0dc8a6a-3374-4902-b4dd-5741885514d1",
   "metadata": {},
   "outputs": [
    {
     "name": "stdout",
     "output_type": "stream",
     "text": [
      " chr [1:323750] \"0\" \"220\" \"1\" \"1283\" \"52375\" \"1205\" \"453\" \"8233\" \"6240.57\" ...\n",
      " chr [1:323750] \"0\" \"3\" \"1\" \"14\" \"224\" \"16\" \"40\" \"58\" \"43\" \"0\" \"100\" \"0\" ...\n"
     ]
    }
   ],
   "source": [
    "# Ensure the variables are numeric\n",
    "str(kickstarter$pledged)\n",
    "str(kickstarter$backers)"
   ]
  },
  {
   "cell_type": "code",
   "execution_count": 4,
   "id": "d937bd33-8c65-4151-80a0-968d0e12ab2e",
   "metadata": {},
   "outputs": [
    {
     "name": "stderr",
     "output_type": "stream",
     "text": [
      "Warning message in eval(expr, envir, enclos):\n",
      "\"NAs introduced by coercion\"\n",
      "Warning message in eval(expr, envir, enclos):\n",
      "\"NAs introduced by coercion\"\n"
     ]
    }
   ],
   "source": [
    "kickstarter$pledged <- as.numeric(kickstarter$pledged)\n",
    "kickstarter$backers <- as.numeric(kickstarter$backers)"
   ]
  },
  {
   "cell_type": "code",
   "execution_count": 6,
   "id": "c7f879e1-543d-4fb3-bdff-dd7accb16131",
   "metadata": {},
   "outputs": [],
   "source": [
    "# Subsetting\n",
    "keeps <- c(\"pledged\", \"backers\")\n",
    "kickstarter1 <- kickstarter[keeps]"
   ]
  },
  {
   "cell_type": "code",
   "execution_count": 7,
   "id": "d08a1992-4d95-4e1c-a91f-646ef1cd8409",
   "metadata": {},
   "outputs": [],
   "source": [
    "# Limit the number of rows\n",
    "kickstarter2 <- kickstarter1[1:5000,]\n"
   ]
  },
  {
   "cell_type": "code",
   "execution_count": 8,
   "id": "76d17e52-3f90-4881-8aab-cd3de3a577ba",
   "metadata": {},
   "outputs": [],
   "source": [
    "# Format as Matrix\n",
    "kickstarter3 <- as.matrix(kickstarter2)\n"
   ]
  },
  {
   "cell_type": "markdown",
   "id": "d8ddbc1f-d204-49f8-9961-e2d836d94a9c",
   "metadata": {},
   "source": [
    "### Test Assumptions"
   ]
  },
  {
   "cell_type": "markdown",
   "id": "741b2c4d-bc94-45b5-a4e1-a0199a33dfa3",
   "metadata": {},
   "source": [
    "### Sample Size\n",
    "The first assumption of MANOVAs is sample size. The rule of thumb is that you must have at least 20 cases per independent variable, and that there must be more cases then dependent variables in every cell. Meaning that there must be more than 2 cases for each country. Happily, both of these are fulfilled with a dataset of 323,746!"
   ]
  },
  {
   "cell_type": "markdown",
   "id": "81c09b5e-be89-4c25-a518-5538e0d0c660",
   "metadata": {},
   "source": [
    "### Multivariate Normality "
   ]
  },
  {
   "cell_type": "code",
   "execution_count": 9,
   "id": "9000bf52-de40-4f26-8615-3f5f889442d7",
   "metadata": {},
   "outputs": [],
   "source": [
    "# Drop any missing values\n",
    "kickstarter4 <- na.omit(kickstarter3)\n"
   ]
  },
  {
   "cell_type": "code",
   "execution_count": 10,
   "id": "e735e11c-5699-44a2-9309-fa9c71f9d024",
   "metadata": {},
   "outputs": [
    {
     "data": {
      "text/plain": [
       "\n",
       "\tShapiro-Wilk normality test\n",
       "\n",
       "data:  Z\n",
       "W = 0.07914, p-value < 2.2e-16\n"
      ]
     },
     "metadata": {},
     "output_type": "display_data"
    }
   ],
   "source": [
    "mshapiro.test(t(kickstarter4))\n"
   ]
  },
  {
   "cell_type": "markdown",
   "id": "61c5dff1-2757-4288-a53f-0733a3c309d5",
   "metadata": {},
   "source": [
    "### Results\n",
    "You have violated the assumption of multivariate normality if the p value is significant at p < .05, so unfortunately, these data do not meet the assumption for MANOVAs. However, for learning purposes, you will continue."
   ]
  },
  {
   "cell_type": "markdown",
   "id": "83af79cc-eee1-456a-96d6-166eff37d513",
   "metadata": {},
   "source": [
    "## Homogeneity of Variance"
   ]
  },
  {
   "cell_type": "code",
   "execution_count": 11,
   "id": "d26aa456-b15b-4eb7-8a95-819b75584b88",
   "metadata": {},
   "outputs": [
    {
     "name": "stderr",
     "output_type": "stream",
     "text": [
      "Warning message in leveneTest.default(kickstarter$pledged, kickstarter$country, :\n",
      "\"kickstarter$country coerced to factor.\"\n"
     ]
    },
    {
     "data": {
      "text/html": [
       "<table class=\"dataframe\">\n",
       "<caption>A anova: 2 × 3</caption>\n",
       "<thead>\n",
       "\t<tr><th></th><th scope=col>Df</th><th scope=col>F value</th><th scope=col>Pr(&gt;F)</th></tr>\n",
       "\t<tr><th></th><th scope=col>&lt;int&gt;</th><th scope=col>&lt;dbl&gt;</th><th scope=col>&lt;dbl&gt;</th></tr>\n",
       "</thead>\n",
       "<tbody>\n",
       "\t<tr><th scope=row>group</th><td>    23</td><td>22.13075</td><td>5.661519e-93</td></tr>\n",
       "\t<tr><th scope=row> </th><td>323102</td><td>      NA</td><td>          NA</td></tr>\n",
       "</tbody>\n",
       "</table>\n"
      ],
      "text/latex": [
       "A anova: 2 × 3\n",
       "\\begin{tabular}{r|lll}\n",
       "  & Df & F value & Pr(>F)\\\\\n",
       "  & <int> & <dbl> & <dbl>\\\\\n",
       "\\hline\n",
       "\tgroup &     23 & 22.13075 & 5.661519e-93\\\\\n",
       "\t  & 323102 &       NA &           NA\\\\\n",
       "\\end{tabular}\n"
      ],
      "text/markdown": [
       "\n",
       "A anova: 2 × 3\n",
       "\n",
       "| <!--/--> | Df &lt;int&gt; | F value &lt;dbl&gt; | Pr(&gt;F) &lt;dbl&gt; |\n",
       "|---|---|---|---|\n",
       "| group |     23 | 22.13075 | 5.661519e-93 |\n",
       "| <!----> | 323102 |       NA |           NA |\n",
       "\n"
      ],
      "text/plain": [
       "      Df     F value  Pr(>F)      \n",
       "group     23 22.13075 5.661519e-93\n",
       "      323102       NA           NA"
      ]
     },
     "metadata": {},
     "output_type": "display_data"
    }
   ],
   "source": [
    "leveneTest(kickstarter$pledged, kickstarter$country, data=kickstarter)\n"
   ]
  },
  {
   "cell_type": "code",
   "execution_count": 12,
   "id": "b91dd5ca-993d-4d37-96f6-74b3a07e0a5a",
   "metadata": {},
   "outputs": [
    {
     "name": "stderr",
     "output_type": "stream",
     "text": [
      "Warning message in leveneTest.default(kickstarter$pledged, kickstarter$country, :\n",
      "\"kickstarter$country coerced to factor.\"\n"
     ]
    },
    {
     "data": {
      "text/html": [
       "<table class=\"dataframe\">\n",
       "<caption>A anova: 2 × 3</caption>\n",
       "<thead>\n",
       "\t<tr><th></th><th scope=col>Df</th><th scope=col>F value</th><th scope=col>Pr(&gt;F)</th></tr>\n",
       "\t<tr><th></th><th scope=col>&lt;int&gt;</th><th scope=col>&lt;dbl&gt;</th><th scope=col>&lt;dbl&gt;</th></tr>\n",
       "</thead>\n",
       "<tbody>\n",
       "\t<tr><th scope=row>group</th><td>    23</td><td>22.13075</td><td>5.661519e-93</td></tr>\n",
       "\t<tr><th scope=row> </th><td>323102</td><td>      NA</td><td>          NA</td></tr>\n",
       "</tbody>\n",
       "</table>\n"
      ],
      "text/latex": [
       "A anova: 2 × 3\n",
       "\\begin{tabular}{r|lll}\n",
       "  & Df & F value & Pr(>F)\\\\\n",
       "  & <int> & <dbl> & <dbl>\\\\\n",
       "\\hline\n",
       "\tgroup &     23 & 22.13075 & 5.661519e-93\\\\\n",
       "\t  & 323102 &       NA &           NA\\\\\n",
       "\\end{tabular}\n"
      ],
      "text/markdown": [
       "\n",
       "A anova: 2 × 3\n",
       "\n",
       "| <!--/--> | Df &lt;int&gt; | F value &lt;dbl&gt; | Pr(&gt;F) &lt;dbl&gt; |\n",
       "|---|---|---|---|\n",
       "| group |     23 | 22.13075 | 5.661519e-93 |\n",
       "| <!----> | 323102 |       NA |           NA |\n",
       "\n"
      ],
      "text/plain": [
       "      Df     F value  Pr(>F)      \n",
       "group     23 22.13075 5.661519e-93\n",
       "      323102       NA           NA"
      ]
     },
     "metadata": {},
     "output_type": "display_data"
    }
   ],
   "source": [
    "leveneTest(kickstarter$pledged, kickstarter$country, data=kickstarter)\n"
   ]
  },
  {
   "cell_type": "markdown",
   "id": "fbb729ef-4829-4655-b8c7-3b0e58a4b0eb",
   "metadata": {},
   "source": [
    "### Results\n",
    "Unfortunately, neither variable met the assumption of homogeneity of variance, since they were both significant at p < .05. You have violated the assumption of homogeneity of variance, but you will proceed for now for learning purposes.\n",
    "\n"
   ]
  },
  {
   "cell_type": "markdown",
   "id": "f374522f-8bfa-449d-bcbf-56d282b2ffbf",
   "metadata": {},
   "source": [
    "## Absence of Multicollinearity\n"
   ]
  },
  {
   "cell_type": "code",
   "execution_count": 15,
   "id": "20c47a2a-33e1-4b3f-bb83-3c911e9e87e5",
   "metadata": {},
   "outputs": [
    {
     "data": {
      "text/plain": [
       "\n",
       "\tPearson's product-moment correlation\n",
       "\n",
       "data:  kickstarter$pledged and kickstarter$backers\n",
       "t = 615.89, df = 323124, p-value < 2.2e-16\n",
       "alternative hypothesis: true correlation is not equal to 0\n",
       "95 percent confidence interval:\n",
       " 0.7332546 0.7364268\n",
       "sample estimates:\n",
       "      cor \n",
       "0.7348447 \n"
      ]
     },
     "metadata": {},
     "output_type": "display_data"
    }
   ],
   "source": [
    "cor.test(kickstarter$pledged, kickstarter$backers, method=\"pearson\", use=\"complete.obs\")"
   ]
  },
  {
   "cell_type": "markdown",
   "id": "e2c94cad-43b2-49b0-bae1-e4eb90d28176",
   "metadata": {},
   "source": [
    "## The Analysis "
   ]
  },
  {
   "cell_type": "code",
   "execution_count": 16,
   "id": "cb1992ad-4cf1-488a-9e3e-ccad711b0727",
   "metadata": {},
   "outputs": [
    {
     "data": {
      "text/plain": [
       "              Df   Pillai approx F num Df den Df    Pr(>F)    \n",
       "country       23 0.032996   235.65     46 646204 < 2.2e-16 ***\n",
       "Residuals 323102                                              \n",
       "---\n",
       "Signif. codes:  0 '***' 0.001 '**' 0.01 '*' 0.05 '.' 0.1 ' ' 1"
      ]
     },
     "metadata": {},
     "output_type": "display_data"
    }
   ],
   "source": [
    "MANOVA <- manova(cbind(pledged, backers) ~ country, data = kickstarter)\n",
    "summary(MANOVA)"
   ]
  },
  {
   "cell_type": "markdown",
   "id": "8978faea-d852-4fd1-b0b1-bdac68e47711",
   "metadata": {},
   "source": [
    "## ANOVAs as Post Hocs"
   ]
  },
  {
   "cell_type": "code",
   "execution_count": 18,
   "id": "5f323212-0384-4a59-b003-fc8a6e7767c3",
   "metadata": {},
   "outputs": [
    {
     "data": {
      "text/plain": [
       " Response pledged :\n",
       "                Df     Sum Sq    Mean Sq F value    Pr(>F)    \n",
       "country         23 4.1367e+12 1.7985e+11  22.445 < 2.2e-16 ***\n",
       "Residuals   323102 2.5891e+15 8.0133e+09                      \n",
       "---\n",
       "Signif. codes:  0 '***' 0.001 '**' 0.01 '*' 0.05 '.' 0.1 ' ' 1\n",
       "\n",
       " Response backers :\n",
       "                Df     Sum Sq   Mean Sq F value    Pr(>F)    \n",
       "country         23 4.0433e+09 175796074  198.45 < 2.2e-16 ***\n",
       "Residuals   323102 2.8622e+11    885848                      \n",
       "---\n",
       "Signif. codes:  0 '***' 0.001 '**' 0.01 '*' 0.05 '.' 0.1 ' ' 1\n",
       "\n",
       "624 observations deleted due to missingness"
      ]
     },
     "metadata": {},
     "output_type": "display_data"
    }
   ],
   "source": [
    "summary.aov(MANOVA, test = \"wilks\") "
   ]
  },
  {
   "cell_type": "markdown",
   "id": "a235b8e2-f627-4635-80ce-e7107b5aa516",
   "metadata": {},
   "source": [
    "### Results:\n",
    " As you can see here, there is a significant difference in both the amount of funds pledged and the number of backers by country."
   ]
  },
  {
   "cell_type": "code",
   "execution_count": null,
   "id": "5c06570e-aabc-4a8f-9a78-24e22edf10a9",
   "metadata": {},
   "outputs": [],
   "source": []
  }
 ],
 "metadata": {
  "kernelspec": {
   "display_name": "R",
   "language": "R",
   "name": "ir"
  },
  "language_info": {
   "codemirror_mode": "r",
   "file_extension": ".r",
   "mimetype": "text/x-r-source",
   "name": "R",
   "pygments_lexer": "r",
   "version": "4.1.2"
  }
 },
 "nbformat": 4,
 "nbformat_minor": 5
}
