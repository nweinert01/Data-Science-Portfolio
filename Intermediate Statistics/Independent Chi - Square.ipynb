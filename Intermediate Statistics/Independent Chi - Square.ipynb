{
 "cells": [
  {
   "cell_type": "markdown",
   "id": "2d3f0c05-8cd5-4292-9392-fabb132aa6cb",
   "metadata": {},
   "source": [
    "# Independent Chi-Square"
   ]
  },
  {
   "cell_type": "markdown",
   "id": "97968c8e-84af-4d73-a252-360228dc59a4",
   "metadata": {},
   "source": [
    "### An independent Chi-Square is used when you want to determine whether two categorical variables influence each other."
   ]
  },
  {
   "cell_type": "markdown",
   "id": "8af6a596-a322-466e-8684-1b54bcf68866",
   "metadata": {},
   "source": [
    "### Import Packages"
   ]
  },
  {
   "cell_type": "code",
   "execution_count": 1,
   "id": "b54102a4-d7a2-41b1-a759-a5c3d4977f2e",
   "metadata": {},
   "outputs": [],
   "source": [
    "import pandas as pd\n",
    "from scipy import stats"
   ]
  },
  {
   "cell_type": "markdown",
   "id": "af3757de-8f4e-45d0-affa-18e3b507397d",
   "metadata": {},
   "source": [
    "### Import Data"
   ]
  },
  {
   "cell_type": "code",
   "execution_count": 12,
   "id": "27b861a0-41d8-41fc-83d7-d90890879021",
   "metadata": {},
   "outputs": [
    {
     "data": {
      "text/html": [
       "<div>\n",
       "<style scoped>\n",
       "    .dataframe tbody tr th:only-of-type {\n",
       "        vertical-align: middle;\n",
       "    }\n",
       "\n",
       "    .dataframe tbody tr th {\n",
       "        vertical-align: top;\n",
       "    }\n",
       "\n",
       "    .dataframe thead th {\n",
       "        text-align: right;\n",
       "    }\n",
       "</style>\n",
       "<table border=\"1\" class=\"dataframe\">\n",
       "  <thead>\n",
       "    <tr style=\"text-align: right;\">\n",
       "      <th></th>\n",
       "      <th>JRC_code</th>\n",
       "      <th>purchCntry</th>\n",
       "      <th>prodCntry</th>\n",
       "      <th>Pb</th>\n",
       "      <th>sdPb</th>\n",
       "      <th>shade</th>\n",
       "      <th>prodType</th>\n",
       "      <th>priceCatgry</th>\n",
       "    </tr>\n",
       "  </thead>\n",
       "  <tbody>\n",
       "    <tr>\n",
       "      <th>0</th>\n",
       "      <td>C135</td>\n",
       "      <td>NL</td>\n",
       "      <td>NL</td>\n",
       "      <td>3.75</td>\n",
       "      <td>0.24</td>\n",
       "      <td>Red</td>\n",
       "      <td>LP</td>\n",
       "      <td>2</td>\n",
       "    </tr>\n",
       "    <tr>\n",
       "      <th>1</th>\n",
       "      <td>C18</td>\n",
       "      <td>FI</td>\n",
       "      <td>FI</td>\n",
       "      <td>2.29</td>\n",
       "      <td>0.07</td>\n",
       "      <td>Red</td>\n",
       "      <td>LP</td>\n",
       "      <td>2</td>\n",
       "    </tr>\n",
       "    <tr>\n",
       "      <th>2</th>\n",
       "      <td>C20</td>\n",
       "      <td>FI</td>\n",
       "      <td>IT</td>\n",
       "      <td>1.27</td>\n",
       "      <td>0.06</td>\n",
       "      <td>Red</td>\n",
       "      <td>LP</td>\n",
       "      <td>2</td>\n",
       "    </tr>\n",
       "    <tr>\n",
       "      <th>3</th>\n",
       "      <td>C164</td>\n",
       "      <td>DE</td>\n",
       "      <td>FR</td>\n",
       "      <td>1.21</td>\n",
       "      <td>0.06</td>\n",
       "      <td>Red</td>\n",
       "      <td>LP</td>\n",
       "      <td>2</td>\n",
       "    </tr>\n",
       "    <tr>\n",
       "      <th>4</th>\n",
       "      <td>C71</td>\n",
       "      <td>MT</td>\n",
       "      <td>UK</td>\n",
       "      <td>0.85</td>\n",
       "      <td>0.04</td>\n",
       "      <td>Red</td>\n",
       "      <td>LP</td>\n",
       "      <td>2</td>\n",
       "    </tr>\n",
       "    <tr>\n",
       "      <th>...</th>\n",
       "      <td>...</td>\n",
       "      <td>...</td>\n",
       "      <td>...</td>\n",
       "      <td>...</td>\n",
       "      <td>...</td>\n",
       "      <td>...</td>\n",
       "      <td>...</td>\n",
       "      <td>...</td>\n",
       "    </tr>\n",
       "    <tr>\n",
       "      <th>95</th>\n",
       "      <td>C96</td>\n",
       "      <td>IT</td>\n",
       "      <td>DE</td>\n",
       "      <td>0.33</td>\n",
       "      <td>0.08</td>\n",
       "      <td>Pink</td>\n",
       "      <td>LP</td>\n",
       "      <td>1</td>\n",
       "    </tr>\n",
       "    <tr>\n",
       "      <th>96</th>\n",
       "      <td>C196</td>\n",
       "      <td>PT</td>\n",
       "      <td>FR</td>\n",
       "      <td>0.32</td>\n",
       "      <td>0.02</td>\n",
       "      <td>Pink</td>\n",
       "      <td>LP</td>\n",
       "      <td>2</td>\n",
       "    </tr>\n",
       "    <tr>\n",
       "      <th>97</th>\n",
       "      <td>C58</td>\n",
       "      <td>FR</td>\n",
       "      <td>FR</td>\n",
       "      <td>0.32</td>\n",
       "      <td>0.02</td>\n",
       "      <td>Pink</td>\n",
       "      <td>LP</td>\n",
       "      <td>2</td>\n",
       "    </tr>\n",
       "    <tr>\n",
       "      <th>98</th>\n",
       "      <td>C182</td>\n",
       "      <td>CZ</td>\n",
       "      <td>FR</td>\n",
       "      <td>0.28</td>\n",
       "      <td>0.03</td>\n",
       "      <td>Pink</td>\n",
       "      <td>LP</td>\n",
       "      <td>2</td>\n",
       "    </tr>\n",
       "    <tr>\n",
       "      <th>99</th>\n",
       "      <td>C183</td>\n",
       "      <td>CZ</td>\n",
       "      <td>FR</td>\n",
       "      <td>0.25</td>\n",
       "      <td>0.01</td>\n",
       "      <td>Pink</td>\n",
       "      <td>LP</td>\n",
       "      <td>2</td>\n",
       "    </tr>\n",
       "  </tbody>\n",
       "</table>\n",
       "<p>100 rows × 8 columns</p>\n",
       "</div>"
      ],
      "text/plain": [
       "   JRC_code purchCntry prodCntry    Pb  sdPb shade prodType  priceCatgry\n",
       "0      C135         NL        NL  3.75  0.24   Red       LP            2\n",
       "1       C18         FI        FI  2.29  0.07   Red       LP            2\n",
       "2       C20         FI        IT  1.27  0.06   Red       LP            2\n",
       "3      C164         DE        FR  1.21  0.06   Red       LP            2\n",
       "4       C71         MT        UK  0.85  0.04   Red       LP            2\n",
       "..      ...        ...       ...   ...   ...   ...      ...          ...\n",
       "95      C96         IT        DE  0.33  0.08  Pink       LP            1\n",
       "96     C196         PT        FR  0.32  0.02  Pink       LP            2\n",
       "97      C58         FR        FR  0.32  0.02  Pink       LP            2\n",
       "98     C182         CZ        FR  0.28  0.03  Pink       LP            2\n",
       "99     C183         CZ        FR  0.25  0.01  Pink       LP            2\n",
       "\n",
       "[100 rows x 8 columns]"
      ]
     },
     "execution_count": 12,
     "metadata": {},
     "output_type": "execute_result"
    }
   ],
   "source": [
    "lipstick = pd.read_csv(r'C:\\Users\\nikki\\OneDrive\\Pictures\\Data Science\\105 Intermediate Statistics\\lead_lipstick.csv')\n",
    "lipstick.head(100)"
   ]
  },
  {
   "cell_type": "code",
   "execution_count": 6,
   "id": "fd0756c8-ffda-4fb9-8ac3-b9e97c86c069",
   "metadata": {},
   "outputs": [],
   "source": [
    "# NOTE: prodType(LP- Lipstick) (LG-Lipgloss\n",
    "\n",
    "# NOTE priceCategry (1: < 5 erors) (2: 5-15 erors) (3: > 15 erors)"
   ]
  },
  {
   "cell_type": "markdown",
   "id": "6dc42285-7890-43d7-b533-30ff5369d32f",
   "metadata": {},
   "source": [
    "### Test Assumption"
   ]
  },
  {
   "cell_type": "markdown",
   "id": "a552521f-79e6-4068-bfb0-eadca83c61d8",
   "metadata": {},
   "source": [
    "There is only one assumption for Chi-Square, and it is that when you are looking at the contingency tables, the expected frequencies for each cell need to have at least 5 entries per cell. In Python, the only way to easily generate an expected frequencies table is actually to run the analysis. So, you will conduct your independent Chi-Square first, and then make sure it meets this assumption!"
   ]
  },
  {
   "cell_type": "markdown",
   "id": "c6d1e75c-04dc-4357-a161-931a13ba9573",
   "metadata": {},
   "source": [
    "### Run Analysis"
   ]
  },
  {
   "cell_type": "code",
   "execution_count": 11,
   "id": "39e180b6-67f5-421d-8c33-23f8f8f88793",
   "metadata": {},
   "outputs": [
    {
     "name": "stdout",
     "output_type": "stream",
     "text": [
      "priceCatgry   1   2   3\n",
      "prodType               \n",
      "LG           19  43  12\n",
      "LP           34  92  23\n"
     ]
    }
   ],
   "source": [
    "lipstick_crosstab = pd.crosstab(lipstick['prodType'], lipstick['priceCatgry'])\n",
    "print(lipstick_crosstab)"
   ]
  },
  {
   "cell_type": "code",
   "execution_count": 14,
   "id": "8ed353e2-7f4e-4d95-86fd-a6ccaf02284a",
   "metadata": {},
   "outputs": [
    {
     "data": {
      "text/plain": [
       "(0.2969891724608704,\n",
       " 0.8620046738525345,\n",
       " 2,\n",
       " array([[17.58744395, 44.79820628, 11.61434978],\n",
       "        [35.41255605, 90.20179372, 23.38565022]]))"
      ]
     },
     "execution_count": 14,
     "metadata": {},
     "output_type": "execute_result"
    }
   ],
   "source": [
    "stats.chi2_contingency(lipstick_crosstab)"
   ]
  },
  {
   "cell_type": "markdown",
   "id": "f230a13b-a813-4ae8-bf1b-3650e6ba958c",
   "metadata": {},
   "source": [
    "### RESULTS---- The first value is your Chi-Square statistic. The second value is your p value associated with that Chi-Square statistic. Looking at this, it looks like there is not a significant relationship between product type and product price. Neither lipstick nor lip gloss is pricier or cheaper than the other."
   ]
  },
  {
   "cell_type": "markdown",
   "id": "c92c3766-a236-4a60-8cdd-98dfbff13d65",
   "metadata": {},
   "source": [
    "### Activity Practice - is shade related to price"
   ]
  },
  {
   "cell_type": "code",
   "execution_count": 13,
   "id": "50a4c31e-65ca-48b4-be9c-d3af0547d807",
   "metadata": {},
   "outputs": [
    {
     "name": "stdout",
     "output_type": "stream",
     "text": [
      "priceCatgry   1   2   3\n",
      "shade                  \n",
      "Brown        20  30  10\n",
      "Pink         20  49  12\n",
      "Purple        8  23   6\n",
      "Red           5  33   7\n"
     ]
    }
   ],
   "source": [
    "lipstick_crosstab2 = pd.crosstab(lipstick['shade'], lipstick['priceCatgry'])\n",
    "print(lipstick_crosstab2)"
   ]
  },
  {
   "cell_type": "code",
   "execution_count": 15,
   "id": "80c68dd4-f0bf-44ee-b3dc-d95ac433dbec",
   "metadata": {},
   "outputs": [
    {
     "data": {
      "text/plain": [
       "(7.860569553614045,\n",
       " 0.2484973879479863,\n",
       " 6,\n",
       " array([[14.26008969, 36.32286996,  9.41704036],\n",
       "        [19.25112108, 49.03587444, 12.71300448],\n",
       "        [ 8.79372197, 22.39910314,  5.80717489],\n",
       "        [10.69506726, 27.24215247,  7.06278027]]))"
      ]
     },
     "execution_count": 15,
     "metadata": {},
     "output_type": "execute_result"
    }
   ],
   "source": [
    "stats.chi2_contingency(lipstick_crosstab2)"
   ]
  },
  {
   "cell_type": "code",
   "execution_count": 16,
   "id": "0983ae39-62f4-4896-9811-ad3021ec5d48",
   "metadata": {},
   "outputs": [],
   "source": [
    "# There is not a significant relationship between shade and product price. "
   ]
  },
  {
   "cell_type": "code",
   "execution_count": null,
   "id": "850e4007-57ce-4405-894c-795a329a4381",
   "metadata": {},
   "outputs": [],
   "source": []
  }
 ],
 "metadata": {
  "kernelspec": {
   "display_name": "Python 3 (ipykernel)",
   "language": "python",
   "name": "python3"
  },
  "language_info": {
   "codemirror_mode": {
    "name": "ipython",
    "version": 3
   },
   "file_extension": ".py",
   "mimetype": "text/x-python",
   "name": "python",
   "nbconvert_exporter": "python",
   "pygments_lexer": "ipython3",
   "version": "3.10.2"
  }
 },
 "nbformat": 4,
 "nbformat_minor": 5
}
