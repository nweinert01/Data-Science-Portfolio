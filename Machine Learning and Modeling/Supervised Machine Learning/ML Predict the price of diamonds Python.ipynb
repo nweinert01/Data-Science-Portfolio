{
 "cells": [
  {
   "cell_type": "markdown",
   "id": "597f2b61-706d-4e26-817d-7c3077c38ca9",
   "metadata": {},
   "source": [
    "# Predict the Price of Diamionds using Machine Learning and Modeling"
   ]
  },
  {
   "cell_type": "code",
   "execution_count": 4,
   "id": "a5da4ebe-1c26-4d21-9b32-404610346baf",
   "metadata": {},
   "outputs": [
    {
     "data": {
      "text/html": [
       "<div>\n",
       "<style scoped>\n",
       "    .dataframe tbody tr th:only-of-type {\n",
       "        vertical-align: middle;\n",
       "    }\n",
       "\n",
       "    .dataframe tbody tr th {\n",
       "        vertical-align: top;\n",
       "    }\n",
       "\n",
       "    .dataframe thead th {\n",
       "        text-align: right;\n",
       "    }\n",
       "</style>\n",
       "<table border=\"1\" class=\"dataframe\">\n",
       "  <thead>\n",
       "    <tr style=\"text-align: right;\">\n",
       "      <th></th>\n",
       "      <th>carat</th>\n",
       "      <th>cut</th>\n",
       "      <th>color</th>\n",
       "      <th>clarity</th>\n",
       "      <th>depth</th>\n",
       "      <th>table</th>\n",
       "      <th>price</th>\n",
       "      <th>x</th>\n",
       "      <th>y</th>\n",
       "      <th>z</th>\n",
       "    </tr>\n",
       "  </thead>\n",
       "  <tbody>\n",
       "    <tr>\n",
       "      <th>19978</th>\n",
       "      <td>1.51</td>\n",
       "      <td>Premium</td>\n",
       "      <td>J</td>\n",
       "      <td>VS1</td>\n",
       "      <td>61.8</td>\n",
       "      <td>61.0</td>\n",
       "      <td>8524</td>\n",
       "      <td>7.26</td>\n",
       "      <td>7.21</td>\n",
       "      <td>4.47</td>\n",
       "    </tr>\n",
       "    <tr>\n",
       "      <th>18638</th>\n",
       "      <td>1.46</td>\n",
       "      <td>Premium</td>\n",
       "      <td>H</td>\n",
       "      <td>SI2</td>\n",
       "      <td>61.4</td>\n",
       "      <td>59.0</td>\n",
       "      <td>7604</td>\n",
       "      <td>7.30</td>\n",
       "      <td>7.26</td>\n",
       "      <td>4.47</td>\n",
       "    </tr>\n",
       "    <tr>\n",
       "      <th>44350</th>\n",
       "      <td>0.56</td>\n",
       "      <td>Ideal</td>\n",
       "      <td>G</td>\n",
       "      <td>VS2</td>\n",
       "      <td>61.9</td>\n",
       "      <td>55.0</td>\n",
       "      <td>1580</td>\n",
       "      <td>5.28</td>\n",
       "      <td>5.32</td>\n",
       "      <td>3.28</td>\n",
       "    </tr>\n",
       "    <tr>\n",
       "      <th>51078</th>\n",
       "      <td>0.54</td>\n",
       "      <td>Ideal</td>\n",
       "      <td>F</td>\n",
       "      <td>VVS2</td>\n",
       "      <td>61.2</td>\n",
       "      <td>55.0</td>\n",
       "      <td>2333</td>\n",
       "      <td>5.27</td>\n",
       "      <td>5.25</td>\n",
       "      <td>3.22</td>\n",
       "    </tr>\n",
       "    <tr>\n",
       "      <th>39702</th>\n",
       "      <td>0.40</td>\n",
       "      <td>Ideal</td>\n",
       "      <td>H</td>\n",
       "      <td>VVS1</td>\n",
       "      <td>62.0</td>\n",
       "      <td>54.0</td>\n",
       "      <td>1088</td>\n",
       "      <td>4.76</td>\n",
       "      <td>4.72</td>\n",
       "      <td>2.94</td>\n",
       "    </tr>\n",
       "  </tbody>\n",
       "</table>\n",
       "</div>"
      ],
      "text/plain": [
       "       carat      cut color clarity  depth  table  price     x     y     z\n",
       "19978   1.51  Premium     J     VS1   61.8   61.0   8524  7.26  7.21  4.47\n",
       "18638   1.46  Premium     H     SI2   61.4   59.0   7604  7.30  7.26  4.47\n",
       "44350   0.56    Ideal     G     VS2   61.9   55.0   1580  5.28  5.32  3.28\n",
       "51078   0.54    Ideal     F    VVS2   61.2   55.0   2333  5.27  5.25  3.22\n",
       "39702   0.40    Ideal     H    VVS1   62.0   54.0   1088  4.76  4.72  2.94"
      ]
     },
     "execution_count": 4,
     "metadata": {},
     "output_type": "execute_result"
    }
   ],
   "source": [
    "# Import Data\n",
    "import seaborn as sns\n",
    "from sklearn.utils import shuffle\n",
    "Diamonds = shuffle(sns.load_dataset('diamonds'))\n",
    "Diamonds.head()"
   ]
  },
  {
   "cell_type": "code",
   "execution_count": 5,
   "id": "fc933daf-2995-4ecd-b553-bc15c12232bc",
   "metadata": {},
   "outputs": [],
   "source": [
    "# Import Packages\n",
    "import pandas as pd\n",
    "from sklearn.linear_model import LinearRegression\n",
    "from sklearn.model_selection import train_test_split\n",
    "import matplotlib.pyplot as plt\n",
    "%matplotlib inline\n",
    "from sklearn import metrics\n",
    "import numpy as np"
   ]
  },
  {
   "cell_type": "markdown",
   "id": "656cc0fa-0487-44ab-8f2b-4277728fff00",
   "metadata": {},
   "source": [
    "## Data Wrangling"
   ]
  },
  {
   "cell_type": "code",
   "execution_count": 43,
   "id": "a653dc9e-fb07-45cf-8b0c-25ed9063ead5",
   "metadata": {},
   "outputs": [
    {
     "data": {
      "text/plain": [
       "Ideal        21551\n",
       "Premium      13791\n",
       "Very Good    12082\n",
       "Good          4906\n",
       "Fair          1610\n",
       "Name: cut, dtype: int64"
      ]
     },
     "execution_count": 43,
     "metadata": {},
     "output_type": "execute_result"
    }
   ],
   "source": [
    "Diamonds.cut.value_counts()\n"
   ]
  },
  {
   "cell_type": "code",
   "execution_count": 18,
   "id": "2fb536fd-5df5-4a9d-b494-46be6ce600a4",
   "metadata": {},
   "outputs": [],
   "source": [
    "# Recode cut\n",
    "def cut_recode (series): \n",
    "    if series == \"Ideal\":\n",
    "        return 0\n",
    "    if series == \"Premium\": \n",
    "        return 1\n",
    "    if series == \"Very Good\": \n",
    "        return 2\n",
    "    if series == \"Good\":\n",
    "        return 3\n",
    "    if series == \"Fair\":\n",
    "        return 4\n",
    "    \n",
    "Diamonds['cutR'] = Diamonds['cut'].apply(cut_recode)"
   ]
  },
  {
   "cell_type": "code",
   "execution_count": 12,
   "id": "e4a45bac-2fa6-4ea4-9b9f-606014c1aedf",
   "metadata": {},
   "outputs": [
    {
     "data": {
      "text/html": [
       "<div>\n",
       "<style scoped>\n",
       "    .dataframe tbody tr th:only-of-type {\n",
       "        vertical-align: middle;\n",
       "    }\n",
       "\n",
       "    .dataframe tbody tr th {\n",
       "        vertical-align: top;\n",
       "    }\n",
       "\n",
       "    .dataframe thead th {\n",
       "        text-align: right;\n",
       "    }\n",
       "</style>\n",
       "<table border=\"1\" class=\"dataframe\">\n",
       "  <thead>\n",
       "    <tr style=\"text-align: right;\">\n",
       "      <th></th>\n",
       "      <th>carat</th>\n",
       "      <th>cut</th>\n",
       "      <th>color</th>\n",
       "      <th>clarity</th>\n",
       "      <th>depth</th>\n",
       "      <th>table</th>\n",
       "      <th>price</th>\n",
       "      <th>x</th>\n",
       "      <th>y</th>\n",
       "      <th>z</th>\n",
       "      <th>cutR</th>\n",
       "    </tr>\n",
       "  </thead>\n",
       "  <tbody>\n",
       "    <tr>\n",
       "      <th>19978</th>\n",
       "      <td>1.51</td>\n",
       "      <td>Premium</td>\n",
       "      <td>J</td>\n",
       "      <td>VS1</td>\n",
       "      <td>61.8</td>\n",
       "      <td>61.0</td>\n",
       "      <td>8524</td>\n",
       "      <td>7.26</td>\n",
       "      <td>7.21</td>\n",
       "      <td>4.47</td>\n",
       "      <td>1</td>\n",
       "    </tr>\n",
       "    <tr>\n",
       "      <th>18638</th>\n",
       "      <td>1.46</td>\n",
       "      <td>Premium</td>\n",
       "      <td>H</td>\n",
       "      <td>SI2</td>\n",
       "      <td>61.4</td>\n",
       "      <td>59.0</td>\n",
       "      <td>7604</td>\n",
       "      <td>7.30</td>\n",
       "      <td>7.26</td>\n",
       "      <td>4.47</td>\n",
       "      <td>1</td>\n",
       "    </tr>\n",
       "    <tr>\n",
       "      <th>44350</th>\n",
       "      <td>0.56</td>\n",
       "      <td>Ideal</td>\n",
       "      <td>G</td>\n",
       "      <td>VS2</td>\n",
       "      <td>61.9</td>\n",
       "      <td>55.0</td>\n",
       "      <td>1580</td>\n",
       "      <td>5.28</td>\n",
       "      <td>5.32</td>\n",
       "      <td>3.28</td>\n",
       "      <td>0</td>\n",
       "    </tr>\n",
       "    <tr>\n",
       "      <th>51078</th>\n",
       "      <td>0.54</td>\n",
       "      <td>Ideal</td>\n",
       "      <td>F</td>\n",
       "      <td>VVS2</td>\n",
       "      <td>61.2</td>\n",
       "      <td>55.0</td>\n",
       "      <td>2333</td>\n",
       "      <td>5.27</td>\n",
       "      <td>5.25</td>\n",
       "      <td>3.22</td>\n",
       "      <td>0</td>\n",
       "    </tr>\n",
       "    <tr>\n",
       "      <th>39702</th>\n",
       "      <td>0.40</td>\n",
       "      <td>Ideal</td>\n",
       "      <td>H</td>\n",
       "      <td>VVS1</td>\n",
       "      <td>62.0</td>\n",
       "      <td>54.0</td>\n",
       "      <td>1088</td>\n",
       "      <td>4.76</td>\n",
       "      <td>4.72</td>\n",
       "      <td>2.94</td>\n",
       "      <td>0</td>\n",
       "    </tr>\n",
       "  </tbody>\n",
       "</table>\n",
       "</div>"
      ],
      "text/plain": [
       "       carat      cut color clarity  depth  table  price     x     y     z  \\\n",
       "19978   1.51  Premium     J     VS1   61.8   61.0   8524  7.26  7.21  4.47   \n",
       "18638   1.46  Premium     H     SI2   61.4   59.0   7604  7.30  7.26  4.47   \n",
       "44350   0.56    Ideal     G     VS2   61.9   55.0   1580  5.28  5.32  3.28   \n",
       "51078   0.54    Ideal     F    VVS2   61.2   55.0   2333  5.27  5.25  3.22   \n",
       "39702   0.40    Ideal     H    VVS1   62.0   54.0   1088  4.76  4.72  2.94   \n",
       "\n",
       "      cutR  \n",
       "19978    1  \n",
       "18638    1  \n",
       "44350    0  \n",
       "51078    0  \n",
       "39702    0  "
      ]
     },
     "execution_count": 12,
     "metadata": {},
     "output_type": "execute_result"
    }
   ],
   "source": [
    "Diamonds.head()"
   ]
  },
  {
   "cell_type": "code",
   "execution_count": 13,
   "id": "7954ee74-a6ba-44cc-94c8-43876a03bc72",
   "metadata": {},
   "outputs": [
    {
     "data": {
      "text/plain": [
       "0    21551\n",
       "1    13791\n",
       "2    12082\n",
       "3     4906\n",
       "4     1610\n",
       "Name: cutR, dtype: int64"
      ]
     },
     "execution_count": 13,
     "metadata": {},
     "output_type": "execute_result"
    }
   ],
   "source": [
    "Diamonds.cutR.value_counts()"
   ]
  },
  {
   "cell_type": "code",
   "execution_count": 10,
   "id": "f2df26ef-974c-4a0f-a46d-142691e7d68d",
   "metadata": {},
   "outputs": [
    {
     "data": {
      "text/plain": [
       "G    11292\n",
       "E     9797\n",
       "F     9542\n",
       "H     8304\n",
       "D     6775\n",
       "I     5422\n",
       "J     2808\n",
       "Name: color, dtype: int64"
      ]
     },
     "execution_count": 10,
     "metadata": {},
     "output_type": "execute_result"
    }
   ],
   "source": [
    "Diamonds.color.value_counts()"
   ]
  },
  {
   "cell_type": "code",
   "execution_count": 14,
   "id": "19062e1a-2e03-4669-b1a1-c70a8422a75e",
   "metadata": {
    "tags": []
   },
   "outputs": [],
   "source": [
    "# Recode Color\n",
    "def color_recode (series): \n",
    "    if series == \"G\":\n",
    "        return 0\n",
    "    if series == \"E\": \n",
    "        return 1\n",
    "    if series == \"F\": \n",
    "        return 2\n",
    "    if series == \"H\":\n",
    "        return 3\n",
    "    if series == \"D\":\n",
    "        return 4\n",
    "    if series == \"I\":\n",
    "        return 5\n",
    "    if series == \"J\":\n",
    "        return 6\n",
    "    \n",
    "Diamonds['colorR'] = Diamonds['color'].apply(color_recode)"
   ]
  },
  {
   "cell_type": "code",
   "execution_count": 22,
   "id": "de0ad622-abcb-4ba7-afd1-776a9a904071",
   "metadata": {},
   "outputs": [
    {
     "data": {
      "text/html": [
       "<div>\n",
       "<style scoped>\n",
       "    .dataframe tbody tr th:only-of-type {\n",
       "        vertical-align: middle;\n",
       "    }\n",
       "\n",
       "    .dataframe tbody tr th {\n",
       "        vertical-align: top;\n",
       "    }\n",
       "\n",
       "    .dataframe thead th {\n",
       "        text-align: right;\n",
       "    }\n",
       "</style>\n",
       "<table border=\"1\" class=\"dataframe\">\n",
       "  <thead>\n",
       "    <tr style=\"text-align: right;\">\n",
       "      <th></th>\n",
       "      <th>carat</th>\n",
       "      <th>cut</th>\n",
       "      <th>color</th>\n",
       "      <th>clarity</th>\n",
       "      <th>depth</th>\n",
       "      <th>table</th>\n",
       "      <th>price</th>\n",
       "      <th>x</th>\n",
       "      <th>y</th>\n",
       "      <th>z</th>\n",
       "      <th>cutR</th>\n",
       "      <th>colorR</th>\n",
       "      <th>clarityR</th>\n",
       "    </tr>\n",
       "  </thead>\n",
       "  <tbody>\n",
       "    <tr>\n",
       "      <th>19978</th>\n",
       "      <td>1.51</td>\n",
       "      <td>Premium</td>\n",
       "      <td>J</td>\n",
       "      <td>VS1</td>\n",
       "      <td>61.8</td>\n",
       "      <td>61.0</td>\n",
       "      <td>8524</td>\n",
       "      <td>7.26</td>\n",
       "      <td>7.21</td>\n",
       "      <td>4.47</td>\n",
       "      <td>1</td>\n",
       "      <td>6</td>\n",
       "      <td>3.0</td>\n",
       "    </tr>\n",
       "    <tr>\n",
       "      <th>18638</th>\n",
       "      <td>1.46</td>\n",
       "      <td>Premium</td>\n",
       "      <td>H</td>\n",
       "      <td>SI2</td>\n",
       "      <td>61.4</td>\n",
       "      <td>59.0</td>\n",
       "      <td>7604</td>\n",
       "      <td>7.30</td>\n",
       "      <td>7.26</td>\n",
       "      <td>4.47</td>\n",
       "      <td>1</td>\n",
       "      <td>3</td>\n",
       "      <td>2.0</td>\n",
       "    </tr>\n",
       "    <tr>\n",
       "      <th>44350</th>\n",
       "      <td>0.56</td>\n",
       "      <td>Ideal</td>\n",
       "      <td>G</td>\n",
       "      <td>VS2</td>\n",
       "      <td>61.9</td>\n",
       "      <td>55.0</td>\n",
       "      <td>1580</td>\n",
       "      <td>5.28</td>\n",
       "      <td>5.32</td>\n",
       "      <td>3.28</td>\n",
       "      <td>0</td>\n",
       "      <td>0</td>\n",
       "      <td>1.0</td>\n",
       "    </tr>\n",
       "    <tr>\n",
       "      <th>51078</th>\n",
       "      <td>0.54</td>\n",
       "      <td>Ideal</td>\n",
       "      <td>F</td>\n",
       "      <td>VVS2</td>\n",
       "      <td>61.2</td>\n",
       "      <td>55.0</td>\n",
       "      <td>2333</td>\n",
       "      <td>5.27</td>\n",
       "      <td>5.25</td>\n",
       "      <td>3.22</td>\n",
       "      <td>0</td>\n",
       "      <td>2</td>\n",
       "      <td>NaN</td>\n",
       "    </tr>\n",
       "    <tr>\n",
       "      <th>39702</th>\n",
       "      <td>0.40</td>\n",
       "      <td>Ideal</td>\n",
       "      <td>H</td>\n",
       "      <td>VVS1</td>\n",
       "      <td>62.0</td>\n",
       "      <td>54.0</td>\n",
       "      <td>1088</td>\n",
       "      <td>4.76</td>\n",
       "      <td>4.72</td>\n",
       "      <td>2.94</td>\n",
       "      <td>0</td>\n",
       "      <td>3</td>\n",
       "      <td>NaN</td>\n",
       "    </tr>\n",
       "    <tr>\n",
       "      <th>47231</th>\n",
       "      <td>0.71</td>\n",
       "      <td>Good</td>\n",
       "      <td>I</td>\n",
       "      <td>VS2</td>\n",
       "      <td>64.0</td>\n",
       "      <td>59.0</td>\n",
       "      <td>1840</td>\n",
       "      <td>5.61</td>\n",
       "      <td>5.55</td>\n",
       "      <td>3.57</td>\n",
       "      <td>3</td>\n",
       "      <td>5</td>\n",
       "      <td>1.0</td>\n",
       "    </tr>\n",
       "    <tr>\n",
       "      <th>36330</th>\n",
       "      <td>0.32</td>\n",
       "      <td>Premium</td>\n",
       "      <td>G</td>\n",
       "      <td>VVS2</td>\n",
       "      <td>61.2</td>\n",
       "      <td>59.0</td>\n",
       "      <td>936</td>\n",
       "      <td>4.44</td>\n",
       "      <td>4.39</td>\n",
       "      <td>2.70</td>\n",
       "      <td>1</td>\n",
       "      <td>0</td>\n",
       "      <td>NaN</td>\n",
       "    </tr>\n",
       "    <tr>\n",
       "      <th>50844</th>\n",
       "      <td>0.62</td>\n",
       "      <td>Very Good</td>\n",
       "      <td>D</td>\n",
       "      <td>VS2</td>\n",
       "      <td>59.2</td>\n",
       "      <td>59.1</td>\n",
       "      <td>2311</td>\n",
       "      <td>5.55</td>\n",
       "      <td>5.60</td>\n",
       "      <td>3.30</td>\n",
       "      <td>2</td>\n",
       "      <td>4</td>\n",
       "      <td>1.0</td>\n",
       "    </tr>\n",
       "    <tr>\n",
       "      <th>51069</th>\n",
       "      <td>0.54</td>\n",
       "      <td>Ideal</td>\n",
       "      <td>F</td>\n",
       "      <td>VS2</td>\n",
       "      <td>61.3</td>\n",
       "      <td>57.0</td>\n",
       "      <td>2333</td>\n",
       "      <td>5.29</td>\n",
       "      <td>5.24</td>\n",
       "      <td>3.23</td>\n",
       "      <td>0</td>\n",
       "      <td>2</td>\n",
       "      <td>1.0</td>\n",
       "    </tr>\n",
       "    <tr>\n",
       "      <th>44294</th>\n",
       "      <td>0.52</td>\n",
       "      <td>Premium</td>\n",
       "      <td>G</td>\n",
       "      <td>VS2</td>\n",
       "      <td>61.7</td>\n",
       "      <td>58.0</td>\n",
       "      <td>1577</td>\n",
       "      <td>5.16</td>\n",
       "      <td>5.14</td>\n",
       "      <td>3.18</td>\n",
       "      <td>1</td>\n",
       "      <td>0</td>\n",
       "      <td>1.0</td>\n",
       "    </tr>\n",
       "  </tbody>\n",
       "</table>\n",
       "</div>"
      ],
      "text/plain": [
       "       carat        cut color clarity  depth  table  price     x     y     z  \\\n",
       "19978   1.51    Premium     J     VS1   61.8   61.0   8524  7.26  7.21  4.47   \n",
       "18638   1.46    Premium     H     SI2   61.4   59.0   7604  7.30  7.26  4.47   \n",
       "44350   0.56      Ideal     G     VS2   61.9   55.0   1580  5.28  5.32  3.28   \n",
       "51078   0.54      Ideal     F    VVS2   61.2   55.0   2333  5.27  5.25  3.22   \n",
       "39702   0.40      Ideal     H    VVS1   62.0   54.0   1088  4.76  4.72  2.94   \n",
       "47231   0.71       Good     I     VS2   64.0   59.0   1840  5.61  5.55  3.57   \n",
       "36330   0.32    Premium     G    VVS2   61.2   59.0    936  4.44  4.39  2.70   \n",
       "50844   0.62  Very Good     D     VS2   59.2   59.1   2311  5.55  5.60  3.30   \n",
       "51069   0.54      Ideal     F     VS2   61.3   57.0   2333  5.29  5.24  3.23   \n",
       "44294   0.52    Premium     G     VS2   61.7   58.0   1577  5.16  5.14  3.18   \n",
       "\n",
       "      cutR colorR  clarityR  \n",
       "19978    1      6       3.0  \n",
       "18638    1      3       2.0  \n",
       "44350    0      0       1.0  \n",
       "51078    0      2       NaN  \n",
       "39702    0      3       NaN  \n",
       "47231    3      5       1.0  \n",
       "36330    1      0       NaN  \n",
       "50844    2      4       1.0  \n",
       "51069    0      2       1.0  \n",
       "44294    1      0       1.0  "
      ]
     },
     "execution_count": 22,
     "metadata": {},
     "output_type": "execute_result"
    }
   ],
   "source": [
    "# check for recode\n",
    "Diamonds.head(10)"
   ]
  },
  {
   "cell_type": "code",
   "execution_count": 17,
   "id": "4508015a-07f9-4fe2-bb4c-3a439725b77a",
   "metadata": {},
   "outputs": [
    {
     "data": {
      "text/plain": [
       "SI1     13065\n",
       "VS2     12258\n",
       "SI2      9194\n",
       "VS1      8171\n",
       "VVS2     5066\n",
       "VVS1     3655\n",
       "IF       1790\n",
       "I1        741\n",
       "Name: clarity, dtype: int64"
      ]
     },
     "execution_count": 17,
     "metadata": {},
     "output_type": "execute_result"
    }
   ],
   "source": [
    "Diamonds.clarity.value_counts()"
   ]
  },
  {
   "cell_type": "code",
   "execution_count": 23,
   "id": "041cd09e-7ce5-48e3-baf1-74b65219ab25",
   "metadata": {},
   "outputs": [],
   "source": [
    "# Recode Clarity\n",
    "def clarity_recode (series): \n",
    "    if series == \"SI1\":\n",
    "        return 0\n",
    "    if series == \"VS2\": \n",
    "        return 1\n",
    "    if series == \"SI2\": \n",
    "        return 2\n",
    "    if series == \"VS1\":\n",
    "        return 3\n",
    "    if series == \"VVS2\":\n",
    "        return 4\n",
    "    if series == \"VVS1\":\n",
    "        return 5\n",
    "    if series == \"IF\":\n",
    "        return 6\n",
    "    if series == \"I1\":\n",
    "        return 7\n",
    "    \n",
    "Diamonds['clarityR'] = Diamonds['clarity'].apply(clarity_recode)"
   ]
  },
  {
   "cell_type": "code",
   "execution_count": 44,
   "id": "14f9270a-5d2b-4d2e-ad72-e3f292bee8d2",
   "metadata": {},
   "outputs": [
    {
     "data": {
      "text/html": [
       "<div>\n",
       "<style scoped>\n",
       "    .dataframe tbody tr th:only-of-type {\n",
       "        vertical-align: middle;\n",
       "    }\n",
       "\n",
       "    .dataframe tbody tr th {\n",
       "        vertical-align: top;\n",
       "    }\n",
       "\n",
       "    .dataframe thead th {\n",
       "        text-align: right;\n",
       "    }\n",
       "</style>\n",
       "<table border=\"1\" class=\"dataframe\">\n",
       "  <thead>\n",
       "    <tr style=\"text-align: right;\">\n",
       "      <th></th>\n",
       "      <th>carat</th>\n",
       "      <th>cut</th>\n",
       "      <th>color</th>\n",
       "      <th>clarity</th>\n",
       "      <th>depth</th>\n",
       "      <th>table</th>\n",
       "      <th>price</th>\n",
       "      <th>x</th>\n",
       "      <th>y</th>\n",
       "      <th>z</th>\n",
       "      <th>cutR</th>\n",
       "      <th>colorR</th>\n",
       "      <th>clarityR</th>\n",
       "    </tr>\n",
       "  </thead>\n",
       "  <tbody>\n",
       "    <tr>\n",
       "      <th>19978</th>\n",
       "      <td>1.51</td>\n",
       "      <td>Premium</td>\n",
       "      <td>J</td>\n",
       "      <td>VS1</td>\n",
       "      <td>61.8</td>\n",
       "      <td>61.0</td>\n",
       "      <td>8524</td>\n",
       "      <td>7.26</td>\n",
       "      <td>7.21</td>\n",
       "      <td>4.47</td>\n",
       "      <td>1</td>\n",
       "      <td>6</td>\n",
       "      <td>3</td>\n",
       "    </tr>\n",
       "    <tr>\n",
       "      <th>18638</th>\n",
       "      <td>1.46</td>\n",
       "      <td>Premium</td>\n",
       "      <td>H</td>\n",
       "      <td>SI2</td>\n",
       "      <td>61.4</td>\n",
       "      <td>59.0</td>\n",
       "      <td>7604</td>\n",
       "      <td>7.30</td>\n",
       "      <td>7.26</td>\n",
       "      <td>4.47</td>\n",
       "      <td>1</td>\n",
       "      <td>3</td>\n",
       "      <td>2</td>\n",
       "    </tr>\n",
       "    <tr>\n",
       "      <th>44350</th>\n",
       "      <td>0.56</td>\n",
       "      <td>Ideal</td>\n",
       "      <td>G</td>\n",
       "      <td>VS2</td>\n",
       "      <td>61.9</td>\n",
       "      <td>55.0</td>\n",
       "      <td>1580</td>\n",
       "      <td>5.28</td>\n",
       "      <td>5.32</td>\n",
       "      <td>3.28</td>\n",
       "      <td>0</td>\n",
       "      <td>0</td>\n",
       "      <td>1</td>\n",
       "    </tr>\n",
       "    <tr>\n",
       "      <th>51078</th>\n",
       "      <td>0.54</td>\n",
       "      <td>Ideal</td>\n",
       "      <td>F</td>\n",
       "      <td>VVS2</td>\n",
       "      <td>61.2</td>\n",
       "      <td>55.0</td>\n",
       "      <td>2333</td>\n",
       "      <td>5.27</td>\n",
       "      <td>5.25</td>\n",
       "      <td>3.22</td>\n",
       "      <td>0</td>\n",
       "      <td>2</td>\n",
       "      <td>4</td>\n",
       "    </tr>\n",
       "    <tr>\n",
       "      <th>39702</th>\n",
       "      <td>0.40</td>\n",
       "      <td>Ideal</td>\n",
       "      <td>H</td>\n",
       "      <td>VVS1</td>\n",
       "      <td>62.0</td>\n",
       "      <td>54.0</td>\n",
       "      <td>1088</td>\n",
       "      <td>4.76</td>\n",
       "      <td>4.72</td>\n",
       "      <td>2.94</td>\n",
       "      <td>0</td>\n",
       "      <td>3</td>\n",
       "      <td>5</td>\n",
       "    </tr>\n",
       "  </tbody>\n",
       "</table>\n",
       "</div>"
      ],
      "text/plain": [
       "       carat      cut color clarity  depth  table  price     x     y     z  \\\n",
       "19978   1.51  Premium     J     VS1   61.8   61.0   8524  7.26  7.21  4.47   \n",
       "18638   1.46  Premium     H     SI2   61.4   59.0   7604  7.30  7.26  4.47   \n",
       "44350   0.56    Ideal     G     VS2   61.9   55.0   1580  5.28  5.32  3.28   \n",
       "51078   0.54    Ideal     F    VVS2   61.2   55.0   2333  5.27  5.25  3.22   \n",
       "39702   0.40    Ideal     H    VVS1   62.0   54.0   1088  4.76  4.72  2.94   \n",
       "\n",
       "      cutR colorR clarityR  \n",
       "19978    1      6        3  \n",
       "18638    1      3        2  \n",
       "44350    0      0        1  \n",
       "51078    0      2        4  \n",
       "39702    0      3        5  "
      ]
     },
     "execution_count": 44,
     "metadata": {},
     "output_type": "execute_result"
    }
   ],
   "source": [
    "Diamonds.head()"
   ]
  },
  {
   "cell_type": "code",
   "execution_count": 28,
   "id": "2bd84207-9d0d-486e-9580-2de37ec40110",
   "metadata": {},
   "outputs": [
    {
     "data": {
      "text/plain": [
       "0    13065\n",
       "1    12258\n",
       "2     9194\n",
       "3     8171\n",
       "4     5066\n",
       "5     3655\n",
       "6     1790\n",
       "7      741\n",
       "Name: clarityR, dtype: int64"
      ]
     },
     "execution_count": 28,
     "metadata": {},
     "output_type": "execute_result"
    }
   ],
   "source": [
    "# Double check recode\n",
    "Diamonds.clarityR.value_counts()"
   ]
  },
  {
   "cell_type": "markdown",
   "id": "16a30e5c-fbaf-44f5-94e3-108280559575",
   "metadata": {},
   "source": [
    "## Define X and Y Variables"
   ]
  },
  {
   "cell_type": "code",
   "execution_count": 29,
   "id": "244cbd23-4101-4238-ba60-585f4429fbae",
   "metadata": {},
   "outputs": [],
   "source": [
    "x = Diamonds[['cutR', 'colorR', 'clarityR', 'carat']]\n",
    "y = Diamonds[['price']]"
   ]
  },
  {
   "cell_type": "markdown",
   "id": "49996184-6d02-4650-8a53-c9e8565f9c13",
   "metadata": {},
   "source": [
    "## Train/Test Split Data"
   ]
  },
  {
   "cell_type": "code",
   "execution_count": 30,
   "id": "8e40fc6c-2df2-4a14-bb2d-6058e6c54186",
   "metadata": {},
   "outputs": [],
   "source": [
    "x_train, x_test, y_train, y_test = train_test_split(x,y, test_size = .4, random_state=101)"
   ]
  },
  {
   "cell_type": "code",
   "execution_count": 31,
   "id": "d0cb21d9-0777-435d-9ab5-6763c1b38c28",
   "metadata": {},
   "outputs": [
    {
     "name": "stdout",
     "output_type": "stream",
     "text": [
      "(32364, 4) (32364, 1)\n",
      "(21576, 4) (32364, 1)\n"
     ]
    }
   ],
   "source": [
    "print(x_train.shape, y_train.shape)\n",
    "print(x_test.shape, y_train.shape)"
   ]
  },
  {
   "cell_type": "markdown",
   "id": "4cfecf47-d8a0-4f96-8399-ca46420467b6",
   "metadata": {},
   "source": [
    "## Create the Model"
   ]
  },
  {
   "cell_type": "code",
   "execution_count": 32,
   "id": "f7bb3775-bd1e-409b-8a36-ea1b235c89fb",
   "metadata": {},
   "outputs": [
    {
     "data": {
      "text/html": [
       "<style>#sk-container-id-1 {color: black;background-color: white;}#sk-container-id-1 pre{padding: 0;}#sk-container-id-1 div.sk-toggleable {background-color: white;}#sk-container-id-1 label.sk-toggleable__label {cursor: pointer;display: block;width: 100%;margin-bottom: 0;padding: 0.3em;box-sizing: border-box;text-align: center;}#sk-container-id-1 label.sk-toggleable__label-arrow:before {content: \"▸\";float: left;margin-right: 0.25em;color: #696969;}#sk-container-id-1 label.sk-toggleable__label-arrow:hover:before {color: black;}#sk-container-id-1 div.sk-estimator:hover label.sk-toggleable__label-arrow:before {color: black;}#sk-container-id-1 div.sk-toggleable__content {max-height: 0;max-width: 0;overflow: hidden;text-align: left;background-color: #f0f8ff;}#sk-container-id-1 div.sk-toggleable__content pre {margin: 0.2em;color: black;border-radius: 0.25em;background-color: #f0f8ff;}#sk-container-id-1 input.sk-toggleable__control:checked~div.sk-toggleable__content {max-height: 200px;max-width: 100%;overflow: auto;}#sk-container-id-1 input.sk-toggleable__control:checked~label.sk-toggleable__label-arrow:before {content: \"▾\";}#sk-container-id-1 div.sk-estimator input.sk-toggleable__control:checked~label.sk-toggleable__label {background-color: #d4ebff;}#sk-container-id-1 div.sk-label input.sk-toggleable__control:checked~label.sk-toggleable__label {background-color: #d4ebff;}#sk-container-id-1 input.sk-hidden--visually {border: 0;clip: rect(1px 1px 1px 1px);clip: rect(1px, 1px, 1px, 1px);height: 1px;margin: -1px;overflow: hidden;padding: 0;position: absolute;width: 1px;}#sk-container-id-1 div.sk-estimator {font-family: monospace;background-color: #f0f8ff;border: 1px dotted black;border-radius: 0.25em;box-sizing: border-box;margin-bottom: 0.5em;}#sk-container-id-1 div.sk-estimator:hover {background-color: #d4ebff;}#sk-container-id-1 div.sk-parallel-item::after {content: \"\";width: 100%;border-bottom: 1px solid gray;flex-grow: 1;}#sk-container-id-1 div.sk-label:hover label.sk-toggleable__label {background-color: #d4ebff;}#sk-container-id-1 div.sk-serial::before {content: \"\";position: absolute;border-left: 1px solid gray;box-sizing: border-box;top: 0;bottom: 0;left: 50%;z-index: 0;}#sk-container-id-1 div.sk-serial {display: flex;flex-direction: column;align-items: center;background-color: white;padding-right: 0.2em;padding-left: 0.2em;position: relative;}#sk-container-id-1 div.sk-item {position: relative;z-index: 1;}#sk-container-id-1 div.sk-parallel {display: flex;align-items: stretch;justify-content: center;background-color: white;position: relative;}#sk-container-id-1 div.sk-item::before, #sk-container-id-1 div.sk-parallel-item::before {content: \"\";position: absolute;border-left: 1px solid gray;box-sizing: border-box;top: 0;bottom: 0;left: 50%;z-index: -1;}#sk-container-id-1 div.sk-parallel-item {display: flex;flex-direction: column;z-index: 1;position: relative;background-color: white;}#sk-container-id-1 div.sk-parallel-item:first-child::after {align-self: flex-end;width: 50%;}#sk-container-id-1 div.sk-parallel-item:last-child::after {align-self: flex-start;width: 50%;}#sk-container-id-1 div.sk-parallel-item:only-child::after {width: 0;}#sk-container-id-1 div.sk-dashed-wrapped {border: 1px dashed gray;margin: 0 0.4em 0.5em 0.4em;box-sizing: border-box;padding-bottom: 0.4em;background-color: white;}#sk-container-id-1 div.sk-label label {font-family: monospace;font-weight: bold;display: inline-block;line-height: 1.2em;}#sk-container-id-1 div.sk-label-container {text-align: center;}#sk-container-id-1 div.sk-container {/* jupyter's `normalize.less` sets `[hidden] { display: none; }` but bootstrap.min.css set `[hidden] { display: none !important; }` so we also need the `!important` here to be able to override the default hidden behavior on the sphinx rendered scikit-learn.org. See: https://github.com/scikit-learn/scikit-learn/issues/21755 */display: inline-block !important;position: relative;}#sk-container-id-1 div.sk-text-repr-fallback {display: none;}</style><div id=\"sk-container-id-1\" class=\"sk-top-container\"><div class=\"sk-text-repr-fallback\"><pre>LinearRegression()</pre><b>In a Jupyter environment, please rerun this cell to show the HTML representation or trust the notebook. <br />On GitHub, the HTML representation is unable to render, please try loading this page with nbviewer.org.</b></div><div class=\"sk-container\" hidden><div class=\"sk-item\"><div class=\"sk-estimator sk-toggleable\"><input class=\"sk-toggleable__control sk-hidden--visually\" id=\"sk-estimator-id-1\" type=\"checkbox\" checked><label for=\"sk-estimator-id-1\" class=\"sk-toggleable__label sk-toggleable__label-arrow\">LinearRegression</label><div class=\"sk-toggleable__content\"><pre>LinearRegression()</pre></div></div></div></div></div>"
      ],
      "text/plain": [
       "LinearRegression()"
      ]
     },
     "execution_count": 32,
     "metadata": {},
     "output_type": "execute_result"
    }
   ],
   "source": [
    "lm = LinearRegression()\n",
    "lm.fit(x_train, y_train)"
   ]
  },
  {
   "cell_type": "markdown",
   "id": "01782d92-dfc7-4d7e-aba9-97086705c145",
   "metadata": {},
   "source": [
    "## Analyze the Predictions"
   ]
  },
  {
   "cell_type": "code",
   "execution_count": 33,
   "id": "5ee270e3-6b01-497a-9808-b29904aa1e8b",
   "metadata": {},
   "outputs": [
    {
     "data": {
      "text/plain": [
       "array([[5409.5865737 ],\n",
       "       [9763.22506029],\n",
       "       [1058.03951021],\n",
       "       ...,\n",
       "       [5056.47718119],\n",
       "       [  70.92963183],\n",
       "       [5597.48291951]])"
      ]
     },
     "execution_count": 33,
     "metadata": {},
     "output_type": "execute_result"
    }
   ],
   "source": [
    "predictions = lm.predict(x_test)\n",
    "predictions"
   ]
  },
  {
   "cell_type": "code",
   "execution_count": 34,
   "id": "eab205df-e3e9-49e1-9e4c-4f442dc20adc",
   "metadata": {},
   "outputs": [
    {
     "data": {
      "text/plain": [
       "<matplotlib.collections.PathCollection at 0x1ac4aea0f10>"
      ]
     },
     "execution_count": 34,
     "metadata": {},
     "output_type": "execute_result"
    },
    {
     "data": {
      "image/png": "[encoded data removed]",
      "text/plain": [
       "<Figure size 432x288 with 1 Axes>"
      ]
     },
     "metadata": {
      "needs_background": "light"
     },
     "output_type": "display_data"
    }
   ],
   "source": [
    "plt.scatter(y_test, predictions)\n"
   ]
  },
  {
   "cell_type": "markdown",
   "id": "0b00e895-c120-4b93-9367-f5d4309b633b",
   "metadata": {},
   "source": [
    "## Model Accuracy "
   ]
  },
  {
   "cell_type": "code",
   "execution_count": 35,
   "id": "42633d9b-81cf-4181-b697-d1238d59a4f4",
   "metadata": {},
   "outputs": [
    {
     "name": "stdout",
     "output_type": "stream",
     "text": [
      "Score: 0.8614534265975258\n"
     ]
    }
   ],
   "source": [
    "print(\"Score:\", lm.score(x_test, y_test))"
   ]
  },
  {
   "cell_type": "markdown",
   "id": "376e9fb6-d645-4ef9-958f-37b904f49518",
   "metadata": {},
   "source": [
    "## This test is 86% accurate based on the score above"
   ]
  },
  {
   "cell_type": "markdown",
   "id": "1af8fbaf-bf7a-4831-9d6d-a68bb7f2a8f0",
   "metadata": {},
   "source": [
    "# Final check is to examine the error rates for the Model Fit\n"
   ]
  },
  {
   "cell_type": "code",
   "execution_count": 36,
   "id": "c77cedc9-1a7c-4a78-8a69-06e247850bec",
   "metadata": {},
   "outputs": [
    {
     "data": {
      "text/plain": [
       "962.3332233527374"
      ]
     },
     "execution_count": 36,
     "metadata": {},
     "output_type": "execute_result"
    }
   ],
   "source": [
    "metrics.mean_absolute_error(y_test, predictions)\n"
   ]
  },
  {
   "cell_type": "code",
   "execution_count": 37,
   "id": "7494d58e-2ba9-43f0-b565-deee7598787c",
   "metadata": {},
   "outputs": [
    {
     "data": {
      "text/plain": [
       "2222616.9450689903"
      ]
     },
     "execution_count": 37,
     "metadata": {},
     "output_type": "execute_result"
    }
   ],
   "source": [
    "metrics.mean_squared_error(y_test, predictions)\n"
   ]
  },
  {
   "cell_type": "code",
   "execution_count": 38,
   "id": "3c8044a3-0c52-4f13-8911-57a871c99a71",
   "metadata": {},
   "outputs": [
    {
     "data": {
      "text/plain": [
       "1490.8443731888954"
      ]
     },
     "execution_count": 38,
     "metadata": {},
     "output_type": "execute_result"
    }
   ],
   "source": [
    "np.sqrt(metrics.mean_squared_error(y_test, predictions))\n"
   ]
  },
  {
   "cell_type": "markdown",
   "id": "e66660af-ff0f-416f-81d7-441ca6414acb",
   "metadata": {},
   "source": [
    "# K-Fold Cross Validation"
   ]
  },
  {
   "cell_type": "code",
   "execution_count": 39,
   "id": "e738c4cc-d15c-49e1-959c-dfb5762050c2",
   "metadata": {},
   "outputs": [],
   "source": [
    "from sklearn.model_selection import KFold\n",
    "from sklearn.model_selection import cross_val_score"
   ]
  },
  {
   "cell_type": "code",
   "execution_count": 40,
   "id": "efe126be-29f2-4e65-9adb-30ca4525720a",
   "metadata": {},
   "outputs": [
    {
     "name": "stdout",
     "output_type": "stream",
     "text": [
      "train: [10788 10789 10790 ... 53937 53938 53939], test: [    0     1     2 ... 10785 10786 10787]\n",
      "train: [    0     1     2 ... 53937 53938 53939], test: [10788 10789 10790 ... 21573 21574 21575]\n",
      "train: [    0     1     2 ... 53937 53938 53939], test: [21576 21577 21578 ... 32361 32362 32363]\n",
      "train: [    0     1     2 ... 53937 53938 53939], test: [32364 32365 32366 ... 43149 43150 43151]\n",
      "train: [    0     1     2 ... 43149 43150 43151], test: [43152 43153 43154 ... 53937 53938 53939]\n"
     ]
    }
   ],
   "source": [
    "# Create the Folds\n",
    "kfold = KFold(5)\n",
    "for train, test in kfold.split(x,y):\n",
    "    print('train: %s, test: %s' % (train,test))"
   ]
  },
  {
   "cell_type": "code",
   "execution_count": 41,
   "id": "7351f007-5818-4d3e-99c2-6d19c69942d4",
   "metadata": {},
   "outputs": [
    {
     "name": "stdout",
     "output_type": "stream",
     "text": [
      "[0.86468262 0.86096199 0.86197965 0.86332552 0.86890722]\n"
     ]
    }
   ],
   "source": [
    "print(cross_val_score(lm, x,y, cv=5))"
   ]
  },
  {
   "cell_type": "code",
   "execution_count": null,
   "id": "08f45baf-ac11-471b-822d-523159f8994b",
   "metadata": {},
   "outputs": [],
   "source": []
  }
 ],
 "metadata": {
  "kernelspec": {
   "display_name": "Python 3 (ipykernel)",
   "language": "python",
   "name": "python3"
  },
  "language_info": {
   "codemirror_mode": {
    "name": "ipython",
    "version": 3
   },
   "file_extension": ".py",
   "mimetype": "text/x-python",
   "name": "python",
   "nbconvert_exporter": "python",
   "pygments_lexer": "ipython3",
   "version": "3.10.2"
  }
 },
 "nbformat": 4,
 "nbformat_minor": 5
}
