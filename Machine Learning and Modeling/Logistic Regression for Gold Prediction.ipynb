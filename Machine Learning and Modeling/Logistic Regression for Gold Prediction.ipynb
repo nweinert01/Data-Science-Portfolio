{
 "cells": [
  {
   "cell_type": "markdown",
   "id": "5fea2b0d-e1d2-49b6-bea3-145d01807cd5",
   "metadata": {},
   "source": [
    "# Logistic Regression predicting the presence of Gold"
   ]
  },
  {
   "cell_type": "code",
   "execution_count": 42,
   "id": "a8ade98c-8927-4fbf-8d1d-e35aa2bbd364",
   "metadata": {},
   "outputs": [],
   "source": [
    "library(\"caret\")\n",
    "library(\"magrittr\")\n",
    "library(\"dplyr\")\n",
    "library(\"tidyr\")\n",
    "library(\"lmtest\")\n",
    "library(\"popbio\")\n",
    "library(\"e1071\")\n",
    "library(\"ggplot2\")\n",
    "library(\"rcompanion\")"
   ]
  },
  {
   "cell_type": "code",
   "execution_count": 3,
   "id": "5141d2c6-3131-4cf5-9a83-90263a27c52a",
   "metadata": {},
   "outputs": [],
   "source": [
    "minerals <- read.csv(\"minerals.csv\")\n"
   ]
  },
  {
   "cell_type": "code",
   "execution_count": 5,
   "id": "19fd5366-5b39-46ea-9154-c56f38cded59",
   "metadata": {},
   "outputs": [
    {
     "data": {
      "text/html": [
       "<table class=\"dataframe\">\n",
       "<caption>A data.frame: 6 × 2</caption>\n",
       "<thead>\n",
       "\t<tr><th></th><th scope=col>ï..Antimony</th><th scope=col>Gold</th></tr>\n",
       "\t<tr><th></th><th scope=col>&lt;dbl&gt;</th><th scope=col>&lt;int&gt;</th></tr>\n",
       "</thead>\n",
       "<tbody>\n",
       "\t<tr><th scope=row>1</th><td>3.08</td><td>1</td></tr>\n",
       "\t<tr><th scope=row>2</th><td>6.15</td><td>1</td></tr>\n",
       "\t<tr><th scope=row>3</th><td>2.35</td><td>1</td></tr>\n",
       "\t<tr><th scope=row>4</th><td>0.30</td><td>0</td></tr>\n",
       "\t<tr><th scope=row>5</th><td>0.30</td><td>0</td></tr>\n",
       "\t<tr><th scope=row>6</th><td>9.62</td><td>1</td></tr>\n",
       "</tbody>\n",
       "</table>\n"
      ],
      "text/latex": [
       "A data.frame: 6 × 2\n",
       "\\begin{tabular}{r|ll}\n",
       "  & ï..Antimony & Gold\\\\\n",
       "  & <dbl> & <int>\\\\\n",
       "\\hline\n",
       "\t1 & 3.08 & 1\\\\\n",
       "\t2 & 6.15 & 1\\\\\n",
       "\t3 & 2.35 & 1\\\\\n",
       "\t4 & 0.30 & 0\\\\\n",
       "\t5 & 0.30 & 0\\\\\n",
       "\t6 & 9.62 & 1\\\\\n",
       "\\end{tabular}\n"
      ],
      "text/markdown": [
       "\n",
       "A data.frame: 6 × 2\n",
       "\n",
       "| <!--/--> | ï..Antimony &lt;dbl&gt; | Gold &lt;int&gt; |\n",
       "|---|---|---|\n",
       "| 1 | 3.08 | 1 |\n",
       "| 2 | 6.15 | 1 |\n",
       "| 3 | 2.35 | 1 |\n",
       "| 4 | 0.30 | 0 |\n",
       "| 5 | 0.30 | 0 |\n",
       "| 6 | 9.62 | 1 |\n",
       "\n"
      ],
      "text/plain": [
       "  ï..Antimony Gold\n",
       "1 3.08        1   \n",
       "2 6.15        1   \n",
       "3 2.35        1   \n",
       "4 0.30        0   \n",
       "5 0.30        0   \n",
       "6 9.62        1   "
      ]
     },
     "metadata": {},
     "output_type": "display_data"
    }
   ],
   "source": [
    "head(minerals)"
   ]
  },
  {
   "cell_type": "code",
   "execution_count": 6,
   "id": "fdc4586c-474b-4530-9222-3995d83a6f26",
   "metadata": {},
   "outputs": [
    {
     "data": {
      "text/html": [
       "<style>\n",
       ".list-inline {list-style: none; margin:0; padding: 0}\n",
       ".list-inline>li {display: inline-block}\n",
       ".list-inline>li:not(:last-child)::after {content: \"\\00b7\"; padding: 0 .5ex}\n",
       "</style>\n",
       "<ol class=list-inline><li>'ï..Antimony'</li><li>'Gold'</li></ol>\n"
      ],
      "text/latex": [
       "\\begin{enumerate*}\n",
       "\\item 'ï..Antimony'\n",
       "\\item 'Gold'\n",
       "\\end{enumerate*}\n"
      ],
      "text/markdown": [
       "1. 'ï..Antimony'\n",
       "2. 'Gold'\n",
       "\n",
       "\n"
      ],
      "text/plain": [
       "[1] \"ï..Antimony\" \"Gold\"       "
      ]
     },
     "metadata": {},
     "output_type": "display_data"
    }
   ],
   "source": [
    "names(minerals)"
   ]
  },
  {
   "cell_type": "code",
   "execution_count": 7,
   "id": "6fe5df02-eba0-4f8d-9a74-47bb0fceaca6",
   "metadata": {},
   "outputs": [],
   "source": [
    "# Change Column Name\n",
    "colnames(minerals)[colnames(minerals)==\"ï..Antimony\"]=\"Antimony\""
   ]
  },
  {
   "cell_type": "code",
   "execution_count": 8,
   "id": "1cd248ea-d1d0-43af-a640-48762d0c66b8",
   "metadata": {},
   "outputs": [
    {
     "data": {
      "text/html": [
       "<style>\n",
       ".list-inline {list-style: none; margin:0; padding: 0}\n",
       ".list-inline>li {display: inline-block}\n",
       ".list-inline>li:not(:last-child)::after {content: \"\\00b7\"; padding: 0 .5ex}\n",
       "</style>\n",
       "<ol class=list-inline><li>'Antimony'</li><li>'Gold'</li></ol>\n"
      ],
      "text/latex": [
       "\\begin{enumerate*}\n",
       "\\item 'Antimony'\n",
       "\\item 'Gold'\n",
       "\\end{enumerate*}\n"
      ],
      "text/markdown": [
       "1. 'Antimony'\n",
       "2. 'Gold'\n",
       "\n",
       "\n"
      ],
      "text/plain": [
       "[1] \"Antimony\" \"Gold\"    "
      ]
     },
     "metadata": {},
     "output_type": "display_data"
    }
   ],
   "source": [
    "names(minerals)"
   ]
  },
  {
   "cell_type": "markdown",
   "id": "1bcbfbd0-6236-4891-abf8-434bd5f31275",
   "metadata": {},
   "source": [
    "## Assumptions"
   ]
  },
  {
   "cell_type": "markdown",
   "id": "16d02fab-ae23-454f-b19e-b06dadcc8f1c",
   "metadata": {},
   "source": [
    "### Sample Size"
   ]
  },
  {
   "cell_type": "code",
   "execution_count": 9,
   "id": "857f6c6d-bd12-4db8-847e-240c43efe95a",
   "metadata": {},
   "outputs": [],
   "source": [
    "# Run the Base Model\n",
    "mylogit <- glm(Gold~Antimony, data=minerals, family=\"binomial\")"
   ]
  },
  {
   "cell_type": "code",
   "execution_count": 11,
   "id": "be6482c4-511f-4c49-80d7-3b9cea7d2643",
   "metadata": {},
   "outputs": [],
   "source": [
    "# Predict\n",
    "probabilities <- predict(mylogit, type=\"response\")\n",
    "minerals$Predicted <- ifelse(probabilities > .5, \"pos\", \"neg\")"
   ]
  },
  {
   "cell_type": "code",
   "execution_count": 13,
   "id": "ab649833-7194-41ce-82a9-a08a036d22ce",
   "metadata": {},
   "outputs": [],
   "source": [
    "# Recode the predicted variable\n",
    "minerals$PredictedR <- NA\n",
    "minerals$PredictedR[minerals$Predicted=='pos'] <- 1\n",
    "minerals$PredictedR[minerals$Predicted=='neg'] <- 0"
   ]
  },
  {
   "cell_type": "code",
   "execution_count": 14,
   "id": "f033fd96-1969-4f44-a053-a6936b9430d0",
   "metadata": {},
   "outputs": [],
   "source": [
    "# Convert variables to factors\n",
    "minerals$PredictedR <- as.factor(minerals$PredictedR)\n",
    "minerals$Gold <- as.factor(minerals$Gold)"
   ]
  },
  {
   "cell_type": "code",
   "execution_count": 15,
   "id": "68fac00d-d1f2-4f33-98bd-af695536af60",
   "metadata": {},
   "outputs": [
    {
     "data": {
      "text/plain": [
       "Confusion Matrix and Statistics\n",
       "\n",
       "          Reference\n",
       "Prediction  0  1\n",
       "         0 34  8\n",
       "         1  2 20\n",
       "                                          \n",
       "               Accuracy : 0.8438          \n",
       "                 95% CI : (0.7314, 0.9224)\n",
       "    No Information Rate : 0.5625          \n",
       "    P-Value [Acc > NIR] : 1.615e-06       \n",
       "                                          \n",
       "                  Kappa : 0.6748          \n",
       "                                          \n",
       " Mcnemar's Test P-Value : 0.1138          \n",
       "                                          \n",
       "            Sensitivity : 0.9444          \n",
       "            Specificity : 0.7143          \n",
       "         Pos Pred Value : 0.8095          \n",
       "         Neg Pred Value : 0.9091          \n",
       "             Prevalence : 0.5625          \n",
       "         Detection Rate : 0.5312          \n",
       "   Detection Prevalence : 0.6562          \n",
       "      Balanced Accuracy : 0.8294          \n",
       "                                          \n",
       "       'Positive' Class : 0               \n",
       "                                          "
      ]
     },
     "metadata": {},
     "output_type": "display_data"
    }
   ],
   "source": [
    "# Create a confusion Matrix\n",
    "conf_mat <- caret::confusionMatrix(minerals$PredictedR, minerals$Gold)\n",
    "conf_mat"
   ]
  },
  {
   "cell_type": "markdown",
   "id": "d6d5f6e9-e5c0-4ff8-8345-a265f6b9f906",
   "metadata": {},
   "source": [
    "## Logit Linearity"
   ]
  },
  {
   "cell_type": "code",
   "execution_count": 16,
   "id": "8992e7a3-801b-4d48-9fc5-a2323e1f393f",
   "metadata": {},
   "outputs": [],
   "source": [
    "minerals1 <- minerals %>% \n",
    "dplyr::select_if(is.numeric)"
   ]
  },
  {
   "cell_type": "code",
   "execution_count": 20,
   "id": "246adfed-f217-4b04-a7e8-ab1ba71425e5",
   "metadata": {},
   "outputs": [],
   "source": [
    "predictors <- colnames(minerals1)"
   ]
  },
  {
   "cell_type": "code",
   "execution_count": 32,
   "id": "cabb3c37-91bb-44da-a58b-95547d8b5adf",
   "metadata": {},
   "outputs": [],
   "source": [
    "minerals1 <- minerals1 %>%\n",
    "mutate(logit=log(probabilities/(1-probabilities))) %>%\n",
    "gather(key= \"predictors\", value=\"predictor.value\", -logit)"
   ]
  },
  {
   "cell_type": "code",
   "execution_count": 33,
   "id": "e967c947-758e-4eb8-b2f3-bcecd2177f93",
   "metadata": {},
   "outputs": [
    {
     "name": "stderr",
     "output_type": "stream",
     "text": [
      "`geom_smooth()` using formula 'y ~ x'\n",
      "\n"
     ]
    },
    {
     "data": {
      "image/png": "[encoded data removed]",
      "text/plain": [
       "plot without title"
      ]
     },
     "metadata": {
      "image/png": {
       "height": 420,
       "width": 420
      }
     },
     "output_type": "display_data"
    }
   ],
   "source": [
    "ggplot(minerals1, aes(logit, predictor.value))+\n",
    "geom_point(size=.5, alpha=.5)+\n",
    "geom_smooth(method= \"loess\")+\n",
    "theme_bw()+\n",
    "facet_wrap(~predictors, scales=\"free_y\")"
   ]
  },
  {
   "cell_type": "markdown",
   "id": "be93a418-5698-439b-b342-9f3e44648b83",
   "metadata": {},
   "source": [
    "## Graphing the errors"
   ]
  },
  {
   "cell_type": "code",
   "execution_count": 21,
   "id": "04a19557-64ac-4628-a328-1e984f7d4929",
   "metadata": {},
   "outputs": [
    {
     "data": {
      "image/png": "[encoded data removed]",
      "text/plain": [
       "plot without title"
      ]
     },
     "metadata": {
      "image/png": {
       "height": 420,
       "width": 420
      }
     },
     "output_type": "display_data"
    }
   ],
   "source": [
    "plot(mylogit$residuals)"
   ]
  },
  {
   "cell_type": "markdown",
   "id": "45e849a7-4961-44fb-8787-020523a4ce8e",
   "metadata": {},
   "source": [
    "## Durbin-Watson Test\n",
    "Test is not significant - Continue"
   ]
  },
  {
   "cell_type": "code",
   "execution_count": 36,
   "id": "2244fc94-4cf6-42da-ace9-b97090a9dce8",
   "metadata": {},
   "outputs": [
    {
     "data": {
      "text/plain": [
       "\n",
       "\tDurbin-Watson test\n",
       "\n",
       "data:  mylogit\n",
       "DW = 1.7616, p-value = 0.3316\n",
       "alternative hypothesis: true autocorrelation is not 0\n"
      ]
     },
     "metadata": {},
     "output_type": "display_data"
    }
   ],
   "source": [
    "dwtest(mylogit, alternative=\"two.sided\")"
   ]
  },
  {
   "cell_type": "markdown",
   "id": "c71ab63b-a864-4547-9443-86e8169d4a6b",
   "metadata": {},
   "source": [
    "## Multicolinearity\n",
    "Meets assumption due to one Independent Variable"
   ]
  },
  {
   "cell_type": "markdown",
   "id": "92905b45-35f3-46a0-992b-dfec80ee35a8",
   "metadata": {},
   "source": [
    "## Independent Errors\n",
    "Test by graphing the residuals over the index"
   ]
  },
  {
   "cell_type": "markdown",
   "id": "de359e52-7492-4474-88a4-584d562c2b36",
   "metadata": {},
   "source": [
    "## Screening for Outliers"
   ]
  },
  {
   "cell_type": "code",
   "execution_count": 37,
   "id": "24465d81-2a00-406d-ad32-94c4e6022ae9",
   "metadata": {},
   "outputs": [
    {
     "name": "stdout",
     "output_type": "stream",
     "text": [
      "Potentially influential observations of\n",
      "\t glm(formula = Gold ~ Antimony, family = \"binomial\", data = minerals) :\n",
      "\n",
      "   dfb.1_ dfb.Antm dffit   cov.r   cook.d  hat  \n",
      "3  -0.08   0.20     0.22    1.11_*  0.01    0.08\n",
      "9   0.35  -0.55    -0.57_*  0.63_*  1.46_*  0.02\n",
      "25  0.26  -0.62    -0.72_*  0.95    0.23    0.08\n",
      "34  0.38  -0.22     0.39    0.88_*  0.08    0.03\n",
      "46 -0.08   0.17     0.19    1.11_*  0.01    0.08\n",
      "57 -0.08   0.18     0.20    1.11_*  0.01    0.08\n",
      "63 -0.08   0.22     0.26    1.10_*  0.01    0.08\n"
     ]
    }
   ],
   "source": [
    "infl <- influence.measures(mylogit)\n",
    "summary(infl)"
   ]
  },
  {
   "cell_type": "markdown",
   "id": "13f74337-a29f-44bf-8fb1-260ad9354622",
   "metadata": {},
   "source": [
    "## Running Logistic Regression"
   ]
  },
  {
   "cell_type": "code",
   "execution_count": 38,
   "id": "e90a4a8c-5cad-4a55-9c1d-4e571880cd4f",
   "metadata": {},
   "outputs": [
    {
     "data": {
      "text/plain": [
       "\n",
       "Call:\n",
       "glm(formula = Gold ~ Antimony, family = \"binomial\", data = minerals)\n",
       "\n",
       "Deviance Residuals: \n",
       "    Min       1Q   Median       3Q      Max  \n",
       "-3.1918  -0.5462  -0.4471   0.2447   1.9748  \n",
       "\n",
       "Coefficients:\n",
       "            Estimate Std. Error z value Pr(>|z|)    \n",
       "(Intercept)  -2.5184     0.5958  -4.227 2.37e-05 ***\n",
       "Antimony      1.7606     0.4883   3.606 0.000311 ***\n",
       "---\n",
       "Signif. codes:  0 '***' 0.001 '**' 0.01 '*' 0.05 '.' 0.1 ' ' 1\n",
       "\n",
       "(Dispersion parameter for binomial family taken to be 1)\n",
       "\n",
       "    Null deviance: 87.720  on 63  degrees of freedom\n",
       "Residual deviance: 45.332  on 62  degrees of freedom\n",
       "AIC: 49.332\n",
       "\n",
       "Number of Fisher Scoring iterations: 7\n"
      ]
     },
     "metadata": {},
     "output_type": "display_data"
    }
   ],
   "source": [
    "summary(mylogit)\n"
   ]
  },
  {
   "cell_type": "code",
   "execution_count": null,
   "id": "868b1163-2609-48b3-a029-b6ada95761d6",
   "metadata": {},
   "outputs": [],
   "source": []
  }
 ],
 "metadata": {
  "kernelspec": {
   "display_name": "R",
   "language": "R",
   "name": "ir"
  },
  "language_info": {
   "codemirror_mode": "r",
   "file_extension": ".r",
   "mimetype": "text/x-r-source",
   "name": "R",
   "pygments_lexer": "r",
   "version": "4.1.2"
  }
 },
 "nbformat": 4,
 "nbformat_minor": 5
}
