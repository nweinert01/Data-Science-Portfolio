{
 "cells": [
  {
   "cell_type": "markdown",
   "id": "0c2b0ae1-c9c1-48ce-b9f9-138c647f329e",
   "metadata": {},
   "source": [
    "# Analysis of Non Linear Variables"
   ]
  },
  {
   "cell_type": "code",
   "execution_count": 3,
   "id": "7643064c-9ad6-467f-8822-5971c9f408a2",
   "metadata": {},
   "outputs": [],
   "source": [
    "library(\"ggplot2\")"
   ]
  },
  {
   "cell_type": "code",
   "execution_count": 5,
   "id": "1c4dd37d-9e2f-4211-8317-daa49191281b",
   "metadata": {},
   "outputs": [
    {
     "data": {
      "text/html": [
       "<table class=\"dataframe\">\n",
       "<caption>A data.frame: 6 × 4</caption>\n",
       "<thead>\n",
       "\t<tr><th></th><th scope=col>X1</th><th scope=col>Y1</th><th scope=col>X2</th><th scope=col>Y2</th></tr>\n",
       "\t<tr><th></th><th scope=col>&lt;dbl&gt;</th><th scope=col>&lt;dbl&gt;</th><th scope=col>&lt;dbl&gt;</th><th scope=col>&lt;dbl&gt;</th></tr>\n",
       "</thead>\n",
       "<tbody>\n",
       "\t<tr><th scope=row>1</th><td> 9.55</td><td>183.13</td><td>1.74</td><td>65.01</td></tr>\n",
       "\t<tr><th scope=row>2</th><td> 7.98</td><td>204.44</td><td>0.13</td><td>13.55</td></tr>\n",
       "\t<tr><th scope=row>3</th><td>13.42</td><td>121.54</td><td>0.20</td><td>16.58</td></tr>\n",
       "\t<tr><th scope=row>4</th><td>13.40</td><td>111.86</td><td>0.76</td><td>22.87</td></tr>\n",
       "\t<tr><th scope=row>5</th><td> 7.67</td><td>206.74</td><td>0.78</td><td>22.01</td></tr>\n",
       "\t<tr><th scope=row>6</th><td> 5.97</td><td>205.72</td><td>1.65</td><td>53.96</td></tr>\n",
       "</tbody>\n",
       "</table>\n"
      ],
      "text/latex": [
       "A data.frame: 6 × 4\n",
       "\\begin{tabular}{r|llll}\n",
       "  & X1 & Y1 & X2 & Y2\\\\\n",
       "  & <dbl> & <dbl> & <dbl> & <dbl>\\\\\n",
       "\\hline\n",
       "\t1 &  9.55 & 183.13 & 1.74 & 65.01\\\\\n",
       "\t2 &  7.98 & 204.44 & 0.13 & 13.55\\\\\n",
       "\t3 & 13.42 & 121.54 & 0.20 & 16.58\\\\\n",
       "\t4 & 13.40 & 111.86 & 0.76 & 22.87\\\\\n",
       "\t5 &  7.67 & 206.74 & 0.78 & 22.01\\\\\n",
       "\t6 &  5.97 & 205.72 & 1.65 & 53.96\\\\\n",
       "\\end{tabular}\n"
      ],
      "text/markdown": [
       "\n",
       "A data.frame: 6 × 4\n",
       "\n",
       "| <!--/--> | X1 &lt;dbl&gt; | Y1 &lt;dbl&gt; | X2 &lt;dbl&gt; | Y2 &lt;dbl&gt; |\n",
       "|---|---|---|---|---|\n",
       "| 1 |  9.55 | 183.13 | 1.74 | 65.01 |\n",
       "| 2 |  7.98 | 204.44 | 0.13 | 13.55 |\n",
       "| 3 | 13.42 | 121.54 | 0.20 | 16.58 |\n",
       "| 4 | 13.40 | 111.86 | 0.76 | 22.87 |\n",
       "| 5 |  7.67 | 206.74 | 0.78 | 22.01 |\n",
       "| 6 |  5.97 | 205.72 | 1.65 | 53.96 |\n",
       "\n"
      ],
      "text/plain": [
       "  X1    Y1     X2   Y2   \n",
       "1  9.55 183.13 1.74 65.01\n",
       "2  7.98 204.44 0.13 13.55\n",
       "3 13.42 121.54 0.20 16.58\n",
       "4 13.40 111.86 0.76 22.87\n",
       "5  7.67 206.74 0.78 22.01\n",
       "6  5.97 205.72 1.65 53.96"
      ]
     },
     "metadata": {},
     "output_type": "display_data"
    }
   ],
   "source": [
    "nL <- read.csv(\"nonlinear.csv\")\n",
    "head(nL)"
   ]
  },
  {
   "cell_type": "code",
   "execution_count": 6,
   "id": "7dfc219b-4b7d-446f-b2c0-30b395596ce7",
   "metadata": {},
   "outputs": [
    {
     "data": {
      "text/html": [
       "<style>\n",
       ".list-inline {list-style: none; margin:0; padding: 0}\n",
       ".list-inline>li {display: inline-block}\n",
       ".list-inline>li:not(:last-child)::after {content: \"\\00b7\"; padding: 0 .5ex}\n",
       "</style>\n",
       "<ol class=list-inline><li>'X1'</li><li>'Y1'</li><li>'X2'</li><li>'Y2'</li></ol>\n"
      ],
      "text/latex": [
       "\\begin{enumerate*}\n",
       "\\item 'X1'\n",
       "\\item 'Y1'\n",
       "\\item 'X2'\n",
       "\\item 'Y2'\n",
       "\\end{enumerate*}\n"
      ],
      "text/markdown": [
       "1. 'X1'\n",
       "2. 'Y1'\n",
       "3. 'X2'\n",
       "4. 'Y2'\n",
       "\n",
       "\n"
      ],
      "text/plain": [
       "[1] \"X1\" \"Y1\" \"X2\" \"Y2\""
      ]
     },
     "metadata": {},
     "output_type": "display_data"
    }
   ],
   "source": [
    "colnames(nL)"
   ]
  },
  {
   "cell_type": "markdown",
   "id": "40486271-7325-435b-bff2-b5f0ddf3534c",
   "metadata": {},
   "source": [
    "## X1 & Y1"
   ]
  },
  {
   "cell_type": "code",
   "execution_count": 9,
   "id": "ac9d7101-0e7a-40d5-9aba-ee4270e7222a",
   "metadata": {},
   "outputs": [
    {
     "name": "stderr",
     "output_type": "stream",
     "text": [
      "Warning message:\n",
      "\"Removed 4 rows containing non-finite values (stat_smooth).\"\n",
      "Warning message:\n",
      "\"Removed 4 rows containing missing values (geom_point).\"\n"
     ]
    },
    {
     "data": {
      "image/png": "[encoded data removed]",
      "text/plain": [
       "plot without title"
      ]
     },
     "metadata": {
      "image/png": {
       "height": 420,
       "width": 420
      }
     },
     "output_type": "display_data"
    }
   ],
   "source": [
    "quadPlot <- ggplot(nL, aes(x = X1, y=Y1)) + geom_point() + stat_smooth(method = \"lm\", formula = y ~x + I(x^2), size =1)\n",
    "quadPlot"
   ]
  },
  {
   "cell_type": "code",
   "execution_count": 21,
   "id": "3bc088e7-ae12-4f0e-9d8c-53d3c779b064",
   "metadata": {},
   "outputs": [],
   "source": [
    "# Checking Quadratic\n",
    "xSQ1 <- nL$X1^2"
   ]
  },
  {
   "cell_type": "code",
   "execution_count": 22,
   "id": "f7bcc2f2-b1ee-43c5-b855-dc7a589cdf66",
   "metadata": {},
   "outputs": [
    {
     "data": {
      "text/plain": [
       "\n",
       "Call:\n",
       "lm(formula = nL$Y1 ~ nL$X1 + xSQ1)\n",
       "\n",
       "Residuals:\n",
       "    Min      1Q  Median      3Q     Max \n",
       "-8.1829 -3.5405  0.3129  3.3066  8.1229 \n",
       "\n",
       "Coefficients:\n",
       "            Estimate Std. Error t value Pr(>|t|)    \n",
       "(Intercept) 134.0067    10.6525   12.58 6.26e-14 ***\n",
       "nL$X1        22.4021     2.1788   10.28 1.14e-11 ***\n",
       "xSQ1         -1.7723     0.1066  -16.62  < 2e-16 ***\n",
       "---\n",
       "Signif. codes:  0 '***' 0.001 '**' 0.01 '*' 0.05 '.' 0.1 ' ' 1\n",
       "\n",
       "Residual standard error: 4.338 on 32 degrees of freedom\n",
       "  (4 observations deleted due to missingness)\n",
       "Multiple R-squared:  0.9871,\tAdjusted R-squared:  0.9863 \n",
       "F-statistic:  1221 on 2 and 32 DF,  p-value: < 2.2e-16\n"
      ]
     },
     "metadata": {},
     "output_type": "display_data"
    }
   ],
   "source": [
    "Quadmodel <- lm(nL$Y1~nL$X1+xSQ1)\n",
    "summary(Quadmodel)"
   ]
  },
  {
   "cell_type": "code",
   "execution_count": 14,
   "id": "377e2dcf-fe7e-445f-b03f-aea5406f561c",
   "metadata": {},
   "outputs": [
    {
     "data": {
      "text/plain": [
       "\n",
       "Call:\n",
       "lm(formula = log(nL$Y1) ~ nL$X1)\n",
       "\n",
       "Residuals:\n",
       "     Min       1Q   Median       3Q      Max \n",
       "-0.26429 -0.02932  0.02343  0.07061  0.13519 \n",
       "\n",
       "Coefficients:\n",
       "             Estimate Std. Error t value Pr(>|t|)    \n",
       "(Intercept)  6.005020   0.071561   83.92  < 2e-16 ***\n",
       "nL$X1       -0.090368   0.007075  -12.77 2.54e-14 ***\n",
       "---\n",
       "Signif. codes:  0 '***' 0.001 '**' 0.01 '*' 0.05 '.' 0.1 ' ' 1\n",
       "\n",
       "Residual standard error: 0.1058 on 33 degrees of freedom\n",
       "  (4 observations deleted due to missingness)\n",
       "Multiple R-squared:  0.8317,\tAdjusted R-squared:  0.8266 \n",
       "F-statistic: 163.1 on 1 and 33 DF,  p-value: 2.544e-14\n"
      ]
     },
     "metadata": {},
     "output_type": "display_data"
    }
   ],
   "source": [
    "# Check exponential just to be sure\n",
    "exMod <- lm(log(nL$Y1)~nL$X1)\n",
    "summary(exMod)"
   ]
  },
  {
   "cell_type": "markdown",
   "id": "95a78bd5-7b39-4903-80b5-e725bfdd7f0b",
   "metadata": {},
   "source": [
    "## X2 & Y2"
   ]
  },
  {
   "cell_type": "code",
   "execution_count": 15,
   "id": "21b0c151-de2a-42e4-ad20-85a84c3db31f",
   "metadata": {},
   "outputs": [
    {
     "data": {
      "image/png": "[encoded data removed]",
      "text/plain": [
       "plot without title"
      ]
     },
     "metadata": {
      "image/png": {
       "height": 420,
       "width": 420
      }
     },
     "output_type": "display_data"
    }
   ],
   "source": [
    "quadPlot <- ggplot(nL, aes(x = X2, y=Y2)) + geom_point() + stat_smooth(method = \"lm\", formula = y ~x + I(x^2), size =1)\n",
    "quadPlot"
   ]
  },
  {
   "cell_type": "code",
   "execution_count": 16,
   "id": "62710efa-ddb7-48da-97df-b07f69cb4776",
   "metadata": {},
   "outputs": [
    {
     "data": {
      "text/plain": [
       "\n",
       "Call:\n",
       "lm(formula = log(nL$Y2) ~ nL$X2)\n",
       "\n",
       "Residuals:\n",
       "     Min       1Q   Median       3Q      Max \n",
       "-0.43355 -0.07484  0.02495  0.09559  0.31863 \n",
       "\n",
       "Coefficients:\n",
       "            Estimate Std. Error t value Pr(>|t|)    \n",
       "(Intercept)  2.29060    0.05693   40.23   <2e-16 ***\n",
       "nL$X2        0.99481    0.05189   19.17   <2e-16 ***\n",
       "---\n",
       "Signif. codes:  0 '***' 0.001 '**' 0.01 '*' 0.05 '.' 0.1 ' ' 1\n",
       "\n",
       "Residual standard error: 0.1489 on 37 degrees of freedom\n",
       "Multiple R-squared:  0.9085,\tAdjusted R-squared:  0.9061 \n",
       "F-statistic: 367.6 on 1 and 37 DF,  p-value: < 2.2e-16\n"
      ]
     },
     "metadata": {},
     "output_type": "display_data"
    }
   ],
   "source": [
    "# Checking Exponential \n",
    "exMod <- lm(log(nL$Y2)~nL$X2)\n",
    "summary(exMod)"
   ]
  },
  {
   "cell_type": "code",
   "execution_count": 25,
   "id": "d45f79f8-c779-449f-8f72-5d12aaad4825",
   "metadata": {},
   "outputs": [],
   "source": [
    "# Checking Quadratic\n",
    "xSQ2 <- nL$X2^2"
   ]
  },
  {
   "cell_type": "code",
   "execution_count": 26,
   "id": "c70028bd-2162-4e83-8616-78360f2cc947",
   "metadata": {},
   "outputs": [
    {
     "data": {
      "text/plain": [
       "\n",
       "Call:\n",
       "lm(formula = nL$Y2 ~ nL$X2 + xSQ2)\n",
       "\n",
       "Residuals:\n",
       "    Min      1Q  Median      3Q     Max \n",
       "-5.3133 -3.5044  0.4958  2.4686  5.1790 \n",
       "\n",
       "Coefficients:\n",
       "            Estimate Std. Error t value Pr(>|t|)    \n",
       "(Intercept)   15.318      2.001   7.655 4.63e-09 ***\n",
       "nL$X2        -10.706      4.676  -2.290    0.028 *  \n",
       "xSQ2          20.856      2.451   8.510 3.84e-10 ***\n",
       "---\n",
       "Signif. codes:  0 '***' 0.001 '**' 0.01 '*' 0.05 '.' 0.1 ' ' 1\n",
       "\n",
       "Residual standard error: 3.243 on 36 degrees of freedom\n",
       "Multiple R-squared:  0.9499,\tAdjusted R-squared:  0.9471 \n",
       "F-statistic:   341 on 2 and 36 DF,  p-value: < 2.2e-16\n"
      ]
     },
     "metadata": {},
     "output_type": "display_data"
    }
   ],
   "source": [
    "Quadmodel <- lm(nL$Y2~nL$X2+xSQ2)\n",
    "summary(Quadmodel)"
   ]
  },
  {
   "cell_type": "code",
   "execution_count": null,
   "id": "5f0eff06-f29d-4baa-a85c-b63d9dbdb9a2",
   "metadata": {},
   "outputs": [],
   "source": []
  }
 ],
 "metadata": {
  "kernelspec": {
   "display_name": "R",
   "language": "R",
   "name": "ir"
  },
  "language_info": {
   "codemirror_mode": "r",
   "file_extension": ".r",
   "mimetype": "text/x-r-source",
   "name": "R",
   "pygments_lexer": "r",
   "version": "4.1.2"
  }
 },
 "nbformat": 4,
 "nbformat_minor": 5
}
