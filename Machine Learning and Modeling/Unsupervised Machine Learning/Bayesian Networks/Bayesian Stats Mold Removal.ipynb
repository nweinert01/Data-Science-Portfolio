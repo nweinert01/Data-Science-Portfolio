{
 "cells": [
  {
   "cell_type": "markdown",
   "id": "93ea895e-2e77-4443-aeae-47ad721c782d",
   "metadata": {},
   "source": [
    "# Bayesian Statistics\n",
    "## Mold Removal"
   ]
  },
  {
   "cell_type": "code",
   "execution_count": 1,
   "id": "938f13ff-b1b8-4563-af7d-b5a1ae53fc95",
   "metadata": {},
   "outputs": [],
   "source": [
    "trials <- 10000"
   ]
  },
  {
   "cell_type": "code",
   "execution_count": 2,
   "id": "0d8f6a24-ae35-4803-b94f-7201a50dd3a3",
   "metadata": {},
   "outputs": [],
   "source": [
    "alpha <- 9\n",
    "beta <- 1"
   ]
  },
  {
   "cell_type": "code",
   "execution_count": 6,
   "id": "798ca919-7d71-4f56-981e-cdbb5ec77576",
   "metadata": {},
   "outputs": [],
   "source": [
    "samplesA <- rbeta(trials, 27+alpha, 39+beta)\n",
    "samplesB <- rbeta(trials, 10+alpha, 45+beta)"
   ]
  },
  {
   "cell_type": "code",
   "execution_count": 7,
   "id": "1f9ecc07-382c-4246-9d1e-ad71556f321e",
   "metadata": {},
   "outputs": [],
   "source": [
    "Bsuperior <- sum(samplesB > samplesA) / trials"
   ]
  },
  {
   "cell_type": "code",
   "execution_count": 8,
   "id": "237a3fe8-0cc9-420b-aea2-ded55fbebe7f",
   "metadata": {},
   "outputs": [
    {
     "name": "stdout",
     "output_type": "stream",
     "text": [
      "[1] 0.0126\n"
     ]
    }
   ],
   "source": [
    "print(Bsuperior)"
   ]
  },
  {
   "cell_type": "code",
   "execution_count": null,
   "id": "5555817a-b3f4-47d4-bb5e-4fea186f31ba",
   "metadata": {},
   "outputs": [],
   "source": []
  }
 ],
 "metadata": {
  "kernelspec": {
   "display_name": "R",
   "language": "R",
   "name": "ir"
  },
  "language_info": {
   "codemirror_mode": "r",
   "file_extension": ".r",
   "mimetype": "text/x-r-source",
   "name": "R",
   "pygments_lexer": "r",
   "version": "4.1.2"
  }
 },
 "nbformat": 4,
 "nbformat_minor": 5
}
