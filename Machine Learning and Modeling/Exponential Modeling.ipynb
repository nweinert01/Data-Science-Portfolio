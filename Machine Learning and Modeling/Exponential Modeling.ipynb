{
 "cells": [
  {
   "cell_type": "markdown",
   "id": "9f8a0b7c-7183-45c2-b97f-0810c5a05d83",
   "metadata": {},
   "source": [
    "## Exponential Modeling"
   ]
  },
  {
   "cell_type": "code",
   "execution_count": 1,
   "id": "daa46439-b5f2-4367-9d6e-f402625ea341",
   "metadata": {},
   "outputs": [],
   "source": [
    "bacteria <- read.csv(\"bacteria.csv\")"
   ]
  },
  {
   "cell_type": "code",
   "execution_count": 2,
   "id": "8015663d-3dca-46a8-be37-864ab1f78853",
   "metadata": {},
   "outputs": [
    {
     "data": {
      "text/html": [
       "<table class=\"dataframe\">\n",
       "<caption>A data.frame: 6 × 2</caption>\n",
       "<thead>\n",
       "\t<tr><th></th><th scope=col>Period</th><th scope=col>Count</th></tr>\n",
       "\t<tr><th></th><th scope=col>&lt;int&gt;</th><th scope=col>&lt;int&gt;</th></tr>\n",
       "</thead>\n",
       "<tbody>\n",
       "\t<tr><th scope=row>1</th><td>0</td><td>15</td></tr>\n",
       "\t<tr><th scope=row>2</th><td>1</td><td>19</td></tr>\n",
       "\t<tr><th scope=row>3</th><td>2</td><td>21</td></tr>\n",
       "\t<tr><th scope=row>4</th><td>3</td><td>22</td></tr>\n",
       "\t<tr><th scope=row>5</th><td>4</td><td>28</td></tr>\n",
       "\t<tr><th scope=row>6</th><td>5</td><td>32</td></tr>\n",
       "</tbody>\n",
       "</table>\n"
      ],
      "text/latex": [
       "A data.frame: 6 × 2\n",
       "\\begin{tabular}{r|ll}\n",
       "  & Period & Count\\\\\n",
       "  & <int> & <int>\\\\\n",
       "\\hline\n",
       "\t1 & 0 & 15\\\\\n",
       "\t2 & 1 & 19\\\\\n",
       "\t3 & 2 & 21\\\\\n",
       "\t4 & 3 & 22\\\\\n",
       "\t5 & 4 & 28\\\\\n",
       "\t6 & 5 & 32\\\\\n",
       "\\end{tabular}\n"
      ],
      "text/markdown": [
       "\n",
       "A data.frame: 6 × 2\n",
       "\n",
       "| <!--/--> | Period &lt;int&gt; | Count &lt;int&gt; |\n",
       "|---|---|---|\n",
       "| 1 | 0 | 15 |\n",
       "| 2 | 1 | 19 |\n",
       "| 3 | 2 | 21 |\n",
       "| 4 | 3 | 22 |\n",
       "| 5 | 4 | 28 |\n",
       "| 6 | 5 | 32 |\n",
       "\n"
      ],
      "text/plain": [
       "  Period Count\n",
       "1 0      15   \n",
       "2 1      19   \n",
       "3 2      21   \n",
       "4 3      22   \n",
       "5 4      28   \n",
       "6 5      32   "
      ]
     },
     "metadata": {},
     "output_type": "display_data"
    }
   ],
   "source": [
    "head(bacteria)"
   ]
  },
  {
   "cell_type": "markdown",
   "id": "e910298b-8d7d-49ac-af24-e829e899203e",
   "metadata": {},
   "source": [
    "## Question Setup\n",
    "We are trying to answer the question of how does much does bacteria grow over time. We will examine the change in Count, your y variable, over time Period, your x variable."
   ]
  },
  {
   "cell_type": "markdown",
   "id": "04558d0c-1fee-4ec5-b9d8-eb57d517e44a",
   "metadata": {},
   "source": [
    "## Exponential Modeling Code"
   ]
  },
  {
   "cell_type": "code",
   "execution_count": 3,
   "id": "0cdfc386-3eac-44ad-ae24-75aaeb76dba9",
   "metadata": {},
   "outputs": [
    {
     "data": {
      "text/plain": [
       "\n",
       "Call:\n",
       "lm(formula = log(bacteria$Count) ~ bacteria$Period)\n",
       "\n",
       "Residuals:\n",
       "      Min        1Q    Median        3Q       Max \n",
       "-0.106253 -0.038496  0.006744  0.029930  0.077803 \n",
       "\n",
       "Coefficients:\n",
       "                Estimate Std. Error t value Pr(>|t|)    \n",
       "(Intercept)     2.701306   0.027086   99.73  < 2e-16 ***\n",
       "bacteria$Period 0.165330   0.003293   50.21 2.84e-16 ***\n",
       "---\n",
       "Signif. codes:  0 '***' 0.001 '**' 0.01 '*' 0.05 '.' 0.1 ' ' 1\n",
       "\n",
       "Residual standard error: 0.0551 on 13 degrees of freedom\n",
       "Multiple R-squared:  0.9949,\tAdjusted R-squared:  0.9945 \n",
       "F-statistic:  2521 on 1 and 13 DF,  p-value: 2.841e-16\n"
      ]
     },
     "metadata": {},
     "output_type": "display_data"
    }
   ],
   "source": [
    "exMod <- lm(log(bacteria$Count)~bacteria$Period)\n",
    "summary(exMod)"
   ]
  },
  {
   "cell_type": "markdown",
   "id": "a4a460bb-df72-4a95-a1c8-e9a2f70331f5",
   "metadata": {},
   "source": [
    "## Interpretting the Output\n",
    "By looking at the bottom F-statistic and associated p-value, you see that this model is significant! That means that this particular bacteria does demonstrate exponential growth over time. Looking at the Estimate column, you can see that for every one additional time b in, the bacteria has increased by 16%!"
   ]
  },
  {
   "cell_type": "code",
   "execution_count": null,
   "id": "750f4f2b-5f53-4824-8dcd-fd1fa6a80728",
   "metadata": {},
   "outputs": [],
   "source": []
  }
 ],
 "metadata": {
  "kernelspec": {
   "display_name": "R",
   "language": "R",
   "name": "ir"
  },
  "language_info": {
   "codemirror_mode": "r",
   "file_extension": ".r",
   "mimetype": "text/x-r-source",
   "name": "R",
   "pygments_lexer": "r",
   "version": "4.1.2"
  }
 },
 "nbformat": 4,
 "nbformat_minor": 5
}
