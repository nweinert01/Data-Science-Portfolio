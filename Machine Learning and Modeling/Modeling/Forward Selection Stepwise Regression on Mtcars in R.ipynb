{
 "cells": [
  {
   "cell_type": "markdown",
   "id": "d661d226-629d-4c44-88a3-578af2870271",
   "metadata": {},
   "source": [
    "# Forward Selection of Stepwise Regression on Mtcars Data in R"
   ]
  },
  {
   "cell_type": "code",
   "execution_count": 2,
   "id": "17b28b14-ba4b-42ba-b536-9b1717d00d00",
   "metadata": {},
   "outputs": [
    {
     "data": {
      "text/plain": [
       "\n",
       "Call:\n",
       "lm(formula = mpg ~ 1, data = mtcars)\n",
       "\n",
       "Residuals:\n",
       "    Min      1Q  Median      3Q     Max \n",
       "-9.6906 -4.6656 -0.8906  2.7094 13.8094 \n",
       "\n",
       "Coefficients:\n",
       "            Estimate Std. Error t value Pr(>|t|)    \n",
       "(Intercept)   20.091      1.065   18.86   <2e-16 ***\n",
       "---\n",
       "Signif. codes:  0 '***' 0.001 '**' 0.01 '*' 0.05 '.' 0.1 ' ' 1\n",
       "\n",
       "Residual standard error: 6.027 on 31 degrees of freedom\n"
      ]
     },
     "metadata": {},
     "output_type": "display_data"
    }
   ],
   "source": [
    "# Minimal Model. Only includes intercept (no explanatory variables - coefficient only)\n",
    "FitStart <- lm(mpg~1, data=mtcars)\n",
    "summary(FitStart)"
   ]
  },
  {
   "cell_type": "code",
   "execution_count": 3,
   "id": "b89e1d01-e5c8-44f6-8c78-13d78185d0c1",
   "metadata": {},
   "outputs": [],
   "source": [
    "FitAll <- lm(mpg~., data=mtcars)"
   ]
  },
  {
   "cell_type": "code",
   "execution_count": 4,
   "id": "caa253a4-3b69-41d1-ba1a-2872d6296468",
   "metadata": {},
   "outputs": [
    {
     "name": "stdout",
     "output_type": "stream",
     "text": [
      "Start:  AIC=115.94\n",
      "mpg ~ 1\n",
      "\n",
      "       Df Sum of Sq     RSS     AIC\n",
      "+ wt    1    847.73  278.32  73.217\n",
      "+ cyl   1    817.71  308.33  76.494\n",
      "+ disp  1    808.89  317.16  77.397\n",
      "+ hp    1    678.37  447.67  88.427\n",
      "+ drat  1    522.48  603.57  97.988\n",
      "+ vs    1    496.53  629.52  99.335\n",
      "+ am    1    405.15  720.90 103.672\n",
      "+ carb  1    341.78  784.27 106.369\n",
      "+ gear  1    259.75  866.30 109.552\n",
      "+ qsec  1    197.39  928.66 111.776\n",
      "<none>              1126.05 115.943\n",
      "\n",
      "Step:  AIC=73.22\n",
      "mpg ~ wt\n",
      "\n",
      "       Df Sum of Sq    RSS    AIC\n",
      "+ cyl   1    87.150 191.17 63.198\n",
      "+ hp    1    83.274 195.05 63.840\n",
      "+ qsec  1    82.858 195.46 63.908\n",
      "+ vs    1    54.228 224.09 68.283\n",
      "+ carb  1    44.602 233.72 69.628\n",
      "+ disp  1    31.639 246.68 71.356\n",
      "<none>              278.32 73.217\n",
      "+ drat  1     9.081 269.24 74.156\n",
      "+ gear  1     1.137 277.19 75.086\n",
      "+ am    1     0.002 278.32 75.217\n",
      "\n",
      "Step:  AIC=63.2\n",
      "mpg ~ wt + cyl\n",
      "\n",
      "       Df Sum of Sq    RSS    AIC\n",
      "+ hp    1   14.5514 176.62 62.665\n",
      "+ carb  1   13.7724 177.40 62.805\n",
      "<none>              191.17 63.198\n",
      "+ qsec  1   10.5674 180.60 63.378\n",
      "+ gear  1    3.0281 188.14 64.687\n",
      "+ disp  1    2.6796 188.49 64.746\n",
      "+ vs    1    0.7059 190.47 65.080\n",
      "+ am    1    0.1249 191.05 65.177\n",
      "+ drat  1    0.0010 191.17 65.198\n",
      "\n",
      "Step:  AIC=62.66\n",
      "mpg ~ wt + cyl + hp\n",
      "\n",
      "       Df Sum of Sq    RSS    AIC\n",
      "<none>              176.62 62.665\n",
      "+ am    1    6.6228 170.00 63.442\n",
      "+ disp  1    6.1762 170.44 63.526\n",
      "+ carb  1    2.5187 174.10 64.205\n",
      "+ drat  1    2.2453 174.38 64.255\n",
      "+ qsec  1    1.4010 175.22 64.410\n",
      "+ gear  1    0.8558 175.76 64.509\n",
      "+ vs    1    0.0599 176.56 64.654\n"
     ]
    },
    {
     "data": {
      "text/plain": [
       "\n",
       "Call:\n",
       "lm(formula = mpg ~ wt + cyl + hp, data = mtcars)\n",
       "\n",
       "Coefficients:\n",
       "(Intercept)           wt          cyl           hp  \n",
       "   38.75179     -3.16697     -0.94162     -0.01804  \n"
      ]
     },
     "metadata": {},
     "output_type": "display_data"
    }
   ],
   "source": [
    "step(FitStart, direction=\"forward\", scope=formula(FitAll))"
   ]
  },
  {
   "cell_type": "markdown",
   "id": "155b4753-0b3a-4fa4-8483-c747211b542a",
   "metadata": {},
   "source": [
    "## Examine the Final Model"
   ]
  },
  {
   "cell_type": "code",
   "execution_count": 5,
   "id": "3718d9aa-3cb8-4dcd-a2d2-db9563134625",
   "metadata": {},
   "outputs": [
    {
     "data": {
      "text/plain": [
       "\n",
       "Call:\n",
       "lm(formula = mpg ~ wt + cyl + hp, data = mtcars)\n",
       "\n",
       "Residuals:\n",
       "    Min      1Q  Median      3Q     Max \n",
       "-3.9290 -1.5598 -0.5311  1.1850  5.8986 \n",
       "\n",
       "Coefficients:\n",
       "            Estimate Std. Error t value Pr(>|t|)    \n",
       "(Intercept) 38.75179    1.78686  21.687  < 2e-16 ***\n",
       "wt          -3.16697    0.74058  -4.276 0.000199 ***\n",
       "cyl         -0.94162    0.55092  -1.709 0.098480 .  \n",
       "hp          -0.01804    0.01188  -1.519 0.140015    \n",
       "---\n",
       "Signif. codes:  0 '***' 0.001 '**' 0.01 '*' 0.05 '.' 0.1 ' ' 1\n",
       "\n",
       "Residual standard error: 2.512 on 28 degrees of freedom\n",
       "Multiple R-squared:  0.8431,\tAdjusted R-squared:  0.8263 \n",
       "F-statistic: 50.17 on 3 and 28 DF,  p-value: 2.184e-11\n"
      ]
     },
     "metadata": {},
     "output_type": "display_data"
    }
   ],
   "source": [
    "fitsome2 = lm(mpg ~ wt + cyl + hp, data = mtcars)\n",
    "summary(fitsome2)"
   ]
  },
  {
   "cell_type": "code",
   "execution_count": null,
   "id": "e2e1eddb-7f56-45bc-aa85-5a0aa19e3935",
   "metadata": {},
   "outputs": [],
   "source": []
  }
 ],
 "metadata": {
  "kernelspec": {
   "display_name": "R",
   "language": "R",
   "name": "ir"
  },
  "language_info": {
   "codemirror_mode": "r",
   "file_extension": ".r",
   "mimetype": "text/x-r-source",
   "name": "R",
   "pygments_lexer": "r",
   "version": "4.1.2"
  }
 },
 "nbformat": 4,
 "nbformat_minor": 5
}
