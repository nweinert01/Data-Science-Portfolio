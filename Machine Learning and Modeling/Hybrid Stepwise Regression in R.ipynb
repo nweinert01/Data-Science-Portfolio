{
 "cells": [
  {
   "cell_type": "markdown",
   "id": "2d23b125-3597-45b8-b6d3-ec77566e3da4",
   "metadata": {},
   "source": [
    "# Hybrid Stepwise Regression in R"
   ]
  },
  {
   "cell_type": "code",
   "execution_count": 3,
   "id": "74992e93-89fd-44f0-9fd1-ed43dbb6f57e",
   "metadata": {},
   "outputs": [],
   "source": [
    "FitStart <- lm(mpg~1, data=mtcars)"
   ]
  },
  {
   "cell_type": "code",
   "execution_count": 1,
   "id": "d95275c3-3410-4f69-92dd-f0393ae51261",
   "metadata": {},
   "outputs": [],
   "source": [
    "FitAll <- lm(mpg~., data=mtcars)"
   ]
  },
  {
   "cell_type": "code",
   "execution_count": 4,
   "id": "5eb8ee85-c33a-4f6d-8182-a450c671fbc9",
   "metadata": {},
   "outputs": [
    {
     "name": "stdout",
     "output_type": "stream",
     "text": [
      "Start:  AIC=115.94\n",
      "mpg ~ 1\n",
      "\n",
      "       Df Sum of Sq     RSS     AIC\n",
      "+ wt    1    847.73  278.32  73.217\n",
      "+ cyl   1    817.71  308.33  76.494\n",
      "+ disp  1    808.89  317.16  77.397\n",
      "+ hp    1    678.37  447.67  88.427\n",
      "+ drat  1    522.48  603.57  97.988\n",
      "+ vs    1    496.53  629.52  99.335\n",
      "+ am    1    405.15  720.90 103.672\n",
      "+ carb  1    341.78  784.27 106.369\n",
      "+ gear  1    259.75  866.30 109.552\n",
      "+ qsec  1    197.39  928.66 111.776\n",
      "<none>              1126.05 115.943\n",
      "\n",
      "Step:  AIC=73.22\n",
      "mpg ~ wt\n",
      "\n",
      "       Df Sum of Sq     RSS     AIC\n",
      "+ cyl   1     87.15  191.17  63.198\n",
      "+ hp    1     83.27  195.05  63.840\n",
      "+ qsec  1     82.86  195.46  63.908\n",
      "+ vs    1     54.23  224.09  68.283\n",
      "+ carb  1     44.60  233.72  69.628\n",
      "+ disp  1     31.64  246.68  71.356\n",
      "<none>               278.32  73.217\n",
      "+ drat  1      9.08  269.24  74.156\n",
      "+ gear  1      1.14  277.19  75.086\n",
      "+ am    1      0.00  278.32  75.217\n",
      "- wt    1    847.73 1126.05 115.943\n",
      "\n",
      "Step:  AIC=63.2\n",
      "mpg ~ wt + cyl\n",
      "\n",
      "       Df Sum of Sq    RSS    AIC\n",
      "+ hp    1    14.551 176.62 62.665\n",
      "+ carb  1    13.772 177.40 62.805\n",
      "<none>              191.17 63.198\n",
      "+ qsec  1    10.567 180.60 63.378\n",
      "+ gear  1     3.028 188.14 64.687\n",
      "+ disp  1     2.680 188.49 64.746\n",
      "+ vs    1     0.706 190.47 65.080\n",
      "+ am    1     0.125 191.05 65.177\n",
      "+ drat  1     0.001 191.17 65.198\n",
      "- cyl   1    87.150 278.32 73.217\n",
      "- wt    1   117.162 308.33 76.494\n",
      "\n",
      "Step:  AIC=62.66\n",
      "mpg ~ wt + cyl + hp\n",
      "\n",
      "       Df Sum of Sq    RSS    AIC\n",
      "<none>              176.62 62.665\n",
      "- hp    1    14.551 191.17 63.198\n",
      "+ am    1     6.623 170.00 63.442\n",
      "+ disp  1     6.176 170.44 63.526\n",
      "- cyl   1    18.427 195.05 63.840\n",
      "+ carb  1     2.519 174.10 64.205\n",
      "+ drat  1     2.245 174.38 64.255\n",
      "+ qsec  1     1.401 175.22 64.410\n",
      "+ gear  1     0.856 175.76 64.509\n",
      "+ vs    1     0.060 176.56 64.654\n",
      "- wt    1   115.354 291.98 76.750\n"
     ]
    },
    {
     "data": {
      "text/plain": [
       "\n",
       "Call:\n",
       "lm(formula = mpg ~ wt + cyl + hp, data = mtcars)\n",
       "\n",
       "Coefficients:\n",
       "(Intercept)           wt          cyl           hp  \n",
       "   38.75179     -3.16697     -0.94162     -0.01804  \n"
      ]
     },
     "metadata": {},
     "output_type": "display_data"
    }
   ],
   "source": [
    "step(FitStart, direction=\"both\", scope=formula(FitAll))"
   ]
  },
  {
   "cell_type": "code",
   "execution_count": null,
   "id": "b24d96a2-3757-400c-b3a8-23f4773980fc",
   "metadata": {},
   "outputs": [],
   "source": []
  }
 ],
 "metadata": {
  "kernelspec": {
   "display_name": "R",
   "language": "R",
   "name": "ir"
  },
  "language_info": {
   "codemirror_mode": "r",
   "file_extension": ".r",
   "mimetype": "text/x-r-source",
   "name": "R",
   "pygments_lexer": "r",
   "version": "4.1.2"
  }
 },
 "nbformat": 4,
 "nbformat_minor": 5
}
